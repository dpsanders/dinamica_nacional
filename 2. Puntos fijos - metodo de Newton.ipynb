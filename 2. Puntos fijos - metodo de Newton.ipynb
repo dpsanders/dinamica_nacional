{
 "cells": [
  {
   "cell_type": "markdown",
   "metadata": {},
   "source": [
    "# Puntos fijos y puntos periódicos"
   ]
  },
  {
   "cell_type": "markdown",
   "metadata": {},
   "source": [
    "Sabemos, y/o vimos en el notebook anterior, que los puntos fijos y puntos periódicos son importantes en los sistemas dinámicos.\n",
    "\n",
    "Recordemos que $x^s$ es un **punto fijo** del mapeo $f_\\mu$ si\n",
    "$$ f_\\mu(x^s) = x^s. $$"
   ]
  },
  {
   "cell_type": "markdown",
   "metadata": {},
   "source": [
    "#### Ejercicio\n",
    "\n",
    "¿Cuál es la definición de un punto periódico de periodo $p$?"
   ]
  },
  {
   "cell_type": "markdown",
   "metadata": {},
   "source": [
    "Vimos que el iterar un mapeo permite encontrar puntos fijos y puntos periódicos **estables**. Sin embargo, por definición no permite encontrar los puntos inestables, los cuales juegan un papel muy importante en los sistemas dinámicos, e.g. los caóticos.\n",
    "\n",
    "¿Cómo podemos, entonces, encontrar puntos fijos numéricamente?"
   ]
  },
  {
   "cell_type": "markdown",
   "metadata": {},
   "source": [
    "## El método de Newton"
   ]
  },
  {
   "cell_type": "markdown",
   "metadata": {},
   "source": [
    "Los puntos fijos y los puntos periódicos satisfacen ecuaciones nolineales de la forma\n",
    "$$f_\\mu(x^s) = x^s.$$\n",
    "Queremos, entonces, resolver numéricamente una ecuación nolineal de esta forma.\n",
    "\n",
    "Sabemos que en general no existe ningún método analítico para hacerlo, aún con ecuaciones polinomiales (de grado $\\ge 5$). Por lo tanto, cualquier método de solución deberá ser un **algoritmo iterativo**: consistirá en una iteración, cuyos iterados convergen a la solución de la ecuación."
   ]
  },
  {
   "cell_type": "markdown",
   "metadata": {},
   "source": [
    "Uno de los algoritmos más utilizados es el **método de Newton**. Dada una función $f(x)$, intentará encontrar una **raíz** de $f$, es decir un $x^*$ para la cual $f(x^*) = 0$.\n",
    "\n",
    "Supón que tengamos una adivinanza $x_0$ para la raíz. Queremos encontrar una manera de mejorarla a $x_1 := x_0 + \\delta$; es decir, queremos encontrar una $\\delta$ que acercará la adivinanza inicial a una mejor.\n",
    "\n",
    "Queremos que $x_0 + \\delta$ sea una raíz, por lo cual $f(x_0 + \\delta) = 0$.\n",
    "Expandimos en una serie de Taylor hasta primer orden, lo cual nos da\n",
    "\n",
    "$$ f(x_0) + \\delta \\, f'(x_0) \\simeq 0, $$\n",
    "\n",
    "y por lo tanto\n",
    "\n",
    "$$ x_1 = x_0 - \\frac{f(x_0)}{f'(x_0)}.$$\n",
    "\n",
    "Ahora repetimos para generar la secuencia de aproximaciones $(x_n)$ con\n",
    "\n",
    "$$ x_{n+1} = x_n - \\frac{f(x_n)}{f'(x_n)}.$$\n"
   ]
  },
  {
   "cell_type": "markdown",
   "metadata": {},
   "source": [
    "#### Ejercicio"
   ]
  },
  {
   "cell_type": "markdown",
   "metadata": {},
   "source": [
    "[1] Implementa el algoritmo de Newton. La función `newton` debe aceptar dos funciones, $f$ y $f'$, así como $x_0$. Regresa la raíz después de un cierto número de iteraciones. \n",
    "\n",
    "**Opcional: Repite la iteración hasta que converja, utilizando un bucle `while`.\n",
    "\n",
    "[2] Utilízalo para encontrar la raíz cuadrada de un número $y$, y compara con la función `sqrt` de Julia."
   ]
  },
  {
   "cell_type": "markdown",
   "metadata": {},
   "source": [
    "#### Ejercicio\n",
    "Utiliza el método de Newton para encontrar el punto fijo no trivial del mapeo logístico para distintos valores de $\\mu$."
   ]
  },
  {
   "cell_type": "markdown",
   "metadata": {},
   "source": [
    "## Estabilidad lineal"
   ]
  },
  {
   "cell_type": "markdown",
   "metadata": {},
   "source": [
    "Recuerda que un punto fijo $x^s$ de un mapeo 1D es **estable** si $|f'(x^s)| < 1$.\n",
    "\n",
    "#### Ejercicio\n",
    "\n",
    "Para cada $\\mu$, encuentra la estabilidad del punto fijo correspondiente del mapeo logístico. Dibuja los estables y los inestables de forma separada. ¿Dónde está la bifurcación?"
   ]
  },
  {
   "cell_type": "markdown",
   "metadata": {},
   "source": [
    "## Diferenciación automática"
   ]
  },
  {
   "cell_type": "markdown",
   "metadata": {},
   "source": [
    "Hasta ahora, hemos calculado derivadas de forma manual y analítica. Sin embargo, existe una técnica *archi-poderosa* para calcular derivadas de forma numérica, llamada la **diferenciación automática**. La idea es aplicar las reglas del cálculo diferencial de forma sistemática, pero siempre *numéricamente*.\n",
    "\n",
    "Los detalles se proveen en [este notebook](2a. Diferenciacion automatica.ipynb)."
   ]
  },
  {
   "cell_type": "markdown",
   "metadata": {},
   "source": [
    "Podemos definir un nuevo método de `newton` que utiliza la diferenciación automática proveída por el paquete `ForwardDiff.jl`. \n",
    "\n",
    "Primero definimos una función que calcula la derivada de una función dada:"
   ]
  },
  {
   "cell_type": "code",
   "execution_count": null,
   "metadata": {},
   "outputs": [],
   "source": [
    "deriv(f) = x->ForwardDiff.derivative(f, x)"
   ]
  },
  {
   "cell_type": "markdown",
   "metadata": {},
   "source": [
    "Nota que ¡`deriv` *regresa una función*!"
   ]
  },
  {
   "cell_type": "code",
   "execution_count": 1,
   "metadata": {},
   "outputs": [
    {
     "data": {
      "text/plain": [
       "newton (generic function with 1 method)"
      ]
     },
     "execution_count": 1,
     "metadata": {},
     "output_type": "execute_result"
    }
   ],
   "source": [
    "newton(f, x) = newton(f, deriv(f), x)"
   ]
  },
  {
   "cell_type": "markdown",
   "metadata": {},
   "source": [
    "Aquí, *no* tenemos que repetir el contenido de `newton`; simplemente creamos una nueva *versión* o *método* de `newton`, que echa mano del código ya existente, y ¡le pasa la derivada automática!"
   ]
  },
  {
   "cell_type": "markdown",
   "metadata": {},
   "source": [
    "## Órbitas periódicas"
   ]
  },
  {
   "cell_type": "markdown",
   "metadata": {},
   "source": [
    "#### Ejercicio\n",
    "\n",
    "[1] Define una función `iterar` que acepta una función `f` y un número `n`, y regresa la función iterada $n$ veces (¡como función¡).\n",
    "\n",
    "[2] Verifica que la diferenciación automática ¡funciona automáticamente para derivar las funciones iteradas! [Ojo: Tal vez no sea la manera más eficiente [es decir, rápida] de calcular las derivadas. Ejercicio: Verifícalo.]\n",
    "\n",
    "[3] Así, calcula puntos periódicos del mapeo logístico de periodo 2, 4 etc."
   ]
  },
  {
   "cell_type": "markdown",
   "metadata": {},
   "source": [
    "## Bifurcaciones en el mapeo logístico"
   ]
  },
  {
   "cell_type": "markdown",
   "metadata": {},
   "source": [
    "Sabemos que las bifurcaciones en el mapeo logístico (para valores suficientemente pequeños de $\\mu$) son de tipo doblamiento de periodo (también conocido como \"flip\"), los cuales ocurren cuando la estabilidad del punto periódico cambia, es decir cuando $(f_\\mu^p)'(x^s(\\mu))$ atraviese $-1$.\n",
    "\n",
    "Podemos entonces buscar los valores críticos $\\mu_c$ de $\\mu$, al resolver la ecuación nolineal\n",
    "\n",
    "$$b^p(\\mu) := (f_\\mu^p)'(x^s(\\mu)) + 1 = 0$$\n",
    "\n",
    "para $\\mu$."
   ]
  },
  {
   "cell_type": "markdown",
   "metadata": {},
   "source": [
    "#### Ejercicio\n",
    "\n",
    "[1] Define una función $x^s(f, \\mu)$ que encuentre un punto fijo de $f$.\n",
    "\n",
    "[2] Utiliza el método de Newton para encontrar los valores de $\\mu$ en los cuales ocurren las bifurcaciones."
   ]
  },
  {
   "cell_type": "markdown",
   "metadata": {},
   "source": [
    "## Precisión arbitraria"
   ]
  },
  {
   "cell_type": "markdown",
   "metadata": {},
   "source": [
    "Julia permite trabajar con números de precisión arbitraria, en lugar de los `Float64`. \n",
    "Provee el tipo `BigFloat`, cuya precisión se puede especificar:"
   ]
  },
  {
   "cell_type": "code",
   "execution_count": 4,
   "metadata": {},
   "outputs": [
    {
     "data": {
      "text/plain": [
       "1000"
      ]
     },
     "execution_count": 4,
     "metadata": {},
     "output_type": "execute_result"
    }
   ],
   "source": [
    "setprecision(1000)  # número de bits de precisión"
   ]
  },
  {
   "cell_type": "code",
   "execution_count": 5,
   "metadata": {},
   "outputs": [
    {
     "data": {
      "text/plain": [
       "3.09999999999999999999999999999999999999999999999999999999999999999999999999999999999999999999999999999999999999999999999999999999999999999999999999999999999999999999999999999999999999999999999999999999999999999999999999999999999999999999999999999999999999999999999999999999999999999999999999999999999985"
      ]
     },
     "execution_count": 5,
     "metadata": {},
     "output_type": "execute_result"
    }
   ],
   "source": [
    "x = big\"3.1\""
   ]
  },
  {
   "cell_type": "code",
   "execution_count": 6,
   "metadata": {},
   "outputs": [
    {
     "data": {
      "text/plain": [
       "2.68299999999999999999999999999999999999999999999999999999999999999999999999999999999999999999999999999999999999999999999999999999999999999999999999999999999999999999999999999999999999999999999999999999999999999999999999999999999999999999999999999999999999999999999999999999999999999999999999999999999957e+01"
      ]
     },
     "execution_count": 6,
     "metadata": {},
     "output_type": "execute_result"
    }
   ],
   "source": [
    "3x^2 - 2"
   ]
  },
  {
   "cell_type": "markdown",
   "metadata": {},
   "source": [
    "#### Ejercicio\n",
    "\n",
    "Utiliza `BigFloat` para encontrar los puntos de bifuración con precisión alta.\n",
    "\n",
    "Pista: [*Nunca repitas código*](https://es.wikipedia.org/wiki/No_te_repitas). Escribe las funciones para que funcionen con *cualquier tipo de entrada*, `Float64` o `BigFloat`."
   ]
  }
 ],
 "metadata": {
  "kernelspec": {
   "display_name": "Julia 0.6.2",
   "language": "julia",
   "name": "julia-0.6"
  },
  "language_info": {
   "file_extension": ".jl",
   "mimetype": "application/julia",
   "name": "julia",
   "version": "0.6.2"
  }
 },
 "nbformat": 4,
 "nbformat_minor": 2
}
