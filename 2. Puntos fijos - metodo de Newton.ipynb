{
 "cells": [
  {
   "cell_type": "markdown",
   "metadata": {},
   "source": [
    "# Puntos fijos y puntos periódicos"
   ]
  },
  {
   "cell_type": "markdown",
   "metadata": {},
   "source": [
    "Sabemos, y/o vimos en el notebook anterior, que los puntos fijos y puntos periódicos son importantes en los sistemas dinámicos.\n",
    "\n",
    "Recordemos que $x^s$ es un **punto fijo** del mapeo $f_\\mu$ si\n",
    "$$ f_\\mu(x^s) = x^s. $$"
   ]
  },
  {
   "cell_type": "markdown",
   "metadata": {},
   "source": [
    "#### Ejercicio\n",
    "\n",
    "¿Cuál es la definición de un punto periódico de periodo $p$?"
   ]
  },
  {
   "cell_type": "markdown",
   "metadata": {},
   "source": [
    "Vimos que el iterar un mapeo permite encontrar puntos fijos y puntos periódicos **estables**. Sin embargo, por definición no permite encontrar los puntos inestables, los cuales juegan un papel muy importante en los sistemas dinámicos, e.g. los caóticos.\n",
    "\n",
    "¿Cómo podemos, entonces, encontrar puntos fijos numéricamente?"
   ]
  },
  {
   "cell_type": "markdown",
   "metadata": {},
   "source": [
    "## El método de Newton"
   ]
  },
  {
   "cell_type": "markdown",
   "metadata": {},
   "source": [
    "Los puntos fijos y los puntos periódicos satisfacen ecuaciones nolineales de la forma\n",
    "$$f_\\mu(x^s) = x^s.$$\n",
    "Queremos, entonces, resolver numéricamente una ecuación nolineal de esta forma.\n",
    "\n",
    "Sabemos que en general no existe ningún método analítico para hacerlo, aún con ecuaciones polinomiales (de grado $\\ge 5$). Por lo tanto, cualquier método de solución deberá ser un **algoritmo iterativo**: consistirá en una iteración, cuyos iterados convergen a la solución de la ecuación."
   ]
  },
  {
   "cell_type": "markdown",
   "metadata": {},
   "source": [
    "Uno de los algoritmos más utilizados es el **método de Newton**. Dada una función $f(x)$, intentará encontrar una **raíz** de $f$, es decir un $x^*$ para la cual $f(x^*) = 0$.\n",
    "\n",
    "Supón que tengamos una adivinanza $x_0$ para la raíz. Queremos encontrar una manera de mejorarla a $x_1 := x_0 + \\delta$; es decir, queremos encontrar una $\\delta$ que acercará la adivinanza inicial a una mejor.\n",
    "\n",
    "Queremos que $x_0 + \\delta$ sea una raíz, por lo cual $f(x_0 + \\delta) = 0$.\n",
    "Expandimos en una serie de Taylor hasta primer orden, lo cual nos da\n",
    "\n",
    "$$ f(x_0) + \\delta \\, f'(x_0) \\simeq 0, $$\n",
    "\n",
    "y por lo tanto\n",
    "\n",
    "$$ x_1 = x_0 - \\frac{f(x_0)}{f'(x_0)}.$$\n",
    "\n",
    "Ahora repetimos para generar la secuencia de aproximaciones $(x_n)$ con\n",
    "\n",
    "$$ x_{n+1} = x_n - \\frac{f(x_n)}{f'(x_n)}.$$\n"
   ]
  },
  {
   "cell_type": "markdown",
   "metadata": {},
   "source": [
    "#### Ejercicio"
   ]
  },
  {
   "cell_type": "markdown",
   "metadata": {},
   "source": [
    "[1] Implementa el algoritmo de Newton. La función `newton` debe aceptar dos funciones, $f$ y $f'$, así como $x_0$. Regresa la raíz después de un cierto número de iteraciones. \n",
    "\n",
    "**Opcional: Repite la iteración hasta que converja, utilizando un bucle `while`.\n",
    "\n",
    "[2] Utilízalo para encontrar la raíz cuadrada de un número $y$, y compara con la función `sqrt` de Julia."
   ]
  },
  {
   "cell_type": "code",
   "execution_count": 103,
   "metadata": {},
   "outputs": [
    {
     "data": {
      "text/plain": [
       "newton (generic function with 3 methods)"
      ]
     },
     "execution_count": 103,
     "metadata": {},
     "output_type": "execute_result"
    }
   ],
   "source": [
    "function newton(f, f′, x0, N=20)   # \\prime<TAB>\n",
    "    \n",
    "    x = x0\n",
    "    \n",
    "    for i in 1:N\n",
    "        x = x - ( f(x) / f′(x) )\n",
    "        \n",
    "        # @show x\n",
    "    end\n",
    "    \n",
    "    return x\n",
    "end"
   ]
  },
  {
   "cell_type": "code",
   "execution_count": 6,
   "metadata": {},
   "outputs": [
    {
     "name": "stdout",
     "output_type": "stream",
     "text": [
      "x = 5000.00085\n",
      "x = 2500.002124999711\n",
      "x = 1250.0044624969657\n",
      "x = 625.009031224207\n",
      "x = 312.51811541558686\n",
      "x = 156.28625613111905\n",
      "x = 78.19751544555325\n",
      "x = 39.20745682851635\n",
      "x = 19.82052390898197\n",
      "x = 10.339110356230158\n",
      "x = 5.991676202761852\n",
      "x = 4.41447283936659\n",
      "x = 4.132721139897277\n",
      "x = 4.123116811723828\n",
      "x = 4.123105625632834\n",
      "x = 4.123105625617661\n",
      "x = 4.123105625617661\n",
      "x = 4.123105625617661\n",
      "x = 4.123105625617661\n",
      "x = 4.123105625617661\n"
     ]
    },
    {
     "data": {
      "text/plain": [
       "4.123105625617661"
      ]
     },
     "execution_count": 6,
     "metadata": {},
     "output_type": "execute_result"
    }
   ],
   "source": [
    "y = 17\n",
    "\n",
    "g(x) = x^2 - y\n",
    "g′(x) = 2x\n",
    "\n",
    "newton(g, g′, 10000.0)"
   ]
  },
  {
   "cell_type": "code",
   "execution_count": 5,
   "metadata": {},
   "outputs": [
    {
     "data": {
      "text/plain": [
       "4.123105625617661"
      ]
     },
     "execution_count": 5,
     "metadata": {},
     "output_type": "execute_result"
    }
   ],
   "source": [
    "sqrt(17)"
   ]
  },
  {
   "cell_type": "code",
   "execution_count": 7,
   "metadata": {},
   "outputs": [
    {
     "data": {
      "text/plain": [
       "logistico′ (generic function with 1 method)"
      ]
     },
     "execution_count": 7,
     "metadata": {},
     "output_type": "execute_result"
    }
   ],
   "source": [
    "logistico(μ, x) = μ*x*(1-x)\n",
    "logistico′(μ, x) = μ*(1-2x)"
   ]
  },
  {
   "cell_type": "code",
   "execution_count": null,
   "metadata": {},
   "outputs": [],
   "source": [
    "newton(g, g′, 10000.0)"
   ]
  },
  {
   "cell_type": "code",
   "execution_count": 16,
   "metadata": {},
   "outputs": [
    {
     "data": {
      "text/plain": [
       "punto_fijo (generic function with 1 method)"
      ]
     },
     "execution_count": 16,
     "metadata": {},
     "output_type": "execute_result"
    }
   ],
   "source": [
    "μ = 0.5\n",
    "\n",
    "function punto_fijo(μ)\n",
    "    return newton(x->logistico(μ,x) - x, x->logistico′(μ,x) - 1, 0.5)\n",
    "end"
   ]
  },
  {
   "cell_type": "code",
   "execution_count": 17,
   "metadata": {},
   "outputs": [
    {
     "data": {
      "text/plain": [
       "0.0"
      ]
     },
     "execution_count": 17,
     "metadata": {},
     "output_type": "execute_result"
    }
   ],
   "source": [
    "punto_fijo(0.5)"
   ]
  },
  {
   "cell_type": "code",
   "execution_count": 18,
   "metadata": {},
   "outputs": [
    {
     "data": {
      "text/plain": [
       "0.09090909090909108"
      ]
     },
     "execution_count": 18,
     "metadata": {},
     "output_type": "execute_result"
    }
   ],
   "source": [
    "punto_fijo(1.1)"
   ]
  },
  {
   "cell_type": "code",
   "execution_count": 19,
   "metadata": {},
   "outputs": [
    {
     "data": {
      "text/plain": [
       "0.6666666666666667"
      ]
     },
     "execution_count": 19,
     "metadata": {},
     "output_type": "execute_result"
    }
   ],
   "source": [
    "punto_fijo(3.0)"
   ]
  },
  {
   "cell_type": "code",
   "execution_count": 20,
   "metadata": {},
   "outputs": [
    {
     "data": {
      "text/plain": [
       "0.7142857142857143"
      ]
     },
     "execution_count": 20,
     "metadata": {},
     "output_type": "execute_result"
    }
   ],
   "source": [
    "punto_fijo(3.5)"
   ]
  },
  {
   "cell_type": "code",
   "execution_count": 21,
   "metadata": {},
   "outputs": [],
   "source": [
    "μs = 0:0.01:4.0\n",
    "\n",
    "puntos_fijos = [ ]   # o Float64[ ]\n",
    "\n",
    "for μ in μs\n",
    "    push!(puntos_fijos, punto_fijo(μ))\n",
    "end"
   ]
  },
  {
   "cell_type": "code",
   "execution_count": 25,
   "metadata": {},
   "outputs": [
    {
     "data": {
      "text/plain": [
       "401-element Array{Any,1}:\n",
       " 0.0     \n",
       " 0.0     \n",
       " 0.0     \n",
       " 0.0     \n",
       " 0.0     \n",
       " 0.0     \n",
       " 0.0     \n",
       " 0.0     \n",
       " 0.0     \n",
       " 0.0     \n",
       " 0.0     \n",
       " 0.0     \n",
       " 0.0     \n",
       " ⋮       \n",
       " 0.742931\n",
       " 0.74359 \n",
       " 0.744246\n",
       " 0.744898\n",
       " 0.745547\n",
       " 0.746193\n",
       " 0.746835\n",
       " 0.747475\n",
       " 0.748111\n",
       " 0.748744\n",
       " 0.749373\n",
       " 0.75    "
      ]
     },
     "execution_count": 25,
     "metadata": {},
     "output_type": "execute_result"
    }
   ],
   "source": [
    "puntos_fijos"
   ]
  },
  {
   "cell_type": "markdown",
   "metadata": {},
   "source": [
    "Para aplicar la función `punto_fijo` a cada elemento de `puntos_fijos`:"
   ]
  },
  {
   "cell_type": "code",
   "execution_count": 27,
   "metadata": {},
   "outputs": [
    {
     "data": {
      "text/plain": [
       "401-element Array{Float64,1}:\n",
       " 0.0     \n",
       " 0.0     \n",
       " 0.0     \n",
       " 0.0     \n",
       " 0.0     \n",
       " 0.0     \n",
       " 0.0     \n",
       " 0.0     \n",
       " 0.0     \n",
       " 0.0     \n",
       " 0.0     \n",
       " 0.0     \n",
       " 0.0     \n",
       " ⋮       \n",
       " 0.742931\n",
       " 0.74359 \n",
       " 0.744246\n",
       " 0.744898\n",
       " 0.745547\n",
       " 0.746193\n",
       " 0.746835\n",
       " 0.747475\n",
       " 0.748111\n",
       " 0.748744\n",
       " 0.749373\n",
       " 0.75    "
      ]
     },
     "execution_count": 27,
     "metadata": {},
     "output_type": "execute_result"
    }
   ],
   "source": [
    "puntos_fijos = punto_fijo.(μs)   # \"broadcasting\""
   ]
  },
  {
   "cell_type": "code",
   "execution_count": 22,
   "metadata": {},
   "outputs": [
    {
     "data": {
      "text/plain": [
       "Plots.GRBackend()"
      ]
     },
     "execution_count": 22,
     "metadata": {},
     "output_type": "execute_result"
    }
   ],
   "source": [
    "using Plots; gr()"
   ]
  },
  {
   "cell_type": "code",
   "execution_count": 24,
   "metadata": {},
   "outputs": [
    {
     "data": {
      "image/svg+xml": [
       "<?xml version=\"1.0\" encoding=\"utf-8\"?>\n",
       "<svg xmlns=\"http://www.w3.org/2000/svg\" xmlns:xlink=\"http://www.w3.org/1999/xlink\" width=\"600\" height=\"400\" viewBox=\"0 0 600 400\">\n",
       "<defs>\n",
       "  <clipPath id=\"clip3800\">\n",
       "    <rect x=\"0\" y=\"0\" width=\"600\" height=\"400\"/>\n",
       "  </clipPath>\n",
       "</defs>\n",
       "<polygon clip-path=\"url(#clip3800)\" points=\"\n",
       "0,400 600,400 600,0 0,0 \n",
       "  \" fill=\"#ffffff\" fill-opacity=\"1\"/>\n",
       "<defs>\n",
       "  <clipPath id=\"clip3801\">\n",
       "    <rect x=\"120\" y=\"0\" width=\"421\" height=\"400\"/>\n",
       "  </clipPath>\n",
       "</defs>\n",
       "<polygon clip-path=\"url(#clip3800)\" points=\"\n",
       "32.4745,375.869 580.315,375.869 580.315,11.811 32.4745,11.811 \n",
       "  \" fill=\"#ffffff\" fill-opacity=\"1\"/>\n",
       "<defs>\n",
       "  <clipPath id=\"clip3802\">\n",
       "    <rect x=\"32\" y=\"11\" width=\"549\" height=\"365\"/>\n",
       "  </clipPath>\n",
       "</defs>\n",
       "<polyline clip-path=\"url(#clip3802)\" style=\"stroke:#000000; stroke-width:0.5; stroke-opacity:0.1; fill:none\" points=\"\n",
       "  32.4745,375.869 32.4745,11.811 \n",
       "  \"/>\n",
       "<polyline clip-path=\"url(#clip3802)\" style=\"stroke:#000000; stroke-width:0.5; stroke-opacity:0.1; fill:none\" points=\"\n",
       "  169.435,375.869 169.435,11.811 \n",
       "  \"/>\n",
       "<polyline clip-path=\"url(#clip3802)\" style=\"stroke:#000000; stroke-width:0.5; stroke-opacity:0.1; fill:none\" points=\"\n",
       "  306.395,375.869 306.395,11.811 \n",
       "  \"/>\n",
       "<polyline clip-path=\"url(#clip3802)\" style=\"stroke:#000000; stroke-width:0.5; stroke-opacity:0.1; fill:none\" points=\"\n",
       "  443.355,375.869 443.355,11.811 \n",
       "  \"/>\n",
       "<polyline clip-path=\"url(#clip3802)\" style=\"stroke:#000000; stroke-width:0.5; stroke-opacity:0.1; fill:none\" points=\"\n",
       "  580.315,375.869 580.315,11.811 \n",
       "  \"/>\n",
       "<polyline clip-path=\"url(#clip3802)\" style=\"stroke:#000000; stroke-width:0.5; stroke-opacity:0.1; fill:none\" points=\"\n",
       "  32.4745,375.869 580.315,375.869 \n",
       "  \"/>\n",
       "<polyline clip-path=\"url(#clip3802)\" style=\"stroke:#000000; stroke-width:0.5; stroke-opacity:0.1; fill:none\" points=\"\n",
       "  32.4745,278.787 580.315,278.787 \n",
       "  \"/>\n",
       "<polyline clip-path=\"url(#clip3802)\" style=\"stroke:#000000; stroke-width:0.5; stroke-opacity:0.1; fill:none\" points=\"\n",
       "  32.4745,181.705 580.315,181.705 \n",
       "  \"/>\n",
       "<polyline clip-path=\"url(#clip3802)\" style=\"stroke:#000000; stroke-width:0.5; stroke-opacity:0.1; fill:none\" points=\"\n",
       "  32.4745,84.6226 580.315,84.6226 \n",
       "  \"/>\n",
       "<polyline clip-path=\"url(#clip3800)\" style=\"stroke:#000000; stroke-width:1; stroke-opacity:1; fill:none\" points=\"\n",
       "  32.4745,375.869 580.315,375.869 \n",
       "  \"/>\n",
       "<polyline clip-path=\"url(#clip3800)\" style=\"stroke:#000000; stroke-width:1; stroke-opacity:1; fill:none\" points=\"\n",
       "  32.4745,375.869 32.4745,11.811 \n",
       "  \"/>\n",
       "<polyline clip-path=\"url(#clip3800)\" style=\"stroke:#000000; stroke-width:1; stroke-opacity:1; fill:none\" points=\"\n",
       "  32.4745,375.869 32.4745,370.408 \n",
       "  \"/>\n",
       "<polyline clip-path=\"url(#clip3800)\" style=\"stroke:#000000; stroke-width:1; stroke-opacity:1; fill:none\" points=\"\n",
       "  169.435,375.869 169.435,370.408 \n",
       "  \"/>\n",
       "<polyline clip-path=\"url(#clip3800)\" style=\"stroke:#000000; stroke-width:1; stroke-opacity:1; fill:none\" points=\"\n",
       "  306.395,375.869 306.395,370.408 \n",
       "  \"/>\n",
       "<polyline clip-path=\"url(#clip3800)\" style=\"stroke:#000000; stroke-width:1; stroke-opacity:1; fill:none\" points=\"\n",
       "  443.355,375.869 443.355,370.408 \n",
       "  \"/>\n",
       "<polyline clip-path=\"url(#clip3800)\" style=\"stroke:#000000; stroke-width:1; stroke-opacity:1; fill:none\" points=\"\n",
       "  580.315,375.869 580.315,370.408 \n",
       "  \"/>\n",
       "<polyline clip-path=\"url(#clip3800)\" style=\"stroke:#000000; stroke-width:1; stroke-opacity:1; fill:none\" points=\"\n",
       "  32.4745,375.869 40.6921,375.869 \n",
       "  \"/>\n",
       "<polyline clip-path=\"url(#clip3800)\" style=\"stroke:#000000; stroke-width:1; stroke-opacity:1; fill:none\" points=\"\n",
       "  32.4745,278.787 40.6921,278.787 \n",
       "  \"/>\n",
       "<polyline clip-path=\"url(#clip3800)\" style=\"stroke:#000000; stroke-width:1; stroke-opacity:1; fill:none\" points=\"\n",
       "  32.4745,181.705 40.6921,181.705 \n",
       "  \"/>\n",
       "<polyline clip-path=\"url(#clip3800)\" style=\"stroke:#000000; stroke-width:1; stroke-opacity:1; fill:none\" points=\"\n",
       "  32.4745,84.6226 40.6921,84.6226 \n",
       "  \"/>\n",
       "<g clip-path=\"url(#clip3800)\">\n",
       "<text style=\"fill:#000000; fill-opacity:1; font-family:Arial,Helvetica Neue,Helvetica,sans-serif; font-size:12; text-anchor:middle;\" transform=\"rotate(0, 32.4745, 389.669)\" x=\"32.4745\" y=\"389.669\">0</text>\n",
       "</g>\n",
       "<g clip-path=\"url(#clip3800)\">\n",
       "<text style=\"fill:#000000; fill-opacity:1; font-family:Arial,Helvetica Neue,Helvetica,sans-serif; font-size:12; text-anchor:middle;\" transform=\"rotate(0, 169.435, 389.669)\" x=\"169.435\" y=\"389.669\">1</text>\n",
       "</g>\n",
       "<g clip-path=\"url(#clip3800)\">\n",
       "<text style=\"fill:#000000; fill-opacity:1; font-family:Arial,Helvetica Neue,Helvetica,sans-serif; font-size:12; text-anchor:middle;\" transform=\"rotate(0, 306.395, 389.669)\" x=\"306.395\" y=\"389.669\">2</text>\n",
       "</g>\n",
       "<g clip-path=\"url(#clip3800)\">\n",
       "<text style=\"fill:#000000; fill-opacity:1; font-family:Arial,Helvetica Neue,Helvetica,sans-serif; font-size:12; text-anchor:middle;\" transform=\"rotate(0, 443.355, 389.669)\" x=\"443.355\" y=\"389.669\">3</text>\n",
       "</g>\n",
       "<g clip-path=\"url(#clip3800)\">\n",
       "<text style=\"fill:#000000; fill-opacity:1; font-family:Arial,Helvetica Neue,Helvetica,sans-serif; font-size:12; text-anchor:middle;\" transform=\"rotate(0, 580.315, 389.669)\" x=\"580.315\" y=\"389.669\">4</text>\n",
       "</g>\n",
       "<g clip-path=\"url(#clip3800)\">\n",
       "<text style=\"fill:#000000; fill-opacity:1; font-family:Arial,Helvetica Neue,Helvetica,sans-serif; font-size:12; text-anchor:end;\" transform=\"rotate(0, 26.4745, 380.369)\" x=\"26.4745\" y=\"380.369\">0.0</text>\n",
       "</g>\n",
       "<g clip-path=\"url(#clip3800)\">\n",
       "<text style=\"fill:#000000; fill-opacity:1; font-family:Arial,Helvetica Neue,Helvetica,sans-serif; font-size:12; text-anchor:end;\" transform=\"rotate(0, 26.4745, 283.287)\" x=\"26.4745\" y=\"283.287\">0.2</text>\n",
       "</g>\n",
       "<g clip-path=\"url(#clip3800)\">\n",
       "<text style=\"fill:#000000; fill-opacity:1; font-family:Arial,Helvetica Neue,Helvetica,sans-serif; font-size:12; text-anchor:end;\" transform=\"rotate(0, 26.4745, 186.205)\" x=\"26.4745\" y=\"186.205\">0.4</text>\n",
       "</g>\n",
       "<g clip-path=\"url(#clip3800)\">\n",
       "<text style=\"fill:#000000; fill-opacity:1; font-family:Arial,Helvetica Neue,Helvetica,sans-serif; font-size:12; text-anchor:end;\" transform=\"rotate(0, 26.4745, 89.1226)\" x=\"26.4745\" y=\"89.1226\">0.6</text>\n",
       "</g>\n",
       "<polyline clip-path=\"url(#clip3802)\" style=\"stroke:#009af9; stroke-width:1; stroke-opacity:1; fill:none\" points=\"\n",
       "  32.4745,375.869 33.8441,375.869 35.2137,375.869 36.5833,375.869 37.9529,375.869 39.3225,375.869 40.6921,375.869 42.0617,375.869 43.4313,375.869 44.8009,375.869 \n",
       "  46.1705,375.869 47.5401,375.869 48.9097,375.869 50.2793,375.869 51.6489,375.869 53.0185,375.869 54.3881,375.869 55.7577,375.869 57.1273,375.869 58.4969,375.869 \n",
       "  59.8665,375.869 61.2361,375.869 62.6057,375.869 63.9753,375.869 65.3449,375.869 66.7145,375.869 68.0841,375.869 69.4537,375.869 70.8233,375.869 72.1929,375.869 \n",
       "  73.5625,375.869 74.9321,375.869 76.3017,375.869 77.6713,375.869 79.0409,375.869 80.4105,375.869 81.7801,375.869 83.1497,375.869 84.5193,375.869 85.8889,375.869 \n",
       "  87.2585,375.869 88.6281,375.869 89.9977,375.869 91.3673,375.869 92.7369,375.869 94.1065,375.869 95.4761,375.869 96.8457,375.869 98.2153,375.869 99.585,375.869 \n",
       "  100.955,375.869 102.324,375.869 103.694,375.869 105.063,375.869 106.433,375.869 107.803,375.869 109.172,375.869 110.542,375.869 111.911,375.869 113.281,375.869 \n",
       "  114.651,375.869 116.02,375.869 117.39,375.869 118.759,375.869 120.129,375.869 121.499,375.869 122.868,375.869 124.238,375.869 125.607,375.869 126.977,375.869 \n",
       "  128.347,375.869 129.716,375.869 131.086,375.869 132.455,375.869 133.825,375.869 135.195,375.869 136.564,375.869 137.934,375.869 139.303,375.869 140.673,375.869 \n",
       "  142.043,375.869 143.412,375.869 144.782,375.869 146.151,375.869 147.521,375.869 148.891,375.869 150.26,375.869 151.63,375.869 152.999,375.869 154.369,375.869 \n",
       "  155.739,375.869 157.108,375.869 158.478,375.869 159.847,375.869 161.217,375.869 162.587,375.869 163.956,375.869 165.326,375.869 166.695,375.869 168.065,375.869 \n",
       "  169.435,375.868 170.804,371.063 172.174,366.351 173.543,361.731 174.913,357.199 176.283,352.754 177.652,348.393 179.022,344.113 180.391,339.912 181.761,335.789 \n",
       "  183.131,331.74 184.5,327.765 185.87,323.86 187.239,320.025 188.609,316.257 189.979,312.554 191.348,308.916 192.718,305.339 194.087,301.823 195.457,298.366 \n",
       "  196.827,294.967 198.196,291.624 199.566,288.336 200.935,285.101 202.305,281.918 203.675,278.787 205.044,275.705 206.414,272.671 207.783,269.685 209.153,266.745 \n",
       "  210.523,263.851 211.892,261.001 213.262,258.193 214.631,255.429 216.001,252.705 217.371,250.022 218.74,247.378 220.11,244.772 221.479,242.205 222.849,239.674 \n",
       "  224.219,237.18 225.588,234.721 226.958,232.297 228.327,229.906 229.697,227.549 231.067,225.224 232.436,222.931 233.806,220.669 235.175,218.438 236.545,216.237 \n",
       "  237.915,214.065 239.284,211.922 240.654,209.807 242.023,207.72 243.393,205.66 244.763,203.626 246.132,201.619 247.502,199.637 248.871,197.68 250.241,195.748 \n",
       "  251.611,193.84 252.98,191.955 254.35,190.094 255.719,188.256 257.089,186.44 258.459,184.646 259.828,182.874 261.198,181.123 262.567,179.393 263.937,177.683 \n",
       "  265.307,175.994 266.676,174.324 268.046,172.674 269.415,171.042 270.785,169.43 272.155,167.836 273.524,166.26 274.894,164.702 276.264,163.161 277.633,161.637 \n",
       "  279.003,160.131 280.372,158.641 281.742,157.167 283.112,155.71 284.481,154.268 285.851,152.842 287.22,151.432 288.59,150.036 289.96,148.655 291.329,147.289 \n",
       "  292.699,145.938 294.068,144.6 295.438,143.276 296.808,141.966 298.177,140.67 299.547,139.387 300.916,138.117 302.286,136.86 303.656,135.615 305.025,134.383 \n",
       "  306.395,133.164 307.764,131.956 309.134,130.761 310.504,129.577 311.873,128.405 313.243,127.244 314.612,126.094 315.982,124.956 317.352,123.829 318.721,122.712 \n",
       "  320.091,121.606 321.46,120.511 322.83,119.426 324.2,118.351 325.569,117.286 326.939,116.231 328.308,115.185 329.678,114.15 331.048,113.124 332.417,112.107 \n",
       "  333.787,111.099 335.156,110.101 336.526,109.112 337.896,108.131 339.265,107.159 340.635,106.196 342.004,105.242 343.374,104.296 344.744,103.358 346.113,102.428 \n",
       "  347.483,101.506 348.852,100.593 350.222,99.687 351.592,98.789 352.961,97.8987 354.331,97.016 355.7,96.1408 357.07,95.2729 358.44,94.4123 359.809,93.559 \n",
       "  361.179,92.7127 362.548,91.8735 363.918,91.0412 365.288,90.2158 366.657,89.3971 368.027,88.5851 369.396,87.7797 370.766,86.9808 372.136,86.1884 373.505,85.4023 \n",
       "  374.875,84.6226 376.244,83.849 377.614,83.0816 378.984,82.3202 380.353,81.5649 381.723,80.8154 383.092,80.0718 384.462,79.334 385.832,78.602 387.201,77.8755 \n",
       "  388.571,77.1547 389.94,76.4394 391.31,75.7295 392.68,75.0251 394.049,74.326 395.419,73.6321 396.788,72.9435 398.158,72.26 399.528,71.5817 400.897,70.9084 \n",
       "  402.267,70.24 403.636,69.5766 405.006,68.9181 406.376,68.2644 407.745,67.6155 409.115,66.9713 410.484,66.3317 411.854,65.6968 413.224,65.0665 414.593,64.4406 \n",
       "  415.963,63.8193 417.332,63.2023 418.702,62.5898 420.072,61.9815 421.441,61.3776 422.811,60.7778 424.18,60.1823 425.55,59.5909 426.92,59.0037 428.289,58.4205 \n",
       "  429.659,57.8413 431.028,57.2661 432.398,56.6948 433.768,56.1275 435.137,55.564 436.507,55.0043 437.876,54.4484 439.246,53.8963 440.616,53.3478 441.985,52.803 \n",
       "  443.355,52.2619 444.724,51.7243 446.094,51.1903 447.464,50.6599 448.833,50.1329 450.203,49.6094 451.572,49.0893 452.942,48.5725 454.312,48.0592 455.681,47.5492 \n",
       "  457.051,47.0424 458.42,46.5389 459.79,46.0387 461.16,45.5416 462.529,45.0477 463.899,44.557 465.268,44.0693 466.638,43.5847 468.008,43.1032 469.377,42.6247 \n",
       "  470.747,42.1492 472.116,41.6766 473.486,41.207 474.856,40.7403 476.225,40.2764 477.595,39.8155 478.964,39.3573 480.334,38.902 481.704,38.4494 483.073,37.9996 \n",
       "  484.443,37.5525 485.812,37.1081 487.182,36.6664 488.552,36.2273 489.921,35.7909 491.291,35.357 492.66,34.9258 494.03,34.4971 495.4,34.071 496.769,33.6473 \n",
       "  498.139,33.2262 499.508,32.8075 500.878,32.3913 502.248,31.9775 503.617,31.5661 504.987,31.1571 506.356,30.7504 507.726,30.3461 509.096,29.9442 510.465,29.5445 \n",
       "  511.835,29.1471 513.205,28.752 514.574,28.3591 515.944,27.9684 517.313,27.58 518.683,27.1937 520.053,26.8097 521.422,26.4277 522.792,26.0479 524.161,25.6702 \n",
       "  525.531,25.2946 526.901,24.9211 528.27,24.5497 529.64,24.1803 531.009,23.8129 532.379,23.4476 533.749,23.0842 535.118,22.7228 536.488,22.3634 537.857,22.006 \n",
       "  539.227,21.6504 540.597,21.2968 541.966,20.9451 543.336,20.5953 544.705,20.2473 546.075,19.9012 547.445,19.5569 548.814,19.2145 550.184,18.8739 551.553,18.535 \n",
       "  552.923,18.198 554.293,17.8627 555.662,17.5292 557.032,17.1974 558.401,16.8674 559.771,16.539 561.141,16.2124 562.51,15.8875 563.88,15.5642 565.249,15.2426 \n",
       "  566.619,14.9226 567.989,14.6043 569.358,14.2876 570.728,13.9725 572.097,13.659 573.467,13.3471 574.837,13.0368 576.206,12.728 577.576,12.4208 578.945,12.1152 \n",
       "  580.315,11.811 \n",
       "  \"/>\n",
       "<polygon clip-path=\"url(#clip3800)\" points=\"\n",
       "489.608,62.931 562.315,62.931 562.315,32.691 489.608,32.691 \n",
       "  \" fill=\"#ffffff\" fill-opacity=\"1\"/>\n",
       "<polyline clip-path=\"url(#clip3800)\" style=\"stroke:#000000; stroke-width:1; stroke-opacity:1; fill:none\" points=\"\n",
       "  489.608,62.931 562.315,62.931 562.315,32.691 489.608,32.691 489.608,62.931 \n",
       "  \"/>\n",
       "<polyline clip-path=\"url(#clip3800)\" style=\"stroke:#009af9; stroke-width:1; stroke-opacity:1; fill:none\" points=\"\n",
       "  495.608,47.811 531.608,47.811 \n",
       "  \"/>\n",
       "<g clip-path=\"url(#clip3800)\">\n",
       "<text style=\"fill:#000000; fill-opacity:1; font-family:Arial,Helvetica Neue,Helvetica,sans-serif; font-size:12; text-anchor:start;\" transform=\"rotate(0, 537.608, 52.311)\" x=\"537.608\" y=\"52.311\">y1</text>\n",
       "</g>\n",
       "</svg>\n"
      ]
     },
     "execution_count": 24,
     "metadata": {},
     "output_type": "execute_result"
    }
   ],
   "source": [
    "plot(μs, puntos_fijos)"
   ]
  },
  {
   "cell_type": "markdown",
   "metadata": {},
   "source": [
    "#### Ejercicio\n",
    "Utiliza el método de Newton para encontrar el punto fijo no trivial del mapeo logístico para distintos valores de $\\mu$."
   ]
  },
  {
   "cell_type": "markdown",
   "metadata": {},
   "source": [
    "## Estabilidad lineal"
   ]
  },
  {
   "cell_type": "markdown",
   "metadata": {},
   "source": [
    "Recuerda que un punto fijo $x^s$ de un mapeo 1D es **estable** si $|f'(x^s)| < 1$.\n",
    "\n",
    "#### Ejercicio\n",
    "\n",
    "Para cada $\\mu$, encuentra la estabilidad del punto fijo correspondiente del mapeo logístico. Dibuja los estables y los inestables de forma separada. ¿Dónde está la bifurcación?"
   ]
  },
  {
   "cell_type": "code",
   "execution_count": 29,
   "metadata": {},
   "outputs": [],
   "source": [
    "estabilidades = Bool[ ]\n",
    "\n",
    "for i in 1:length(μs)\n",
    "    μ = μs[i]\n",
    "    x_fijo = puntos_fijos[i]\n",
    "    \n",
    "    if abs(logistico′(μ, x_fijo)) < 1\n",
    "        estable = true\n",
    "        \n",
    "    else\n",
    "        estable = false\n",
    "    end\n",
    "    \n",
    "    push!(estabilidades, estable)\n",
    "end"
   ]
  },
  {
   "cell_type": "code",
   "execution_count": 30,
   "metadata": {},
   "outputs": [
    {
     "data": {
      "text/plain": [
       "401-element Array{Bool,1}:\n",
       "  true\n",
       "  true\n",
       "  true\n",
       "  true\n",
       "  true\n",
       "  true\n",
       "  true\n",
       "  true\n",
       "  true\n",
       "  true\n",
       "  true\n",
       "  true\n",
       "  true\n",
       "     ⋮\n",
       " false\n",
       " false\n",
       " false\n",
       " false\n",
       " false\n",
       " false\n",
       " false\n",
       " false\n",
       " false\n",
       " false\n",
       " false\n",
       " false"
      ]
     },
     "execution_count": 30,
     "metadata": {},
     "output_type": "execute_result"
    }
   ],
   "source": [
    "estabilidades"
   ]
  },
  {
   "cell_type": "code",
   "execution_count": 31,
   "metadata": {},
   "outputs": [
    {
     "data": {
      "text/plain": [
       "false"
      ]
     },
     "execution_count": 31,
     "metadata": {},
     "output_type": "execute_result"
    }
   ],
   "source": [
    "estable = ( abs(3) < 1 )"
   ]
  },
  {
   "cell_type": "code",
   "execution_count": 32,
   "metadata": {},
   "outputs": [
    {
     "data": {
      "text/plain": [
       "300-element Array{Float64,1}:\n",
       " 0.0     \n",
       " 0.0     \n",
       " 0.0     \n",
       " 0.0     \n",
       " 0.0     \n",
       " 0.0     \n",
       " 0.0     \n",
       " 0.0     \n",
       " 0.0     \n",
       " 0.0     \n",
       " 0.0     \n",
       " 0.0     \n",
       " 0.0     \n",
       " ⋮       \n",
       " 0.652778\n",
       " 0.653979\n",
       " 0.655172\n",
       " 0.656357\n",
       " 0.657534\n",
       " 0.658703\n",
       " 0.659864\n",
       " 0.661017\n",
       " 0.662162\n",
       " 0.6633  \n",
       " 0.66443 \n",
       " 0.665552"
      ]
     },
     "execution_count": 32,
     "metadata": {},
     "output_type": "execute_result"
    }
   ],
   "source": [
    "puntos_fijos[estabilidades]"
   ]
  },
  {
   "cell_type": "code",
   "execution_count": 43,
   "metadata": {},
   "outputs": [
    {
     "data": {
      "image/svg+xml": [
       "<?xml version=\"1.0\" encoding=\"utf-8\"?>\n",
       "<svg xmlns=\"http://www.w3.org/2000/svg\" xmlns:xlink=\"http://www.w3.org/1999/xlink\" width=\"600\" height=\"400\" viewBox=\"0 0 600 400\">\n",
       "<defs>\n",
       "  <clipPath id=\"clip5800\">\n",
       "    <rect x=\"0\" y=\"0\" width=\"600\" height=\"400\"/>\n",
       "  </clipPath>\n",
       "</defs>\n",
       "<polygon clip-path=\"url(#clip5800)\" points=\"\n",
       "0,400 600,400 600,0 0,0 \n",
       "  \" fill=\"#ffffff\" fill-opacity=\"1\"/>\n",
       "<defs>\n",
       "  <clipPath id=\"clip5801\">\n",
       "    <rect x=\"120\" y=\"0\" width=\"421\" height=\"400\"/>\n",
       "  </clipPath>\n",
       "</defs>\n",
       "<polygon clip-path=\"url(#clip5800)\" points=\"\n",
       "32.4745,375.869 580.315,375.869 580.315,11.811 32.4745,11.811 \n",
       "  \" fill=\"#ffffff\" fill-opacity=\"1\"/>\n",
       "<defs>\n",
       "  <clipPath id=\"clip5802\">\n",
       "    <rect x=\"32\" y=\"11\" width=\"549\" height=\"365\"/>\n",
       "  </clipPath>\n",
       "</defs>\n",
       "<polyline clip-path=\"url(#clip5802)\" style=\"stroke:#000000; stroke-width:0.5; stroke-opacity:0.1; fill:none\" points=\"\n",
       "  32.4745,375.869 32.4745,11.811 \n",
       "  \"/>\n",
       "<polyline clip-path=\"url(#clip5802)\" style=\"stroke:#000000; stroke-width:0.5; stroke-opacity:0.1; fill:none\" points=\"\n",
       "  169.435,375.869 169.435,11.811 \n",
       "  \"/>\n",
       "<polyline clip-path=\"url(#clip5802)\" style=\"stroke:#000000; stroke-width:0.5; stroke-opacity:0.1; fill:none\" points=\"\n",
       "  306.395,375.869 306.395,11.811 \n",
       "  \"/>\n",
       "<polyline clip-path=\"url(#clip5802)\" style=\"stroke:#000000; stroke-width:0.5; stroke-opacity:0.1; fill:none\" points=\"\n",
       "  443.355,375.869 443.355,11.811 \n",
       "  \"/>\n",
       "<polyline clip-path=\"url(#clip5802)\" style=\"stroke:#000000; stroke-width:0.5; stroke-opacity:0.1; fill:none\" points=\"\n",
       "  580.315,375.869 580.315,11.811 \n",
       "  \"/>\n",
       "<polyline clip-path=\"url(#clip5802)\" style=\"stroke:#000000; stroke-width:0.5; stroke-opacity:0.1; fill:none\" points=\"\n",
       "  32.4745,375.869 580.315,375.869 \n",
       "  \"/>\n",
       "<polyline clip-path=\"url(#clip5802)\" style=\"stroke:#000000; stroke-width:0.5; stroke-opacity:0.1; fill:none\" points=\"\n",
       "  32.4745,278.787 580.315,278.787 \n",
       "  \"/>\n",
       "<polyline clip-path=\"url(#clip5802)\" style=\"stroke:#000000; stroke-width:0.5; stroke-opacity:0.1; fill:none\" points=\"\n",
       "  32.4745,181.705 580.315,181.705 \n",
       "  \"/>\n",
       "<polyline clip-path=\"url(#clip5802)\" style=\"stroke:#000000; stroke-width:0.5; stroke-opacity:0.1; fill:none\" points=\"\n",
       "  32.4745,84.6226 580.315,84.6226 \n",
       "  \"/>\n",
       "<polyline clip-path=\"url(#clip5800)\" style=\"stroke:#000000; stroke-width:1; stroke-opacity:1; fill:none\" points=\"\n",
       "  32.4745,375.869 580.315,375.869 \n",
       "  \"/>\n",
       "<polyline clip-path=\"url(#clip5800)\" style=\"stroke:#000000; stroke-width:1; stroke-opacity:1; fill:none\" points=\"\n",
       "  32.4745,375.869 32.4745,11.811 \n",
       "  \"/>\n",
       "<polyline clip-path=\"url(#clip5800)\" style=\"stroke:#000000; stroke-width:1; stroke-opacity:1; fill:none\" points=\"\n",
       "  32.4745,375.869 32.4745,370.408 \n",
       "  \"/>\n",
       "<polyline clip-path=\"url(#clip5800)\" style=\"stroke:#000000; stroke-width:1; stroke-opacity:1; fill:none\" points=\"\n",
       "  169.435,375.869 169.435,370.408 \n",
       "  \"/>\n",
       "<polyline clip-path=\"url(#clip5800)\" style=\"stroke:#000000; stroke-width:1; stroke-opacity:1; fill:none\" points=\"\n",
       "  306.395,375.869 306.395,370.408 \n",
       "  \"/>\n",
       "<polyline clip-path=\"url(#clip5800)\" style=\"stroke:#000000; stroke-width:1; stroke-opacity:1; fill:none\" points=\"\n",
       "  443.355,375.869 443.355,370.408 \n",
       "  \"/>\n",
       "<polyline clip-path=\"url(#clip5800)\" style=\"stroke:#000000; stroke-width:1; stroke-opacity:1; fill:none\" points=\"\n",
       "  580.315,375.869 580.315,370.408 \n",
       "  \"/>\n",
       "<polyline clip-path=\"url(#clip5800)\" style=\"stroke:#000000; stroke-width:1; stroke-opacity:1; fill:none\" points=\"\n",
       "  32.4745,375.869 40.6921,375.869 \n",
       "  \"/>\n",
       "<polyline clip-path=\"url(#clip5800)\" style=\"stroke:#000000; stroke-width:1; stroke-opacity:1; fill:none\" points=\"\n",
       "  32.4745,278.787 40.6921,278.787 \n",
       "  \"/>\n",
       "<polyline clip-path=\"url(#clip5800)\" style=\"stroke:#000000; stroke-width:1; stroke-opacity:1; fill:none\" points=\"\n",
       "  32.4745,181.705 40.6921,181.705 \n",
       "  \"/>\n",
       "<polyline clip-path=\"url(#clip5800)\" style=\"stroke:#000000; stroke-width:1; stroke-opacity:1; fill:none\" points=\"\n",
       "  32.4745,84.6226 40.6921,84.6226 \n",
       "  \"/>\n",
       "<g clip-path=\"url(#clip5800)\">\n",
       "<text style=\"fill:#000000; fill-opacity:1; font-family:Arial,Helvetica Neue,Helvetica,sans-serif; font-size:12; text-anchor:middle;\" transform=\"rotate(0, 32.4745, 389.669)\" x=\"32.4745\" y=\"389.669\">0</text>\n",
       "</g>\n",
       "<g clip-path=\"url(#clip5800)\">\n",
       "<text style=\"fill:#000000; fill-opacity:1; font-family:Arial,Helvetica Neue,Helvetica,sans-serif; font-size:12; text-anchor:middle;\" transform=\"rotate(0, 169.435, 389.669)\" x=\"169.435\" y=\"389.669\">1</text>\n",
       "</g>\n",
       "<g clip-path=\"url(#clip5800)\">\n",
       "<text style=\"fill:#000000; fill-opacity:1; font-family:Arial,Helvetica Neue,Helvetica,sans-serif; font-size:12; text-anchor:middle;\" transform=\"rotate(0, 306.395, 389.669)\" x=\"306.395\" y=\"389.669\">2</text>\n",
       "</g>\n",
       "<g clip-path=\"url(#clip5800)\">\n",
       "<text style=\"fill:#000000; fill-opacity:1; font-family:Arial,Helvetica Neue,Helvetica,sans-serif; font-size:12; text-anchor:middle;\" transform=\"rotate(0, 443.355, 389.669)\" x=\"443.355\" y=\"389.669\">3</text>\n",
       "</g>\n",
       "<g clip-path=\"url(#clip5800)\">\n",
       "<text style=\"fill:#000000; fill-opacity:1; font-family:Arial,Helvetica Neue,Helvetica,sans-serif; font-size:12; text-anchor:middle;\" transform=\"rotate(0, 580.315, 389.669)\" x=\"580.315\" y=\"389.669\">4</text>\n",
       "</g>\n",
       "<g clip-path=\"url(#clip5800)\">\n",
       "<text style=\"fill:#000000; fill-opacity:1; font-family:Arial,Helvetica Neue,Helvetica,sans-serif; font-size:12; text-anchor:end;\" transform=\"rotate(0, 26.4745, 380.369)\" x=\"26.4745\" y=\"380.369\">0.0</text>\n",
       "</g>\n",
       "<g clip-path=\"url(#clip5800)\">\n",
       "<text style=\"fill:#000000; fill-opacity:1; font-family:Arial,Helvetica Neue,Helvetica,sans-serif; font-size:12; text-anchor:end;\" transform=\"rotate(0, 26.4745, 283.287)\" x=\"26.4745\" y=\"283.287\">0.2</text>\n",
       "</g>\n",
       "<g clip-path=\"url(#clip5800)\">\n",
       "<text style=\"fill:#000000; fill-opacity:1; font-family:Arial,Helvetica Neue,Helvetica,sans-serif; font-size:12; text-anchor:end;\" transform=\"rotate(0, 26.4745, 186.205)\" x=\"26.4745\" y=\"186.205\">0.4</text>\n",
       "</g>\n",
       "<g clip-path=\"url(#clip5800)\">\n",
       "<text style=\"fill:#000000; fill-opacity:1; font-family:Arial,Helvetica Neue,Helvetica,sans-serif; font-size:12; text-anchor:end;\" transform=\"rotate(0, 26.4745, 89.1226)\" x=\"26.4745\" y=\"89.1226\">0.6</text>\n",
       "</g>\n",
       "<polyline clip-path=\"url(#clip5802)\" style=\"stroke:#009af9; stroke-width:1; stroke-opacity:1; fill:none\" points=\"\n",
       "  32.4745,375.869 33.8441,375.869 35.2137,375.869 36.5833,375.869 37.9529,375.869 39.3225,375.869 40.6921,375.869 42.0617,375.869 43.4313,375.869 44.8009,375.869 \n",
       "  46.1705,375.869 47.5401,375.869 48.9097,375.869 50.2793,375.869 51.6489,375.869 53.0185,375.869 54.3881,375.869 55.7577,375.869 57.1273,375.869 58.4969,375.869 \n",
       "  59.8665,375.869 61.2361,375.869 62.6057,375.869 63.9753,375.869 65.3449,375.869 66.7145,375.869 68.0841,375.869 69.4537,375.869 70.8233,375.869 72.1929,375.869 \n",
       "  73.5625,375.869 74.9321,375.869 76.3017,375.869 77.6713,375.869 79.0409,375.869 80.4105,375.869 81.7801,375.869 83.1497,375.869 84.5193,375.869 85.8889,375.869 \n",
       "  87.2585,375.869 88.6281,375.869 89.9977,375.869 91.3673,375.869 92.7369,375.869 94.1065,375.869 95.4761,375.869 96.8457,375.869 98.2153,375.869 99.585,375.869 \n",
       "  100.955,375.869 102.324,375.869 103.694,375.869 105.063,375.869 106.433,375.869 107.803,375.869 109.172,375.869 110.542,375.869 111.911,375.869 113.281,375.869 \n",
       "  114.651,375.869 116.02,375.869 117.39,375.869 118.759,375.869 120.129,375.869 121.499,375.869 122.868,375.869 124.238,375.869 125.607,375.869 126.977,375.869 \n",
       "  128.347,375.869 129.716,375.869 131.086,375.869 132.455,375.869 133.825,375.869 135.195,375.869 136.564,375.869 137.934,375.869 139.303,375.869 140.673,375.869 \n",
       "  142.043,375.869 143.412,375.869 144.782,375.869 146.151,375.869 147.521,375.869 148.891,375.869 150.26,375.869 151.63,375.869 152.999,375.869 154.369,375.869 \n",
       "  155.739,375.869 157.108,375.869 158.478,375.869 159.847,375.869 161.217,375.869 162.587,375.869 163.956,375.869 165.326,375.869 166.695,375.869 168.065,375.869 \n",
       "  169.435,375.868 170.804,371.063 172.174,366.351 173.543,361.731 174.913,357.199 176.283,352.754 177.652,348.393 179.022,344.113 180.391,339.912 181.761,335.789 \n",
       "  183.131,331.74 184.5,327.765 185.87,323.86 187.239,320.025 188.609,316.257 189.979,312.554 191.348,308.916 192.718,305.339 194.087,301.823 195.457,298.366 \n",
       "  196.827,294.967 198.196,291.624 199.566,288.336 200.935,285.101 202.305,281.918 203.675,278.787 205.044,275.705 206.414,272.671 207.783,269.685 209.153,266.745 \n",
       "  210.523,263.851 211.892,261.001 213.262,258.193 214.631,255.429 216.001,252.705 217.371,250.022 218.74,247.378 220.11,244.772 221.479,242.205 222.849,239.674 \n",
       "  224.219,237.18 225.588,234.721 226.958,232.297 228.327,229.906 229.697,227.549 231.067,225.224 232.436,222.931 233.806,220.669 235.175,218.438 236.545,216.237 \n",
       "  237.915,214.065 239.284,211.922 240.654,209.807 242.023,207.72 243.393,205.66 244.763,203.626 246.132,201.619 247.502,199.637 248.871,197.68 250.241,195.748 \n",
       "  251.611,193.84 252.98,191.955 254.35,190.094 255.719,188.256 257.089,186.44 258.459,184.646 259.828,182.874 261.198,181.123 262.567,179.393 263.937,177.683 \n",
       "  265.307,175.994 266.676,174.324 268.046,172.674 269.415,171.042 270.785,169.43 272.155,167.836 273.524,166.26 274.894,164.702 276.264,163.161 277.633,161.637 \n",
       "  279.003,160.131 280.372,158.641 281.742,157.167 283.112,155.71 284.481,154.268 285.851,152.842 287.22,151.432 288.59,150.036 289.96,148.655 291.329,147.289 \n",
       "  292.699,145.938 294.068,144.6 295.438,143.276 296.808,141.966 298.177,140.67 299.547,139.387 300.916,138.117 302.286,136.86 303.656,135.615 305.025,134.383 \n",
       "  306.395,133.164 307.764,131.956 309.134,130.761 310.504,129.577 311.873,128.405 313.243,127.244 314.612,126.094 315.982,124.956 317.352,123.829 318.721,122.712 \n",
       "  320.091,121.606 321.46,120.511 322.83,119.426 324.2,118.351 325.569,117.286 326.939,116.231 328.308,115.185 329.678,114.15 331.048,113.124 332.417,112.107 \n",
       "  333.787,111.099 335.156,110.101 336.526,109.112 337.896,108.131 339.265,107.159 340.635,106.196 342.004,105.242 343.374,104.296 344.744,103.358 346.113,102.428 \n",
       "  347.483,101.506 348.852,100.593 350.222,99.687 351.592,98.789 352.961,97.8987 354.331,97.016 355.7,96.1408 357.07,95.2729 358.44,94.4123 359.809,93.559 \n",
       "  361.179,92.7127 362.548,91.8735 363.918,91.0412 365.288,90.2158 366.657,89.3971 368.027,88.5851 369.396,87.7797 370.766,86.9808 372.136,86.1884 373.505,85.4023 \n",
       "  374.875,84.6226 376.244,83.849 377.614,83.0816 378.984,82.3202 380.353,81.5649 381.723,80.8154 383.092,80.0718 384.462,79.334 385.832,78.602 387.201,77.8755 \n",
       "  388.571,77.1547 389.94,76.4394 391.31,75.7295 392.68,75.0251 394.049,74.326 395.419,73.6321 396.788,72.9435 398.158,72.26 399.528,71.5817 400.897,70.9084 \n",
       "  402.267,70.24 403.636,69.5766 405.006,68.9181 406.376,68.2644 407.745,67.6155 409.115,66.9713 410.484,66.3317 411.854,65.6968 413.224,65.0665 414.593,64.4406 \n",
       "  415.963,63.8193 417.332,63.2023 418.702,62.5898 420.072,61.9815 421.441,61.3776 422.811,60.7778 424.18,60.1823 425.55,59.5909 426.92,59.0037 428.289,58.4205 \n",
       "  429.659,57.8413 431.028,57.2661 432.398,56.6948 433.768,56.1275 435.137,55.564 436.507,55.0043 437.876,54.4484 439.246,53.8963 440.616,53.3478 441.985,52.803 \n",
       "  \n",
       "  \"/>\n",
       "<polyline clip-path=\"url(#clip5802)\" style=\"stroke:#e26f46; stroke-width:1; stroke-opacity:1; fill:none\" stroke-dasharray=\"8, 5\" points=\"\n",
       "  443.355,52.2619 444.724,51.7243 446.094,51.1903 447.464,50.6599 448.833,50.1329 450.203,49.6094 451.572,49.0893 452.942,48.5725 454.312,48.0592 455.681,47.5492 \n",
       "  457.051,47.0424 458.42,46.5389 459.79,46.0387 461.16,45.5416 462.529,45.0477 463.899,44.557 465.268,44.0693 466.638,43.5847 468.008,43.1032 469.377,42.6247 \n",
       "  470.747,42.1492 472.116,41.6766 473.486,41.207 474.856,40.7403 476.225,40.2764 477.595,39.8155 478.964,39.3573 480.334,38.902 481.704,38.4494 483.073,37.9996 \n",
       "  484.443,37.5525 485.812,37.1081 487.182,36.6664 488.552,36.2273 489.921,35.7909 491.291,35.357 492.66,34.9258 494.03,34.4971 495.4,34.071 496.769,33.6473 \n",
       "  498.139,33.2262 499.508,32.8075 500.878,32.3913 502.248,31.9775 503.617,31.5661 504.987,31.1571 506.356,30.7504 507.726,30.3461 509.096,29.9442 510.465,29.5445 \n",
       "  511.835,29.1471 513.205,28.752 514.574,28.3591 515.944,27.9684 517.313,27.58 518.683,27.1937 520.053,26.8097 521.422,26.4277 522.792,26.0479 524.161,25.6702 \n",
       "  525.531,25.2946 526.901,24.9211 528.27,24.5497 529.64,24.1803 531.009,23.8129 532.379,23.4476 533.749,23.0842 535.118,22.7228 536.488,22.3634 537.857,22.006 \n",
       "  539.227,21.6504 540.597,21.2968 541.966,20.9451 543.336,20.5953 544.705,20.2473 546.075,19.9012 547.445,19.5569 548.814,19.2145 550.184,18.8739 551.553,18.535 \n",
       "  552.923,18.198 554.293,17.8627 555.662,17.5292 557.032,17.1974 558.401,16.8674 559.771,16.539 561.141,16.2124 562.51,15.8875 563.88,15.5642 565.249,15.2426 \n",
       "  566.619,14.9226 567.989,14.6043 569.358,14.2876 570.728,13.9725 572.097,13.659 573.467,13.3471 574.837,13.0368 576.206,12.728 577.576,12.4208 578.945,12.1152 \n",
       "  580.315,11.811 \n",
       "  \"/>\n",
       "<polygon clip-path=\"url(#clip5800)\" points=\"\n",
       "489.608,78.051 562.315,78.051 562.315,32.691 489.608,32.691 \n",
       "  \" fill=\"#ffffff\" fill-opacity=\"1\"/>\n",
       "<polyline clip-path=\"url(#clip5800)\" style=\"stroke:#000000; stroke-width:1; stroke-opacity:1; fill:none\" points=\"\n",
       "  489.608,78.051 562.315,78.051 562.315,32.691 489.608,32.691 489.608,78.051 \n",
       "  \"/>\n",
       "<polyline clip-path=\"url(#clip5800)\" style=\"stroke:#009af9; stroke-width:1; stroke-opacity:1; fill:none\" points=\"\n",
       "  495.608,47.811 531.608,47.811 \n",
       "  \"/>\n",
       "<g clip-path=\"url(#clip5800)\">\n",
       "<text style=\"fill:#000000; fill-opacity:1; font-family:Arial,Helvetica Neue,Helvetica,sans-serif; font-size:12; text-anchor:start;\" transform=\"rotate(0, 537.608, 52.311)\" x=\"537.608\" y=\"52.311\">y1</text>\n",
       "</g>\n",
       "<polyline clip-path=\"url(#clip5800)\" style=\"stroke:#e26f46; stroke-width:1; stroke-opacity:1; fill:none\" stroke-dasharray=\"8, 5\" points=\"\n",
       "  495.608,62.931 531.608,62.931 \n",
       "  \"/>\n",
       "<g clip-path=\"url(#clip5800)\">\n",
       "<text style=\"fill:#000000; fill-opacity:1; font-family:Arial,Helvetica Neue,Helvetica,sans-serif; font-size:12; text-anchor:start;\" transform=\"rotate(0, 537.608, 67.431)\" x=\"537.608\" y=\"67.431\">y2</text>\n",
       "</g>\n",
       "</svg>\n"
      ]
     },
     "execution_count": 43,
     "metadata": {},
     "output_type": "execute_result"
    }
   ],
   "source": [
    "plot(μs[estabilidades], puntos_fijos[estabilidades])\n",
    "plot!(μs[.!(estabilidades)], puntos_fijos[.!(estabilidades)], ls=:dash)\n"
   ]
  },
  {
   "cell_type": "markdown",
   "metadata": {},
   "source": [
    "## Diferenciación automática"
   ]
  },
  {
   "cell_type": "markdown",
   "metadata": {},
   "source": [
    "Hasta ahora, hemos calculado derivadas de forma manual y analítica. Sin embargo, existe una técnica *archi-poderosa* para calcular derivadas de forma numérica, llamada la **diferenciación automática**. La idea es aplicar las reglas del cálculo diferencial de forma sistemática, pero siempre *numéricamente*.\n",
    "\n",
    "Los detalles se proveen en [este notebook](2a. Diferenciacion automatica.ipynb)."
   ]
  },
  {
   "cell_type": "markdown",
   "metadata": {},
   "source": [
    "Podemos definir un nuevo método de `newton` que utiliza la diferenciación automática proveída por el paquete `ForwardDiff.jl`. \n",
    "\n",
    "Primero definimos una función que calcula la derivada de una función dada:"
   ]
  },
  {
   "cell_type": "code",
   "execution_count": 46,
   "metadata": {},
   "outputs": [
    {
     "data": {
      "text/plain": [
       "deriv (generic function with 1 method)"
      ]
     },
     "execution_count": 46,
     "metadata": {},
     "output_type": "execute_result"
    }
   ],
   "source": [
    "deriv(f) = x->ForwardDiff.derivative(f, x)"
   ]
  },
  {
   "cell_type": "markdown",
   "metadata": {},
   "source": [
    "Nota que ¡`deriv` *regresa una función*!"
   ]
  },
  {
   "cell_type": "code",
   "execution_count": 47,
   "metadata": {},
   "outputs": [
    {
     "data": {
      "text/plain": [
       "newton (generic function with 2 methods)"
      ]
     },
     "execution_count": 47,
     "metadata": {},
     "output_type": "execute_result"
    }
   ],
   "source": [
    "newton(f, x) = newton(f, deriv(f), x)"
   ]
  },
  {
   "cell_type": "markdown",
   "metadata": {},
   "source": [
    "Aquí, *no* tenemos que repetir el contenido de `newton`; simplemente creamos una nueva *versión* o *método* de `newton`, que echa mano del código ya existente, y ¡le pasa la derivada automática!"
   ]
  },
  {
   "cell_type": "code",
   "execution_count": 49,
   "metadata": {},
   "outputs": [],
   "source": [
    "using ForwardDiff"
   ]
  },
  {
   "cell_type": "code",
   "execution_count": 51,
   "metadata": {},
   "outputs": [
    {
     "data": {
      "text/plain": [
       "0.0909090909090909"
      ]
     },
     "execution_count": 51,
     "metadata": {},
     "output_type": "execute_result"
    }
   ],
   "source": [
    "μ = 1.1\n",
    "newton(x->logistico(μ,x) - x, 0.5)"
   ]
  },
  {
   "cell_type": "markdown",
   "metadata": {},
   "source": [
    "## Órbitas periódicas"
   ]
  },
  {
   "cell_type": "code",
   "execution_count": 56,
   "metadata": {},
   "outputs": [
    {
     "data": {
      "text/plain": [
       "0.4180381405696286"
      ]
     },
     "execution_count": 56,
     "metadata": {},
     "output_type": "execute_result"
    }
   ],
   "source": [
    "μ = 3.55\n",
    "newton(x->logistico(μ, logistico(μ, x)) - x, 0.5)"
   ]
  },
  {
   "cell_type": "code",
   "execution_count": 58,
   "metadata": {},
   "outputs": [
    {
     "data": {
      "text/plain": [
       "101-element Array{Float64,1}:\n",
       " 0.0     \n",
       " 0.0     \n",
       " 0.0     \n",
       " 0.0     \n",
       " 0.0     \n",
       " 0.0     \n",
       " 0.0     \n",
       " 0.0     \n",
       " 0.0     \n",
       " 0.0     \n",
       " 0.0     \n",
       " 0.0     \n",
       " 0.0     \n",
       " ⋮       \n",
       " 0.863652\n",
       " 0.863652\n",
       " 0.863652\n",
       " 0.863652\n",
       " 0.863652\n",
       " 0.863652\n",
       " 0.863652\n",
       " 0.863652\n",
       " 0.863652\n",
       " 0.863652\n",
       " 0.863652\n",
       " 0.863652"
      ]
     },
     "execution_count": 58,
     "metadata": {},
     "output_type": "execute_result"
    }
   ],
   "source": [
    "x0s = 0.0:0.01:1.0\n",
    "pfs = newton.(x->logistico(μ, logistico(μ, x)) - x, x0s)"
   ]
  },
  {
   "cell_type": "code",
   "execution_count": 61,
   "metadata": {},
   "outputs": [
    {
     "data": {
      "image/svg+xml": [
       "<?xml version=\"1.0\" encoding=\"utf-8\"?>\n",
       "<svg xmlns=\"http://www.w3.org/2000/svg\" xmlns:xlink=\"http://www.w3.org/1999/xlink\" width=\"600\" height=\"400\" viewBox=\"0 0 600 400\">\n",
       "<defs>\n",
       "  <clipPath id=\"clip6400\">\n",
       "    <rect x=\"0\" y=\"0\" width=\"600\" height=\"400\"/>\n",
       "  </clipPath>\n",
       "</defs>\n",
       "<polygon clip-path=\"url(#clip6400)\" points=\"\n",
       "0,400 600,400 600,0 0,0 \n",
       "  \" fill=\"#ffffff\" fill-opacity=\"1\"/>\n",
       "<defs>\n",
       "  <clipPath id=\"clip6401\">\n",
       "    <rect x=\"120\" y=\"0\" width=\"421\" height=\"400\"/>\n",
       "  </clipPath>\n",
       "</defs>\n",
       "<polygon clip-path=\"url(#clip6400)\" points=\"\n",
       "32.4745,375.869 580.315,375.869 580.315,11.811 32.4745,11.811 \n",
       "  \" fill=\"#ffffff\" fill-opacity=\"1\"/>\n",
       "<defs>\n",
       "  <clipPath id=\"clip6402\">\n",
       "    <rect x=\"32\" y=\"11\" width=\"549\" height=\"365\"/>\n",
       "  </clipPath>\n",
       "</defs>\n",
       "<polyline clip-path=\"url(#clip6402)\" style=\"stroke:#000000; stroke-width:0.5; stroke-opacity:0.1; fill:none\" points=\"\n",
       "  47.9794,375.869 47.9794,11.811 \n",
       "  \"/>\n",
       "<polyline clip-path=\"url(#clip6402)\" style=\"stroke:#000000; stroke-width:0.5; stroke-opacity:0.1; fill:none\" points=\"\n",
       "  177.187,375.869 177.187,11.811 \n",
       "  \"/>\n",
       "<polyline clip-path=\"url(#clip6402)\" style=\"stroke:#000000; stroke-width:0.5; stroke-opacity:0.1; fill:none\" points=\"\n",
       "  306.395,375.869 306.395,11.811 \n",
       "  \"/>\n",
       "<polyline clip-path=\"url(#clip6402)\" style=\"stroke:#000000; stroke-width:0.5; stroke-opacity:0.1; fill:none\" points=\"\n",
       "  435.602,375.869 435.602,11.811 \n",
       "  \"/>\n",
       "<polyline clip-path=\"url(#clip6402)\" style=\"stroke:#000000; stroke-width:0.5; stroke-opacity:0.1; fill:none\" points=\"\n",
       "  564.81,375.869 564.81,11.811 \n",
       "  \"/>\n",
       "<polyline clip-path=\"url(#clip6402)\" style=\"stroke:#000000; stroke-width:0.5; stroke-opacity:0.1; fill:none\" points=\"\n",
       "  32.4745,365.565 580.315,365.565 \n",
       "  \"/>\n",
       "<polyline clip-path=\"url(#clip6402)\" style=\"stroke:#000000; stroke-width:0.5; stroke-opacity:0.1; fill:none\" points=\"\n",
       "  32.4745,286.031 580.315,286.031 \n",
       "  \"/>\n",
       "<polyline clip-path=\"url(#clip6402)\" style=\"stroke:#000000; stroke-width:0.5; stroke-opacity:0.1; fill:none\" points=\"\n",
       "  32.4745,206.496 580.315,206.496 \n",
       "  \"/>\n",
       "<polyline clip-path=\"url(#clip6402)\" style=\"stroke:#000000; stroke-width:0.5; stroke-opacity:0.1; fill:none\" points=\"\n",
       "  32.4745,126.962 580.315,126.962 \n",
       "  \"/>\n",
       "<polyline clip-path=\"url(#clip6402)\" style=\"stroke:#000000; stroke-width:0.5; stroke-opacity:0.1; fill:none\" points=\"\n",
       "  32.4745,47.4272 580.315,47.4272 \n",
       "  \"/>\n",
       "<polyline clip-path=\"url(#clip6400)\" style=\"stroke:#000000; stroke-width:1; stroke-opacity:1; fill:none\" points=\"\n",
       "  32.4745,375.869 580.315,375.869 \n",
       "  \"/>\n",
       "<polyline clip-path=\"url(#clip6400)\" style=\"stroke:#000000; stroke-width:1; stroke-opacity:1; fill:none\" points=\"\n",
       "  32.4745,375.869 32.4745,11.811 \n",
       "  \"/>\n",
       "<polyline clip-path=\"url(#clip6400)\" style=\"stroke:#000000; stroke-width:1; stroke-opacity:1; fill:none\" points=\"\n",
       "  47.9794,375.869 47.9794,370.408 \n",
       "  \"/>\n",
       "<polyline clip-path=\"url(#clip6400)\" style=\"stroke:#000000; stroke-width:1; stroke-opacity:1; fill:none\" points=\"\n",
       "  177.187,375.869 177.187,370.408 \n",
       "  \"/>\n",
       "<polyline clip-path=\"url(#clip6400)\" style=\"stroke:#000000; stroke-width:1; stroke-opacity:1; fill:none\" points=\"\n",
       "  306.395,375.869 306.395,370.408 \n",
       "  \"/>\n",
       "<polyline clip-path=\"url(#clip6400)\" style=\"stroke:#000000; stroke-width:1; stroke-opacity:1; fill:none\" points=\"\n",
       "  435.602,375.869 435.602,370.408 \n",
       "  \"/>\n",
       "<polyline clip-path=\"url(#clip6400)\" style=\"stroke:#000000; stroke-width:1; stroke-opacity:1; fill:none\" points=\"\n",
       "  564.81,375.869 564.81,370.408 \n",
       "  \"/>\n",
       "<polyline clip-path=\"url(#clip6400)\" style=\"stroke:#000000; stroke-width:1; stroke-opacity:1; fill:none\" points=\"\n",
       "  32.4745,365.565 40.6921,365.565 \n",
       "  \"/>\n",
       "<polyline clip-path=\"url(#clip6400)\" style=\"stroke:#000000; stroke-width:1; stroke-opacity:1; fill:none\" points=\"\n",
       "  32.4745,286.031 40.6921,286.031 \n",
       "  \"/>\n",
       "<polyline clip-path=\"url(#clip6400)\" style=\"stroke:#000000; stroke-width:1; stroke-opacity:1; fill:none\" points=\"\n",
       "  32.4745,206.496 40.6921,206.496 \n",
       "  \"/>\n",
       "<polyline clip-path=\"url(#clip6400)\" style=\"stroke:#000000; stroke-width:1; stroke-opacity:1; fill:none\" points=\"\n",
       "  32.4745,126.962 40.6921,126.962 \n",
       "  \"/>\n",
       "<polyline clip-path=\"url(#clip6400)\" style=\"stroke:#000000; stroke-width:1; stroke-opacity:1; fill:none\" points=\"\n",
       "  32.4745,47.4272 40.6921,47.4272 \n",
       "  \"/>\n",
       "<g clip-path=\"url(#clip6400)\">\n",
       "<text style=\"fill:#000000; fill-opacity:1; font-family:Arial,Helvetica Neue,Helvetica,sans-serif; font-size:12; text-anchor:middle;\" transform=\"rotate(0, 47.9794, 389.669)\" x=\"47.9794\" y=\"389.669\">0.00</text>\n",
       "</g>\n",
       "<g clip-path=\"url(#clip6400)\">\n",
       "<text style=\"fill:#000000; fill-opacity:1; font-family:Arial,Helvetica Neue,Helvetica,sans-serif; font-size:12; text-anchor:middle;\" transform=\"rotate(0, 177.187, 389.669)\" x=\"177.187\" y=\"389.669\">0.25</text>\n",
       "</g>\n",
       "<g clip-path=\"url(#clip6400)\">\n",
       "<text style=\"fill:#000000; fill-opacity:1; font-family:Arial,Helvetica Neue,Helvetica,sans-serif; font-size:12; text-anchor:middle;\" transform=\"rotate(0, 306.395, 389.669)\" x=\"306.395\" y=\"389.669\">0.50</text>\n",
       "</g>\n",
       "<g clip-path=\"url(#clip6400)\">\n",
       "<text style=\"fill:#000000; fill-opacity:1; font-family:Arial,Helvetica Neue,Helvetica,sans-serif; font-size:12; text-anchor:middle;\" transform=\"rotate(0, 435.602, 389.669)\" x=\"435.602\" y=\"389.669\">0.75</text>\n",
       "</g>\n",
       "<g clip-path=\"url(#clip6400)\">\n",
       "<text style=\"fill:#000000; fill-opacity:1; font-family:Arial,Helvetica Neue,Helvetica,sans-serif; font-size:12; text-anchor:middle;\" transform=\"rotate(0, 564.81, 389.669)\" x=\"564.81\" y=\"389.669\">1.00</text>\n",
       "</g>\n",
       "<g clip-path=\"url(#clip6400)\">\n",
       "<text style=\"fill:#000000; fill-opacity:1; font-family:Arial,Helvetica Neue,Helvetica,sans-serif; font-size:12; text-anchor:end;\" transform=\"rotate(0, 26.4745, 370.065)\" x=\"26.4745\" y=\"370.065\">0.0</text>\n",
       "</g>\n",
       "<g clip-path=\"url(#clip6400)\">\n",
       "<text style=\"fill:#000000; fill-opacity:1; font-family:Arial,Helvetica Neue,Helvetica,sans-serif; font-size:12; text-anchor:end;\" transform=\"rotate(0, 26.4745, 290.531)\" x=\"26.4745\" y=\"290.531\">0.2</text>\n",
       "</g>\n",
       "<g clip-path=\"url(#clip6400)\">\n",
       "<text style=\"fill:#000000; fill-opacity:1; font-family:Arial,Helvetica Neue,Helvetica,sans-serif; font-size:12; text-anchor:end;\" transform=\"rotate(0, 26.4745, 210.996)\" x=\"26.4745\" y=\"210.996\">0.4</text>\n",
       "</g>\n",
       "<g clip-path=\"url(#clip6400)\">\n",
       "<text style=\"fill:#000000; fill-opacity:1; font-family:Arial,Helvetica Neue,Helvetica,sans-serif; font-size:12; text-anchor:end;\" transform=\"rotate(0, 26.4745, 131.462)\" x=\"26.4745\" y=\"131.462\">0.6</text>\n",
       "</g>\n",
       "<g clip-path=\"url(#clip6400)\">\n",
       "<text style=\"fill:#000000; fill-opacity:1; font-family:Arial,Helvetica Neue,Helvetica,sans-serif; font-size:12; text-anchor:end;\" transform=\"rotate(0, 26.4745, 51.9272)\" x=\"26.4745\" y=\"51.9272\">0.8</text>\n",
       "</g>\n",
       "<circle clip-path=\"url(#clip6402)\" style=\"fill:#000000; stroke:none; fill-opacity:1\" cx=\"47.9794\" cy=\"365.565\" r=\"4\"/>\n",
       "<circle clip-path=\"url(#clip6402)\" style=\"fill:#009af9; stroke:none; fill-opacity:1\" cx=\"47.9794\" cy=\"365.565\" r=\"3\"/>\n",
       "<circle clip-path=\"url(#clip6402)\" style=\"fill:#000000; stroke:none; fill-opacity:1\" cx=\"53.1477\" cy=\"365.565\" r=\"4\"/>\n",
       "<circle clip-path=\"url(#clip6402)\" style=\"fill:#009af9; stroke:none; fill-opacity:1\" cx=\"53.1477\" cy=\"365.565\" r=\"3\"/>\n",
       "<circle clip-path=\"url(#clip6402)\" style=\"fill:#000000; stroke:none; fill-opacity:1\" cx=\"58.316\" cy=\"365.565\" r=\"4\"/>\n",
       "<circle clip-path=\"url(#clip6402)\" style=\"fill:#009af9; stroke:none; fill-opacity:1\" cx=\"58.316\" cy=\"365.565\" r=\"3\"/>\n",
       "<circle clip-path=\"url(#clip6402)\" style=\"fill:#000000; stroke:none; fill-opacity:1\" cx=\"63.4843\" cy=\"365.565\" r=\"4\"/>\n",
       "<circle clip-path=\"url(#clip6402)\" style=\"fill:#009af9; stroke:none; fill-opacity:1\" cx=\"63.4843\" cy=\"365.565\" r=\"3\"/>\n",
       "<circle clip-path=\"url(#clip6402)\" style=\"fill:#000000; stroke:none; fill-opacity:1\" cx=\"68.6526\" cy=\"365.565\" r=\"4\"/>\n",
       "<circle clip-path=\"url(#clip6402)\" style=\"fill:#009af9; stroke:none; fill-opacity:1\" cx=\"68.6526\" cy=\"365.565\" r=\"3\"/>\n",
       "<circle clip-path=\"url(#clip6402)\" style=\"fill:#000000; stroke:none; fill-opacity:1\" cx=\"73.8209\" cy=\"365.565\" r=\"4\"/>\n",
       "<circle clip-path=\"url(#clip6402)\" style=\"fill:#009af9; stroke:none; fill-opacity:1\" cx=\"73.8209\" cy=\"365.565\" r=\"3\"/>\n",
       "<circle clip-path=\"url(#clip6402)\" style=\"fill:#000000; stroke:none; fill-opacity:1\" cx=\"78.9893\" cy=\"365.565\" r=\"4\"/>\n",
       "<circle clip-path=\"url(#clip6402)\" style=\"fill:#009af9; stroke:none; fill-opacity:1\" cx=\"78.9893\" cy=\"365.565\" r=\"3\"/>\n",
       "<circle clip-path=\"url(#clip6402)\" style=\"fill:#000000; stroke:none; fill-opacity:1\" cx=\"84.1576\" cy=\"365.565\" r=\"4\"/>\n",
       "<circle clip-path=\"url(#clip6402)\" style=\"fill:#009af9; stroke:none; fill-opacity:1\" cx=\"84.1576\" cy=\"365.565\" r=\"3\"/>\n",
       "<circle clip-path=\"url(#clip6402)\" style=\"fill:#000000; stroke:none; fill-opacity:1\" cx=\"89.3259\" cy=\"365.565\" r=\"4\"/>\n",
       "<circle clip-path=\"url(#clip6402)\" style=\"fill:#009af9; stroke:none; fill-opacity:1\" cx=\"89.3259\" cy=\"365.565\" r=\"3\"/>\n",
       "<circle clip-path=\"url(#clip6402)\" style=\"fill:#000000; stroke:none; fill-opacity:1\" cx=\"94.4942\" cy=\"365.565\" r=\"4\"/>\n",
       "<circle clip-path=\"url(#clip6402)\" style=\"fill:#009af9; stroke:none; fill-opacity:1\" cx=\"94.4942\" cy=\"365.565\" r=\"3\"/>\n",
       "<circle clip-path=\"url(#clip6402)\" style=\"fill:#000000; stroke:none; fill-opacity:1\" cx=\"99.6625\" cy=\"365.565\" r=\"4\"/>\n",
       "<circle clip-path=\"url(#clip6402)\" style=\"fill:#009af9; stroke:none; fill-opacity:1\" cx=\"99.6625\" cy=\"365.565\" r=\"3\"/>\n",
       "<circle clip-path=\"url(#clip6402)\" style=\"fill:#000000; stroke:none; fill-opacity:1\" cx=\"104.831\" cy=\"365.565\" r=\"4\"/>\n",
       "<circle clip-path=\"url(#clip6402)\" style=\"fill:#009af9; stroke:none; fill-opacity:1\" cx=\"104.831\" cy=\"365.565\" r=\"3\"/>\n",
       "<circle clip-path=\"url(#clip6402)\" style=\"fill:#000000; stroke:none; fill-opacity:1\" cx=\"109.999\" cy=\"365.565\" r=\"4\"/>\n",
       "<circle clip-path=\"url(#clip6402)\" style=\"fill:#009af9; stroke:none; fill-opacity:1\" cx=\"109.999\" cy=\"365.565\" r=\"3\"/>\n",
       "<circle clip-path=\"url(#clip6402)\" style=\"fill:#000000; stroke:none; fill-opacity:1\" cx=\"115.167\" cy=\"365.565\" r=\"4\"/>\n",
       "<circle clip-path=\"url(#clip6402)\" style=\"fill:#009af9; stroke:none; fill-opacity:1\" cx=\"115.167\" cy=\"365.565\" r=\"3\"/>\n",
       "<circle clip-path=\"url(#clip6402)\" style=\"fill:#000000; stroke:none; fill-opacity:1\" cx=\"120.336\" cy=\"365.565\" r=\"4\"/>\n",
       "<circle clip-path=\"url(#clip6402)\" style=\"fill:#009af9; stroke:none; fill-opacity:1\" cx=\"120.336\" cy=\"365.565\" r=\"3\"/>\n",
       "<circle clip-path=\"url(#clip6402)\" style=\"fill:#000000; stroke:none; fill-opacity:1\" cx=\"125.504\" cy=\"22.1145\" r=\"4\"/>\n",
       "<circle clip-path=\"url(#clip6402)\" style=\"fill:#009af9; stroke:none; fill-opacity:1\" cx=\"125.504\" cy=\"22.1145\" r=\"3\"/>\n",
       "<circle clip-path=\"url(#clip6402)\" style=\"fill:#000000; stroke:none; fill-opacity:1\" cx=\"130.672\" cy=\"22.1145\" r=\"4\"/>\n",
       "<circle clip-path=\"url(#clip6402)\" style=\"fill:#009af9; stroke:none; fill-opacity:1\" cx=\"130.672\" cy=\"22.1145\" r=\"3\"/>\n",
       "<circle clip-path=\"url(#clip6402)\" style=\"fill:#000000; stroke:none; fill-opacity:1\" cx=\"135.841\" cy=\"22.1145\" r=\"4\"/>\n",
       "<circle clip-path=\"url(#clip6402)\" style=\"fill:#009af9; stroke:none; fill-opacity:1\" cx=\"135.841\" cy=\"22.1145\" r=\"3\"/>\n",
       "<circle clip-path=\"url(#clip6402)\" style=\"fill:#000000; stroke:none; fill-opacity:1\" cx=\"141.009\" cy=\"79.9131\" r=\"4\"/>\n",
       "<circle clip-path=\"url(#clip6402)\" style=\"fill:#009af9; stroke:none; fill-opacity:1\" cx=\"141.009\" cy=\"79.9131\" r=\"3\"/>\n",
       "<circle clip-path=\"url(#clip6402)\" style=\"fill:#000000; stroke:none; fill-opacity:1\" cx=\"146.177\" cy=\"22.1145\" r=\"4\"/>\n",
       "<circle clip-path=\"url(#clip6402)\" style=\"fill:#009af9; stroke:none; fill-opacity:1\" cx=\"146.177\" cy=\"22.1145\" r=\"3\"/>\n",
       "<circle clip-path=\"url(#clip6402)\" style=\"fill:#000000; stroke:none; fill-opacity:1\" cx=\"151.346\" cy=\"365.565\" r=\"4\"/>\n",
       "<circle clip-path=\"url(#clip6402)\" style=\"fill:#009af9; stroke:none; fill-opacity:1\" cx=\"151.346\" cy=\"365.565\" r=\"3\"/>\n",
       "<circle clip-path=\"url(#clip6402)\" style=\"fill:#000000; stroke:none; fill-opacity:1\" cx=\"156.514\" cy=\"199.323\" r=\"4\"/>\n",
       "<circle clip-path=\"url(#clip6402)\" style=\"fill:#009af9; stroke:none; fill-opacity:1\" cx=\"156.514\" cy=\"199.323\" r=\"3\"/>\n",
       "<circle clip-path=\"url(#clip6402)\" style=\"fill:#000000; stroke:none; fill-opacity:1\" cx=\"161.682\" cy=\"199.323\" r=\"4\"/>\n",
       "<circle clip-path=\"url(#clip6402)\" style=\"fill:#009af9; stroke:none; fill-opacity:1\" cx=\"161.682\" cy=\"199.323\" r=\"3\"/>\n",
       "<circle clip-path=\"url(#clip6402)\" style=\"fill:#000000; stroke:none; fill-opacity:1\" cx=\"166.85\" cy=\"199.323\" r=\"4\"/>\n",
       "<circle clip-path=\"url(#clip6402)\" style=\"fill:#009af9; stroke:none; fill-opacity:1\" cx=\"166.85\" cy=\"199.323\" r=\"3\"/>\n",
       "<circle clip-path=\"url(#clip6402)\" style=\"fill:#000000; stroke:none; fill-opacity:1\" cx=\"172.019\" cy=\"199.323\" r=\"4\"/>\n",
       "<circle clip-path=\"url(#clip6402)\" style=\"fill:#009af9; stroke:none; fill-opacity:1\" cx=\"172.019\" cy=\"199.323\" r=\"3\"/>\n",
       "<circle clip-path=\"url(#clip6402)\" style=\"fill:#000000; stroke:none; fill-opacity:1\" cx=\"177.187\" cy=\"199.323\" r=\"4\"/>\n",
       "<circle clip-path=\"url(#clip6402)\" style=\"fill:#009af9; stroke:none; fill-opacity:1\" cx=\"177.187\" cy=\"199.323\" r=\"3\"/>\n",
       "<circle clip-path=\"url(#clip6402)\" style=\"fill:#000000; stroke:none; fill-opacity:1\" cx=\"182.355\" cy=\"199.323\" r=\"4\"/>\n",
       "<circle clip-path=\"url(#clip6402)\" style=\"fill:#009af9; stroke:none; fill-opacity:1\" cx=\"182.355\" cy=\"199.323\" r=\"3\"/>\n",
       "<circle clip-path=\"url(#clip6402)\" style=\"fill:#000000; stroke:none; fill-opacity:1\" cx=\"187.524\" cy=\"199.323\" r=\"4\"/>\n",
       "<circle clip-path=\"url(#clip6402)\" style=\"fill:#009af9; stroke:none; fill-opacity:1\" cx=\"187.524\" cy=\"199.323\" r=\"3\"/>\n",
       "<circle clip-path=\"url(#clip6402)\" style=\"fill:#000000; stroke:none; fill-opacity:1\" cx=\"192.692\" cy=\"199.323\" r=\"4\"/>\n",
       "<circle clip-path=\"url(#clip6402)\" style=\"fill:#009af9; stroke:none; fill-opacity:1\" cx=\"192.692\" cy=\"199.323\" r=\"3\"/>\n",
       "<circle clip-path=\"url(#clip6402)\" style=\"fill:#000000; stroke:none; fill-opacity:1\" cx=\"197.86\" cy=\"199.323\" r=\"4\"/>\n",
       "<circle clip-path=\"url(#clip6402)\" style=\"fill:#009af9; stroke:none; fill-opacity:1\" cx=\"197.86\" cy=\"199.323\" r=\"3\"/>\n",
       "<circle clip-path=\"url(#clip6402)\" style=\"fill:#000000; stroke:none; fill-opacity:1\" cx=\"203.029\" cy=\"199.323\" r=\"4\"/>\n",
       "<circle clip-path=\"url(#clip6402)\" style=\"fill:#009af9; stroke:none; fill-opacity:1\" cx=\"203.029\" cy=\"199.323\" r=\"3\"/>\n",
       "<circle clip-path=\"url(#clip6402)\" style=\"fill:#000000; stroke:none; fill-opacity:1\" cx=\"208.197\" cy=\"199.323\" r=\"4\"/>\n",
       "<circle clip-path=\"url(#clip6402)\" style=\"fill:#009af9; stroke:none; fill-opacity:1\" cx=\"208.197\" cy=\"199.323\" r=\"3\"/>\n",
       "<circle clip-path=\"url(#clip6402)\" style=\"fill:#000000; stroke:none; fill-opacity:1\" cx=\"213.365\" cy=\"199.323\" r=\"4\"/>\n",
       "<circle clip-path=\"url(#clip6402)\" style=\"fill:#009af9; stroke:none; fill-opacity:1\" cx=\"213.365\" cy=\"199.323\" r=\"3\"/>\n",
       "<circle clip-path=\"url(#clip6402)\" style=\"fill:#000000; stroke:none; fill-opacity:1\" cx=\"218.534\" cy=\"199.323\" r=\"4\"/>\n",
       "<circle clip-path=\"url(#clip6402)\" style=\"fill:#009af9; stroke:none; fill-opacity:1\" cx=\"218.534\" cy=\"199.323\" r=\"3\"/>\n",
       "<circle clip-path=\"url(#clip6402)\" style=\"fill:#000000; stroke:none; fill-opacity:1\" cx=\"223.702\" cy=\"199.323\" r=\"4\"/>\n",
       "<circle clip-path=\"url(#clip6402)\" style=\"fill:#009af9; stroke:none; fill-opacity:1\" cx=\"223.702\" cy=\"199.323\" r=\"3\"/>\n",
       "<circle clip-path=\"url(#clip6402)\" style=\"fill:#000000; stroke:none; fill-opacity:1\" cx=\"228.87\" cy=\"199.323\" r=\"4\"/>\n",
       "<circle clip-path=\"url(#clip6402)\" style=\"fill:#009af9; stroke:none; fill-opacity:1\" cx=\"228.87\" cy=\"199.323\" r=\"3\"/>\n",
       "<circle clip-path=\"url(#clip6402)\" style=\"fill:#000000; stroke:none; fill-opacity:1\" cx=\"234.038\" cy=\"199.323\" r=\"4\"/>\n",
       "<circle clip-path=\"url(#clip6402)\" style=\"fill:#009af9; stroke:none; fill-opacity:1\" cx=\"234.038\" cy=\"199.323\" r=\"3\"/>\n",
       "<circle clip-path=\"url(#clip6402)\" style=\"fill:#000000; stroke:none; fill-opacity:1\" cx=\"239.207\" cy=\"199.323\" r=\"4\"/>\n",
       "<circle clip-path=\"url(#clip6402)\" style=\"fill:#009af9; stroke:none; fill-opacity:1\" cx=\"239.207\" cy=\"199.323\" r=\"3\"/>\n",
       "<circle clip-path=\"url(#clip6402)\" style=\"fill:#000000; stroke:none; fill-opacity:1\" cx=\"244.375\" cy=\"199.323\" r=\"4\"/>\n",
       "<circle clip-path=\"url(#clip6402)\" style=\"fill:#009af9; stroke:none; fill-opacity:1\" cx=\"244.375\" cy=\"199.323\" r=\"3\"/>\n",
       "<circle clip-path=\"url(#clip6402)\" style=\"fill:#000000; stroke:none; fill-opacity:1\" cx=\"249.543\" cy=\"199.323\" r=\"4\"/>\n",
       "<circle clip-path=\"url(#clip6402)\" style=\"fill:#009af9; stroke:none; fill-opacity:1\" cx=\"249.543\" cy=\"199.323\" r=\"3\"/>\n",
       "<circle clip-path=\"url(#clip6402)\" style=\"fill:#000000; stroke:none; fill-opacity:1\" cx=\"254.712\" cy=\"199.323\" r=\"4\"/>\n",
       "<circle clip-path=\"url(#clip6402)\" style=\"fill:#009af9; stroke:none; fill-opacity:1\" cx=\"254.712\" cy=\"199.323\" r=\"3\"/>\n",
       "<circle clip-path=\"url(#clip6402)\" style=\"fill:#000000; stroke:none; fill-opacity:1\" cx=\"259.88\" cy=\"199.323\" r=\"4\"/>\n",
       "<circle clip-path=\"url(#clip6402)\" style=\"fill:#009af9; stroke:none; fill-opacity:1\" cx=\"259.88\" cy=\"199.323\" r=\"3\"/>\n",
       "<circle clip-path=\"url(#clip6402)\" style=\"fill:#000000; stroke:none; fill-opacity:1\" cx=\"265.048\" cy=\"199.323\" r=\"4\"/>\n",
       "<circle clip-path=\"url(#clip6402)\" style=\"fill:#009af9; stroke:none; fill-opacity:1\" cx=\"265.048\" cy=\"199.323\" r=\"3\"/>\n",
       "<circle clip-path=\"url(#clip6402)\" style=\"fill:#000000; stroke:none; fill-opacity:1\" cx=\"270.217\" cy=\"199.323\" r=\"4\"/>\n",
       "<circle clip-path=\"url(#clip6402)\" style=\"fill:#009af9; stroke:none; fill-opacity:1\" cx=\"270.217\" cy=\"199.323\" r=\"3\"/>\n",
       "<circle clip-path=\"url(#clip6402)\" style=\"fill:#000000; stroke:none; fill-opacity:1\" cx=\"275.385\" cy=\"199.323\" r=\"4\"/>\n",
       "<circle clip-path=\"url(#clip6402)\" style=\"fill:#009af9; stroke:none; fill-opacity:1\" cx=\"275.385\" cy=\"199.323\" r=\"3\"/>\n",
       "<circle clip-path=\"url(#clip6402)\" style=\"fill:#000000; stroke:none; fill-opacity:1\" cx=\"280.553\" cy=\"199.323\" r=\"4\"/>\n",
       "<circle clip-path=\"url(#clip6402)\" style=\"fill:#009af9; stroke:none; fill-opacity:1\" cx=\"280.553\" cy=\"199.323\" r=\"3\"/>\n",
       "<circle clip-path=\"url(#clip6402)\" style=\"fill:#000000; stroke:none; fill-opacity:1\" cx=\"285.722\" cy=\"199.323\" r=\"4\"/>\n",
       "<circle clip-path=\"url(#clip6402)\" style=\"fill:#009af9; stroke:none; fill-opacity:1\" cx=\"285.722\" cy=\"199.323\" r=\"3\"/>\n",
       "<circle clip-path=\"url(#clip6402)\" style=\"fill:#000000; stroke:none; fill-opacity:1\" cx=\"290.89\" cy=\"199.323\" r=\"4\"/>\n",
       "<circle clip-path=\"url(#clip6402)\" style=\"fill:#009af9; stroke:none; fill-opacity:1\" cx=\"290.89\" cy=\"199.323\" r=\"3\"/>\n",
       "<circle clip-path=\"url(#clip6402)\" style=\"fill:#000000; stroke:none; fill-opacity:1\" cx=\"296.058\" cy=\"199.323\" r=\"4\"/>\n",
       "<circle clip-path=\"url(#clip6402)\" style=\"fill:#009af9; stroke:none; fill-opacity:1\" cx=\"296.058\" cy=\"199.323\" r=\"3\"/>\n",
       "<circle clip-path=\"url(#clip6402)\" style=\"fill:#000000; stroke:none; fill-opacity:1\" cx=\"301.226\" cy=\"199.323\" r=\"4\"/>\n",
       "<circle clip-path=\"url(#clip6402)\" style=\"fill:#009af9; stroke:none; fill-opacity:1\" cx=\"301.226\" cy=\"199.323\" r=\"3\"/>\n",
       "<circle clip-path=\"url(#clip6402)\" style=\"fill:#000000; stroke:none; fill-opacity:1\" cx=\"306.395\" cy=\"199.323\" r=\"4\"/>\n",
       "<circle clip-path=\"url(#clip6402)\" style=\"fill:#009af9; stroke:none; fill-opacity:1\" cx=\"306.395\" cy=\"199.323\" r=\"3\"/>\n",
       "<circle clip-path=\"url(#clip6402)\" style=\"fill:#000000; stroke:none; fill-opacity:1\" cx=\"311.563\" cy=\"199.323\" r=\"4\"/>\n",
       "<circle clip-path=\"url(#clip6402)\" style=\"fill:#009af9; stroke:none; fill-opacity:1\" cx=\"311.563\" cy=\"199.323\" r=\"3\"/>\n",
       "<circle clip-path=\"url(#clip6402)\" style=\"fill:#000000; stroke:none; fill-opacity:1\" cx=\"316.731\" cy=\"199.323\" r=\"4\"/>\n",
       "<circle clip-path=\"url(#clip6402)\" style=\"fill:#009af9; stroke:none; fill-opacity:1\" cx=\"316.731\" cy=\"199.323\" r=\"3\"/>\n",
       "<circle clip-path=\"url(#clip6402)\" style=\"fill:#000000; stroke:none; fill-opacity:1\" cx=\"321.9\" cy=\"365.565\" r=\"4\"/>\n",
       "<circle clip-path=\"url(#clip6402)\" style=\"fill:#009af9; stroke:none; fill-opacity:1\" cx=\"321.9\" cy=\"365.565\" r=\"3\"/>\n",
       "<circle clip-path=\"url(#clip6402)\" style=\"fill:#000000; stroke:none; fill-opacity:1\" cx=\"327.068\" cy=\"365.565\" r=\"4\"/>\n",
       "<circle clip-path=\"url(#clip6402)\" style=\"fill:#009af9; stroke:none; fill-opacity:1\" cx=\"327.068\" cy=\"365.565\" r=\"3\"/>\n",
       "<circle clip-path=\"url(#clip6402)\" style=\"fill:#000000; stroke:none; fill-opacity:1\" cx=\"332.236\" cy=\"365.565\" r=\"4\"/>\n",
       "<circle clip-path=\"url(#clip6402)\" style=\"fill:#009af9; stroke:none; fill-opacity:1\" cx=\"332.236\" cy=\"365.565\" r=\"3\"/>\n",
       "<circle clip-path=\"url(#clip6402)\" style=\"fill:#000000; stroke:none; fill-opacity:1\" cx=\"337.405\" cy=\"22.1145\" r=\"4\"/>\n",
       "<circle clip-path=\"url(#clip6402)\" style=\"fill:#009af9; stroke:none; fill-opacity:1\" cx=\"337.405\" cy=\"22.1145\" r=\"3\"/>\n",
       "<circle clip-path=\"url(#clip6402)\" style=\"fill:#000000; stroke:none; fill-opacity:1\" cx=\"342.573\" cy=\"22.1145\" r=\"4\"/>\n",
       "<circle clip-path=\"url(#clip6402)\" style=\"fill:#009af9; stroke:none; fill-opacity:1\" cx=\"342.573\" cy=\"22.1145\" r=\"3\"/>\n",
       "<circle clip-path=\"url(#clip6402)\" style=\"fill:#000000; stroke:none; fill-opacity:1\" cx=\"347.741\" cy=\"22.1145\" r=\"4\"/>\n",
       "<circle clip-path=\"url(#clip6402)\" style=\"fill:#009af9; stroke:none; fill-opacity:1\" cx=\"347.741\" cy=\"22.1145\" r=\"3\"/>\n",
       "<circle clip-path=\"url(#clip6402)\" style=\"fill:#000000; stroke:none; fill-opacity:1\" cx=\"352.909\" cy=\"22.1145\" r=\"4\"/>\n",
       "<circle clip-path=\"url(#clip6402)\" style=\"fill:#009af9; stroke:none; fill-opacity:1\" cx=\"352.909\" cy=\"22.1145\" r=\"3\"/>\n",
       "<circle clip-path=\"url(#clip6402)\" style=\"fill:#000000; stroke:none; fill-opacity:1\" cx=\"358.078\" cy=\"199.323\" r=\"4\"/>\n",
       "<circle clip-path=\"url(#clip6402)\" style=\"fill:#009af9; stroke:none; fill-opacity:1\" cx=\"358.078\" cy=\"199.323\" r=\"3\"/>\n",
       "<circle clip-path=\"url(#clip6402)\" style=\"fill:#000000; stroke:none; fill-opacity:1\" cx=\"363.246\" cy=\"79.9131\" r=\"4\"/>\n",
       "<circle clip-path=\"url(#clip6402)\" style=\"fill:#009af9; stroke:none; fill-opacity:1\" cx=\"363.246\" cy=\"79.9131\" r=\"3\"/>\n",
       "<circle clip-path=\"url(#clip6402)\" style=\"fill:#000000; stroke:none; fill-opacity:1\" cx=\"368.414\" cy=\"79.9131\" r=\"4\"/>\n",
       "<circle clip-path=\"url(#clip6402)\" style=\"fill:#009af9; stroke:none; fill-opacity:1\" cx=\"368.414\" cy=\"79.9131\" r=\"3\"/>\n",
       "<circle clip-path=\"url(#clip6402)\" style=\"fill:#000000; stroke:none; fill-opacity:1\" cx=\"373.583\" cy=\"79.9131\" r=\"4\"/>\n",
       "<circle clip-path=\"url(#clip6402)\" style=\"fill:#009af9; stroke:none; fill-opacity:1\" cx=\"373.583\" cy=\"79.9131\" r=\"3\"/>\n",
       "<circle clip-path=\"url(#clip6402)\" style=\"fill:#000000; stroke:none; fill-opacity:1\" cx=\"378.751\" cy=\"79.9131\" r=\"4\"/>\n",
       "<circle clip-path=\"url(#clip6402)\" style=\"fill:#009af9; stroke:none; fill-opacity:1\" cx=\"378.751\" cy=\"79.9131\" r=\"3\"/>\n",
       "<circle clip-path=\"url(#clip6402)\" style=\"fill:#000000; stroke:none; fill-opacity:1\" cx=\"383.919\" cy=\"79.9131\" r=\"4\"/>\n",
       "<circle clip-path=\"url(#clip6402)\" style=\"fill:#009af9; stroke:none; fill-opacity:1\" cx=\"383.919\" cy=\"79.9131\" r=\"3\"/>\n",
       "<circle clip-path=\"url(#clip6402)\" style=\"fill:#000000; stroke:none; fill-opacity:1\" cx=\"389.088\" cy=\"79.9131\" r=\"4\"/>\n",
       "<circle clip-path=\"url(#clip6402)\" style=\"fill:#009af9; stroke:none; fill-opacity:1\" cx=\"389.088\" cy=\"79.9131\" r=\"3\"/>\n",
       "<circle clip-path=\"url(#clip6402)\" style=\"fill:#000000; stroke:none; fill-opacity:1\" cx=\"394.256\" cy=\"79.9131\" r=\"4\"/>\n",
       "<circle clip-path=\"url(#clip6402)\" style=\"fill:#009af9; stroke:none; fill-opacity:1\" cx=\"394.256\" cy=\"79.9131\" r=\"3\"/>\n",
       "<circle clip-path=\"url(#clip6402)\" style=\"fill:#000000; stroke:none; fill-opacity:1\" cx=\"399.424\" cy=\"79.9131\" r=\"4\"/>\n",
       "<circle clip-path=\"url(#clip6402)\" style=\"fill:#009af9; stroke:none; fill-opacity:1\" cx=\"399.424\" cy=\"79.9131\" r=\"3\"/>\n",
       "<circle clip-path=\"url(#clip6402)\" style=\"fill:#000000; stroke:none; fill-opacity:1\" cx=\"404.593\" cy=\"79.9131\" r=\"4\"/>\n",
       "<circle clip-path=\"url(#clip6402)\" style=\"fill:#009af9; stroke:none; fill-opacity:1\" cx=\"404.593\" cy=\"79.9131\" r=\"3\"/>\n",
       "<circle clip-path=\"url(#clip6402)\" style=\"fill:#000000; stroke:none; fill-opacity:1\" cx=\"409.761\" cy=\"79.9131\" r=\"4\"/>\n",
       "<circle clip-path=\"url(#clip6402)\" style=\"fill:#009af9; stroke:none; fill-opacity:1\" cx=\"409.761\" cy=\"79.9131\" r=\"3\"/>\n",
       "<circle clip-path=\"url(#clip6402)\" style=\"fill:#000000; stroke:none; fill-opacity:1\" cx=\"414.929\" cy=\"79.9131\" r=\"4\"/>\n",
       "<circle clip-path=\"url(#clip6402)\" style=\"fill:#009af9; stroke:none; fill-opacity:1\" cx=\"414.929\" cy=\"79.9131\" r=\"3\"/>\n",
       "<circle clip-path=\"url(#clip6402)\" style=\"fill:#000000; stroke:none; fill-opacity:1\" cx=\"420.097\" cy=\"79.9131\" r=\"4\"/>\n",
       "<circle clip-path=\"url(#clip6402)\" style=\"fill:#009af9; stroke:none; fill-opacity:1\" cx=\"420.097\" cy=\"79.9131\" r=\"3\"/>\n",
       "<circle clip-path=\"url(#clip6402)\" style=\"fill:#000000; stroke:none; fill-opacity:1\" cx=\"425.266\" cy=\"79.9131\" r=\"4\"/>\n",
       "<circle clip-path=\"url(#clip6402)\" style=\"fill:#009af9; stroke:none; fill-opacity:1\" cx=\"425.266\" cy=\"79.9131\" r=\"3\"/>\n",
       "<circle clip-path=\"url(#clip6402)\" style=\"fill:#000000; stroke:none; fill-opacity:1\" cx=\"430.434\" cy=\"79.9131\" r=\"4\"/>\n",
       "<circle clip-path=\"url(#clip6402)\" style=\"fill:#009af9; stroke:none; fill-opacity:1\" cx=\"430.434\" cy=\"79.9131\" r=\"3\"/>\n",
       "<circle clip-path=\"url(#clip6402)\" style=\"fill:#000000; stroke:none; fill-opacity:1\" cx=\"435.602\" cy=\"79.9131\" r=\"4\"/>\n",
       "<circle clip-path=\"url(#clip6402)\" style=\"fill:#009af9; stroke:none; fill-opacity:1\" cx=\"435.602\" cy=\"79.9131\" r=\"3\"/>\n",
       "<circle clip-path=\"url(#clip6402)\" style=\"fill:#000000; stroke:none; fill-opacity:1\" cx=\"440.771\" cy=\"79.9131\" r=\"4\"/>\n",
       "<circle clip-path=\"url(#clip6402)\" style=\"fill:#009af9; stroke:none; fill-opacity:1\" cx=\"440.771\" cy=\"79.9131\" r=\"3\"/>\n",
       "<circle clip-path=\"url(#clip6402)\" style=\"fill:#000000; stroke:none; fill-opacity:1\" cx=\"445.939\" cy=\"79.9131\" r=\"4\"/>\n",
       "<circle clip-path=\"url(#clip6402)\" style=\"fill:#009af9; stroke:none; fill-opacity:1\" cx=\"445.939\" cy=\"79.9131\" r=\"3\"/>\n",
       "<circle clip-path=\"url(#clip6402)\" style=\"fill:#000000; stroke:none; fill-opacity:1\" cx=\"451.107\" cy=\"79.9131\" r=\"4\"/>\n",
       "<circle clip-path=\"url(#clip6402)\" style=\"fill:#009af9; stroke:none; fill-opacity:1\" cx=\"451.107\" cy=\"79.9131\" r=\"3\"/>\n",
       "<circle clip-path=\"url(#clip6402)\" style=\"fill:#000000; stroke:none; fill-opacity:1\" cx=\"456.276\" cy=\"22.1145\" r=\"4\"/>\n",
       "<circle clip-path=\"url(#clip6402)\" style=\"fill:#009af9; stroke:none; fill-opacity:1\" cx=\"456.276\" cy=\"22.1145\" r=\"3\"/>\n",
       "<circle clip-path=\"url(#clip6402)\" style=\"fill:#000000; stroke:none; fill-opacity:1\" cx=\"461.444\" cy=\"365.565\" r=\"4\"/>\n",
       "<circle clip-path=\"url(#clip6402)\" style=\"fill:#009af9; stroke:none; fill-opacity:1\" cx=\"461.444\" cy=\"365.565\" r=\"3\"/>\n",
       "<circle clip-path=\"url(#clip6402)\" style=\"fill:#000000; stroke:none; fill-opacity:1\" cx=\"466.612\" cy=\"22.1145\" r=\"4\"/>\n",
       "<circle clip-path=\"url(#clip6402)\" style=\"fill:#009af9; stroke:none; fill-opacity:1\" cx=\"466.612\" cy=\"22.1145\" r=\"3\"/>\n",
       "<circle clip-path=\"url(#clip6402)\" style=\"fill:#000000; stroke:none; fill-opacity:1\" cx=\"471.781\" cy=\"22.1145\" r=\"4\"/>\n",
       "<circle clip-path=\"url(#clip6402)\" style=\"fill:#009af9; stroke:none; fill-opacity:1\" cx=\"471.781\" cy=\"22.1145\" r=\"3\"/>\n",
       "<circle clip-path=\"url(#clip6402)\" style=\"fill:#000000; stroke:none; fill-opacity:1\" cx=\"476.949\" cy=\"22.1145\" r=\"4\"/>\n",
       "<circle clip-path=\"url(#clip6402)\" style=\"fill:#009af9; stroke:none; fill-opacity:1\" cx=\"476.949\" cy=\"22.1145\" r=\"3\"/>\n",
       "<circle clip-path=\"url(#clip6402)\" style=\"fill:#000000; stroke:none; fill-opacity:1\" cx=\"482.117\" cy=\"22.1145\" r=\"4\"/>\n",
       "<circle clip-path=\"url(#clip6402)\" style=\"fill:#009af9; stroke:none; fill-opacity:1\" cx=\"482.117\" cy=\"22.1145\" r=\"3\"/>\n",
       "<circle clip-path=\"url(#clip6402)\" style=\"fill:#000000; stroke:none; fill-opacity:1\" cx=\"487.285\" cy=\"22.1145\" r=\"4\"/>\n",
       "<circle clip-path=\"url(#clip6402)\" style=\"fill:#009af9; stroke:none; fill-opacity:1\" cx=\"487.285\" cy=\"22.1145\" r=\"3\"/>\n",
       "<circle clip-path=\"url(#clip6402)\" style=\"fill:#000000; stroke:none; fill-opacity:1\" cx=\"492.454\" cy=\"22.1145\" r=\"4\"/>\n",
       "<circle clip-path=\"url(#clip6402)\" style=\"fill:#009af9; stroke:none; fill-opacity:1\" cx=\"492.454\" cy=\"22.1145\" r=\"3\"/>\n",
       "<circle clip-path=\"url(#clip6402)\" style=\"fill:#000000; stroke:none; fill-opacity:1\" cx=\"497.622\" cy=\"22.1145\" r=\"4\"/>\n",
       "<circle clip-path=\"url(#clip6402)\" style=\"fill:#009af9; stroke:none; fill-opacity:1\" cx=\"497.622\" cy=\"22.1145\" r=\"3\"/>\n",
       "<circle clip-path=\"url(#clip6402)\" style=\"fill:#000000; stroke:none; fill-opacity:1\" cx=\"502.79\" cy=\"22.1145\" r=\"4\"/>\n",
       "<circle clip-path=\"url(#clip6402)\" style=\"fill:#009af9; stroke:none; fill-opacity:1\" cx=\"502.79\" cy=\"22.1145\" r=\"3\"/>\n",
       "<circle clip-path=\"url(#clip6402)\" style=\"fill:#000000; stroke:none; fill-opacity:1\" cx=\"507.959\" cy=\"22.1145\" r=\"4\"/>\n",
       "<circle clip-path=\"url(#clip6402)\" style=\"fill:#009af9; stroke:none; fill-opacity:1\" cx=\"507.959\" cy=\"22.1145\" r=\"3\"/>\n",
       "<circle clip-path=\"url(#clip6402)\" style=\"fill:#000000; stroke:none; fill-opacity:1\" cx=\"513.127\" cy=\"22.1145\" r=\"4\"/>\n",
       "<circle clip-path=\"url(#clip6402)\" style=\"fill:#009af9; stroke:none; fill-opacity:1\" cx=\"513.127\" cy=\"22.1145\" r=\"3\"/>\n",
       "<circle clip-path=\"url(#clip6402)\" style=\"fill:#000000; stroke:none; fill-opacity:1\" cx=\"518.295\" cy=\"22.1145\" r=\"4\"/>\n",
       "<circle clip-path=\"url(#clip6402)\" style=\"fill:#009af9; stroke:none; fill-opacity:1\" cx=\"518.295\" cy=\"22.1145\" r=\"3\"/>\n",
       "<circle clip-path=\"url(#clip6402)\" style=\"fill:#000000; stroke:none; fill-opacity:1\" cx=\"523.464\" cy=\"22.1145\" r=\"4\"/>\n",
       "<circle clip-path=\"url(#clip6402)\" style=\"fill:#009af9; stroke:none; fill-opacity:1\" cx=\"523.464\" cy=\"22.1145\" r=\"3\"/>\n",
       "<circle clip-path=\"url(#clip6402)\" style=\"fill:#000000; stroke:none; fill-opacity:1\" cx=\"528.632\" cy=\"22.1145\" r=\"4\"/>\n",
       "<circle clip-path=\"url(#clip6402)\" style=\"fill:#009af9; stroke:none; fill-opacity:1\" cx=\"528.632\" cy=\"22.1145\" r=\"3\"/>\n",
       "<circle clip-path=\"url(#clip6402)\" style=\"fill:#000000; stroke:none; fill-opacity:1\" cx=\"533.8\" cy=\"22.1145\" r=\"4\"/>\n",
       "<circle clip-path=\"url(#clip6402)\" style=\"fill:#009af9; stroke:none; fill-opacity:1\" cx=\"533.8\" cy=\"22.1145\" r=\"3\"/>\n",
       "<circle clip-path=\"url(#clip6402)\" style=\"fill:#000000; stroke:none; fill-opacity:1\" cx=\"538.969\" cy=\"22.1145\" r=\"4\"/>\n",
       "<circle clip-path=\"url(#clip6402)\" style=\"fill:#009af9; stroke:none; fill-opacity:1\" cx=\"538.969\" cy=\"22.1145\" r=\"3\"/>\n",
       "<circle clip-path=\"url(#clip6402)\" style=\"fill:#000000; stroke:none; fill-opacity:1\" cx=\"544.137\" cy=\"22.1145\" r=\"4\"/>\n",
       "<circle clip-path=\"url(#clip6402)\" style=\"fill:#009af9; stroke:none; fill-opacity:1\" cx=\"544.137\" cy=\"22.1145\" r=\"3\"/>\n",
       "<circle clip-path=\"url(#clip6402)\" style=\"fill:#000000; stroke:none; fill-opacity:1\" cx=\"549.305\" cy=\"22.1145\" r=\"4\"/>\n",
       "<circle clip-path=\"url(#clip6402)\" style=\"fill:#009af9; stroke:none; fill-opacity:1\" cx=\"549.305\" cy=\"22.1145\" r=\"3\"/>\n",
       "<circle clip-path=\"url(#clip6402)\" style=\"fill:#000000; stroke:none; fill-opacity:1\" cx=\"554.473\" cy=\"22.1145\" r=\"4\"/>\n",
       "<circle clip-path=\"url(#clip6402)\" style=\"fill:#009af9; stroke:none; fill-opacity:1\" cx=\"554.473\" cy=\"22.1145\" r=\"3\"/>\n",
       "<circle clip-path=\"url(#clip6402)\" style=\"fill:#000000; stroke:none; fill-opacity:1\" cx=\"559.642\" cy=\"22.1145\" r=\"4\"/>\n",
       "<circle clip-path=\"url(#clip6402)\" style=\"fill:#009af9; stroke:none; fill-opacity:1\" cx=\"559.642\" cy=\"22.1145\" r=\"3\"/>\n",
       "<circle clip-path=\"url(#clip6402)\" style=\"fill:#000000; stroke:none; fill-opacity:1\" cx=\"564.81\" cy=\"22.1145\" r=\"4\"/>\n",
       "<circle clip-path=\"url(#clip6402)\" style=\"fill:#009af9; stroke:none; fill-opacity:1\" cx=\"564.81\" cy=\"22.1145\" r=\"3\"/>\n",
       "<polygon clip-path=\"url(#clip6400)\" points=\"\n",
       "489.608,62.931 562.315,62.931 562.315,32.691 489.608,32.691 \n",
       "  \" fill=\"#ffffff\" fill-opacity=\"1\"/>\n",
       "<polyline clip-path=\"url(#clip6400)\" style=\"stroke:#000000; stroke-width:1; stroke-opacity:1; fill:none\" points=\"\n",
       "  489.608,62.931 562.315,62.931 562.315,32.691 489.608,32.691 489.608,62.931 \n",
       "  \"/>\n",
       "<circle clip-path=\"url(#clip6400)\" style=\"fill:#000000; stroke:none; fill-opacity:1\" cx=\"516.608\" cy=\"47.811\" r=\"6\"/>\n",
       "<circle clip-path=\"url(#clip6400)\" style=\"fill:#009af9; stroke:none; fill-opacity:1\" cx=\"516.608\" cy=\"47.811\" r=\"5\"/>\n",
       "<g clip-path=\"url(#clip6400)\">\n",
       "<text style=\"fill:#000000; fill-opacity:1; font-family:Arial,Helvetica Neue,Helvetica,sans-serif; font-size:12; text-anchor:start;\" transform=\"rotate(0, 537.608, 52.311)\" x=\"537.608\" y=\"52.311\">y1</text>\n",
       "</g>\n",
       "</svg>\n"
      ]
     },
     "execution_count": 61,
     "metadata": {},
     "output_type": "execute_result"
    }
   ],
   "source": [
    "scatter(x0s, pfs)"
   ]
  },
  {
   "cell_type": "code",
   "execution_count": 62,
   "metadata": {},
   "outputs": [
    {
     "data": {
      "text/plain": [
       "8-element Array{Float64,1}:\n",
       " 0.0     \n",
       " 0.863652\n",
       " 0.71831 \n",
       " 0.418038\n",
       " 0.418038\n",
       " 0.418038\n",
       " 0.418038\n",
       " 0.71831 "
      ]
     },
     "execution_count": 62,
     "metadata": {},
     "output_type": "execute_result"
    }
   ],
   "source": [
    "unique(pfs)"
   ]
  },
  {
   "cell_type": "code",
   "execution_count": 65,
   "metadata": {},
   "outputs": [
    {
     "name": "stdout",
     "output_type": "stream",
     "text": [
      "0.0\n",
      "0.0\n",
      "0.0\n",
      "0.0\n",
      "0.0\n",
      "0.0\n",
      "0.0\n",
      "0.0\n",
      "0.0\n",
      "0.0\n",
      "0.0\n",
      "0.0\n",
      "0.0\n",
      "0.0\n",
      "0.0\n",
      "0.8636520002754419\n",
      "0.8636520002754419\n",
      "0.8636520002754419\n",
      "0.7183098591549296\n",
      "0.8636520002754419\n",
      "0.0\n",
      "0.41803814056962846\n",
      "0.41803814056962874\n",
      "0.4180381405696286\n",
      "0.41803814056962857\n",
      "0.4180381405696286\n",
      "0.41803814056962846\n",
      "0.4180381405696286\n",
      "0.41803814056962857\n",
      "0.4180381405696286\n",
      "0.41803814056962857\n",
      "0.41803814056962846\n",
      "0.4180381405696286\n",
      "0.41803814056962874\n",
      "0.4180381405696286\n",
      "0.4180381405696286\n",
      "0.41803814056962857\n",
      "0.4180381405696286\n",
      "0.41803814056962874\n",
      "0.4180381405696286\n",
      "0.4180381405696286\n",
      "0.4180381405696286\n",
      "0.4180381405696286\n",
      "0.41803814056962846\n",
      "0.4180381405696286\n",
      "0.41803814056962857\n",
      "0.41803814056962857\n",
      "0.4180381405696286\n",
      "0.4180381405696286\n",
      "0.4180381405696286\n",
      "0.4180381405696286\n",
      "0.41803814056962874\n",
      "0.4180381405696286\n",
      "0.0\n",
      "0.0\n",
      "0.0\n",
      "0.8636520002754419\n",
      "0.8636520002754419\n",
      "0.8636520002754419\n",
      "0.8636520002754419\n",
      "0.4180381405696286\n",
      "0.7183098591549295\n",
      "0.7183098591549295\n",
      "0.7183098591549296\n",
      "0.7183098591549296\n",
      "0.7183098591549296\n",
      "0.7183098591549296\n",
      "0.7183098591549295\n",
      "0.7183098591549295\n",
      "0.7183098591549295\n",
      "0.7183098591549296\n",
      "0.7183098591549295\n",
      "0.7183098591549296\n",
      "0.7183098591549295\n",
      "0.7183098591549295\n",
      "0.7183098591549295\n",
      "0.7183098591549296\n",
      "0.7183098591549295\n",
      "0.7183098591549295\n",
      "0.8636520002754419\n",
      "0.0\n",
      "0.8636520002754419\n",
      "0.8636520002754419\n",
      "0.8636520002754419\n",
      "0.8636520002754419\n",
      "0.8636520002754419\n",
      "0.8636520002754419\n",
      "0.8636520002754419\n",
      "0.8636520002754419\n",
      "0.8636520002754419\n",
      "0.8636520002754419\n",
      "0.8636520002754419\n",
      "0.8636520002754419\n",
      "0.8636520002754419\n",
      "0.8636520002754419\n",
      "0.8636520002754419\n",
      "0.8636520002754419\n",
      "0.8636520002754419\n",
      "0.8636520002754419\n",
      "0.8636520002754419\n",
      "0.8636520002754419\n"
     ]
    }
   ],
   "source": [
    "for pf in pfs\n",
    "    println(pf)\n",
    "end"
   ]
  },
  {
   "cell_type": "code",
   "execution_count": 67,
   "metadata": {},
   "outputs": [
    {
     "data": {
      "text/plain": [
       "4-element Array{Float64,1}:\n",
       " 0.0    \n",
       " 0.86365\n",
       " 0.71831\n",
       " 0.41804"
      ]
     },
     "execution_count": 67,
     "metadata": {},
     "output_type": "execute_result"
    }
   ],
   "source": [
    "unique(round.(pfs, 5))"
   ]
  },
  {
   "cell_type": "markdown",
   "metadata": {},
   "source": [
    "#### Ejercicio\n",
    "\n",
    "[1] Define una función `iterar` que acepta una función `f` y un número `n`, y regresa la función iterada $n$ veces (¡como función¡).\n",
    "\n",
    "[2] Verifica que la diferenciación automática ¡funciona automáticamente para derivar las funciones iteradas! [Ojo: Tal vez no sea la manera más eficiente [es decir, rápida] de calcular las derivadas. Ejercicio: Verifícalo.]\n",
    "\n",
    "[3] Así, calcula puntos periódicos del mapeo logístico de periodo 2, 4 etc."
   ]
  },
  {
   "cell_type": "markdown",
   "metadata": {},
   "source": [
    "## Bifurcaciones en el mapeo logístico"
   ]
  },
  {
   "cell_type": "markdown",
   "metadata": {},
   "source": [
    "Sabemos que las bifurcaciones en el mapeo logístico (para valores suficientemente pequeños de $\\mu$) son de tipo doblamiento de periodo (también conocido como \"flip\"), los cuales ocurren cuando la estabilidad del punto periódico cambia, es decir cuando $(f_\\mu^p)'(x^s(\\mu))$ atraviese $-1$.\n",
    "\n",
    "Podemos entonces buscar los valores críticos $\\mu_c$ de $\\mu$, al resolver la ecuación nolineal\n",
    "\n",
    "$$b^p(\\mu) := (f_\\mu^p)'(x^s(\\mu)) + 1 = 0$$\n",
    "\n",
    "para $\\mu$."
   ]
  },
  {
   "cell_type": "markdown",
   "metadata": {},
   "source": [
    "#### Ejercicio\n",
    "\n",
    "[1] Define una función $x^s(f, \\mu)$ que encuentre un punto fijo de $f$.\n",
    "\n",
    "[2] Utiliza el método de Newton para encontrar los valores de $\\mu$ en los cuales ocurren las bifurcaciones."
   ]
  },
  {
   "cell_type": "code",
   "execution_count": 73,
   "metadata": {},
   "outputs": [
    {
     "data": {
      "text/plain": [
       "punto_fijo (generic function with 1 method)"
      ]
     },
     "execution_count": 73,
     "metadata": {},
     "output_type": "execute_result"
    }
   ],
   "source": [
    "punto_fijo(μ) = newton(x->logistico(μ,x) - x, 0.5)"
   ]
  },
  {
   "cell_type": "code",
   "execution_count": 74,
   "metadata": {},
   "outputs": [
    {
     "data": {
      "text/plain": [
       "g (generic function with 1 method)"
      ]
     },
     "execution_count": 74,
     "metadata": {},
     "output_type": "execute_result"
    }
   ],
   "source": [
    "g(μ) = logistico′(μ, punto_fijo(μ)) + 1"
   ]
  },
  {
   "cell_type": "code",
   "execution_count": 75,
   "metadata": {},
   "outputs": [
    {
     "data": {
      "text/plain": [
       "3.0"
      ]
     },
     "execution_count": 75,
     "metadata": {},
     "output_type": "execute_result"
    }
   ],
   "source": [
    "newton(g, 3.1)"
   ]
  },
  {
   "cell_type": "code",
   "execution_count": 76,
   "metadata": {},
   "outputs": [
    {
     "data": {
      "text/plain": [
       "log_iter_2 (generic function with 1 method)"
      ]
     },
     "execution_count": 76,
     "metadata": {},
     "output_type": "execute_result"
    }
   ],
   "source": [
    "log_iter_2(μ, x) = logistico(μ, logistico(μ, x))"
   ]
  },
  {
   "cell_type": "code",
   "execution_count": 77,
   "metadata": {},
   "outputs": [
    {
     "data": {
      "text/plain": [
       "punto_fijo2 (generic function with 1 method)"
      ]
     },
     "execution_count": 77,
     "metadata": {},
     "output_type": "execute_result"
    }
   ],
   "source": [
    "punto_fijo2(μ) = newton(x->log_iter_2(μ,x) - x, 0.5)"
   ]
  },
  {
   "cell_type": "code",
   "execution_count": 84,
   "metadata": {},
   "outputs": [
    {
     "data": {
      "text/plain": [
       "0.5580141252026959"
      ]
     },
     "execution_count": 84,
     "metadata": {},
     "output_type": "execute_result"
    }
   ],
   "source": [
    "punto_fijo2(3.1)"
   ]
  },
  {
   "cell_type": "code",
   "execution_count": 85,
   "metadata": {},
   "outputs": [
    {
     "data": {
      "text/plain": [
       "g2 (generic function with 1 method)"
      ]
     },
     "execution_count": 85,
     "metadata": {},
     "output_type": "execute_result"
    }
   ],
   "source": [
    "g2(μ) = deriv(x->log_iter_2(μ, x))(punto_fijo2(μ)) + 1"
   ]
  },
  {
   "cell_type": "code",
   "execution_count": 87,
   "metadata": {},
   "outputs": [
    {
     "data": {
      "text/plain": [
       "3.4494897427831774"
      ]
     },
     "execution_count": 87,
     "metadata": {},
     "output_type": "execute_result"
    }
   ],
   "source": [
    "newton(g2, 3.1)"
   ]
  },
  {
   "cell_type": "markdown",
   "metadata": {},
   "source": [
    "## Precisión arbitraria"
   ]
  },
  {
   "cell_type": "markdown",
   "metadata": {},
   "source": [
    "Julia permite trabajar con números de precisión arbitraria, en lugar de los `Float64`. \n",
    "Provee el tipo `BigFloat`, cuya precisión se puede especificar:"
   ]
  },
  {
   "cell_type": "code",
   "execution_count": 88,
   "metadata": {},
   "outputs": [
    {
     "data": {
      "text/plain": [
       "1000"
      ]
     },
     "execution_count": 88,
     "metadata": {},
     "output_type": "execute_result"
    }
   ],
   "source": [
    "setprecision(1000)  # número de bits de precisión"
   ]
  },
  {
   "cell_type": "code",
   "execution_count": 90,
   "metadata": {},
   "outputs": [
    {
     "data": {
      "text/plain": [
       "\"0100000000001000110011001100110011001100110011001100110011001101\""
      ]
     },
     "execution_count": 90,
     "metadata": {},
     "output_type": "execute_result"
    }
   ],
   "source": [
    "bits(3.1)"
   ]
  },
  {
   "cell_type": "code",
   "execution_count": 89,
   "metadata": {},
   "outputs": [
    {
     "data": {
      "text/plain": [
       "3.10000000000000008881784197001252323389053344726562500000000000000000000000000000000000000000000000000000000000000000000000000000000000000000000000000000000000000000000000000000000000000000000000000000000000000000000000000000000000000000000000000000000000000000000000000000000000000000000000000000000000"
      ]
     },
     "execution_count": 89,
     "metadata": {},
     "output_type": "execute_result"
    }
   ],
   "source": [
    "x = big(3.1)"
   ]
  },
  {
   "cell_type": "code",
   "execution_count": 5,
   "metadata": {},
   "outputs": [
    {
     "data": {
      "text/plain": [
       "3.09999999999999999999999999999999999999999999999999999999999999999999999999999999999999999999999999999999999999999999999999999999999999999999999999999999999999999999999999999999999999999999999999999999999999999999999999999999999999999999999999999999999999999999999999999999999999999999999999999999999985"
      ]
     },
     "execution_count": 5,
     "metadata": {},
     "output_type": "execute_result"
    }
   ],
   "source": [
    "x = big\"3.1\""
   ]
  },
  {
   "cell_type": "code",
   "execution_count": 93,
   "metadata": {},
   "outputs": [
    {
     "data": {
      "text/plain": [
       "3.10000000000000000000000000000000000000000000000000000000000000000000000000000000000000000000000000000000000000000000000000000000000000000000000000000000000000000000000000000000000000000000000000000000000000000000000000000000000000000000000000000000000000000000000000000000000000000000000000000000000022"
      ]
     },
     "execution_count": 93,
     "metadata": {},
     "output_type": "execute_result"
    }
   ],
   "source": [
    "setrounding(BigFloat, RoundUp) do\n",
    "    parse(BigFloat, \"3.1\")\n",
    "end"
   ]
  },
  {
   "cell_type": "code",
   "execution_count": 98,
   "metadata": {},
   "outputs": [
    {
     "data": {
      "text/plain": [
       "3.10000000000000000000000000000000000000000000000000000000000000000000000000000000000000000000000000000000000000000000000000000000000000000000000000000000000000000000000000000000000000000000000000000000000000000000000000000000000000000000000000000000000000000000000000000000000000000000000000000000000022"
      ]
     },
     "execution_count": 98,
     "metadata": {},
     "output_type": "execute_result"
    }
   ],
   "source": [
    "xxx = big\"3.1\""
   ]
  },
  {
   "cell_type": "code",
   "execution_count": null,
   "metadata": {},
   "outputs": [],
   "source": []
  },
  {
   "cell_type": "code",
   "execution_count": 99,
   "metadata": {},
   "outputs": [
    {
     "data": {
      "text/plain": [
       "f (generic function with 1 method)"
      ]
     },
     "execution_count": 99,
     "metadata": {},
     "output_type": "execute_result"
    }
   ],
   "source": [
    "f(x) = 3x^2 - 2"
   ]
  },
  {
   "cell_type": "code",
   "execution_count": 100,
   "metadata": {},
   "outputs": [
    {
     "data": {
      "text/plain": [
       "2.68300000000000000000000000000000000000000000000000000000000000000000000000000000000000000000000000000000000000000000000000000000000000000000000000000000000000000000000000000000000000000000000000000000000000000000000000000000000000000000000000000000000000000000000000000000000000000000000000000000000047e+01"
      ]
     },
     "execution_count": 100,
     "metadata": {},
     "output_type": "execute_result"
    }
   ],
   "source": [
    "f(xxx)"
   ]
  },
  {
   "cell_type": "code",
   "execution_count": 101,
   "metadata": {},
   "outputs": [
    {
     "data": {
      "text/plain": [
       "3.44948974278317809819728407470589139196594748065667012843269256725096037745731502653985943310464023481859460122661418912485886545983775734162578395123727855282891274752767657124763010527091177022348131067898669085363244335254560403380880893937458556784657472436130414427027021617420183830008158980783751"
      ]
     },
     "execution_count": 101,
     "metadata": {},
     "output_type": "execute_result"
    }
   ],
   "source": [
    "newton(g2, big\"3.1\")"
   ]
  },
  {
   "cell_type": "code",
   "execution_count": 104,
   "metadata": {},
   "outputs": [
    {
     "data": {
      "text/plain": [
       "10000"
      ]
     },
     "execution_count": 104,
     "metadata": {},
     "output_type": "execute_result"
    }
   ],
   "source": [
    "setprecision(10000)"
   ]
  },
  {
   "cell_type": "code",
   "execution_count": 106,
   "metadata": {},
   "outputs": [
    {
     "data": {
      "text/plain": [
       "3.44948974278317809819728407470589139196594748065667012843269256725096037745731502653985943310464023481859460122661418912485886545983775734162578395123727855282891274752767657124763010527091177022348131067898669085363244335254560403380880893937458556784657472436130414427027021617420183830008158980783801308970072869399363083715809440080044373868754916451465393914501204472644813331629351094474181351328549504446617172663142549764831812450401156604536459009343586167931983665666266909131906535863766105258156179366236179110294672088354575512883552989832410055869020500641546612411735339941043105799289846733953255278736041829655171830391036780038362316629732330282904977391047426360070512637697546888677006409929559257173284645028880915144257463026029529632370755250342275599154542628129800306467207994242530228784262053406794786004659693997993559754061671358654653456248208256276886369280941306372433508864801572484633723244737954548814438479336370091974101477852328755910631598460783103670095353247264231671418875862374150650443504037472553549741114219239424315307736032750955332578688984783619112037411603194793682464025252772685104435575535253745035039530471232175828990454869859235639012327506329035818295337829981637631156370863658424053631877686923050412689031973134212485243833079496751241585394314063383489117021052102577259643406247127499029739416616342145235987312030010205679987938052760428128200199627396801043786428313772882465856713811251050856435127330156602835038856382623156279567248927964638368626742730668184752979052693868153885893354925985761786234063998585314556018494848351239927509385926872973354881647774884462487704977020001831842880951820400115744979607042067338057445072031342689156179214113005905865176229432155065641095722741583678817179515412270241059369644272186439392019714266703342363010907704864719412299565568905337029006568701643558071745946374880337843310615720343898004444194652640159681676544442278515168082048791825454489620449710242321838014384612176188329641348774245134241686312387589874902067551246441012301595617632184775060024377042770045630448128848472931957230356539755981646040533398441196718134481144986493862273132759668332395878681022203233932532936615100743257289343378641114419077685472340091963779673247897230292803386719836833373076400643129400637227959522837714184754376081387048285768350488572623974566024238401603700993296527900529563430351975485201747281737854225600720975958208036488816991426414499623943854695479093047352439920376443753819624273973603860390115720949811671489473416826127575108574265704596451002051108950198685609238898336536966924058527261859018265806360928157199738226421675876696344591640120518975039275441445943172866307771804410466910949848273874910589281339906775215068268787607702733134886790604020712889956489589522450407758504418466674200133130130772439543958854571353168519227508455354218972703784290254231078319673060477181428916668542712033055424190631206874481546925412176246377584828754652292575127721530926542073962785"
      ]
     },
     "execution_count": 106,
     "metadata": {},
     "output_type": "execute_result"
    }
   ],
   "source": [
    "a = newton(g2, deriv(g2), big\"3.1\", 100)"
   ]
  },
  {
   "cell_type": "code",
   "execution_count": 112,
   "metadata": {},
   "outputs": [
    {
     "data": {
      "text/plain": [
       "3013-element Array{Char,1}:\n",
       " '3'\n",
       " '.'\n",
       " '4'\n",
       " '4'\n",
       " '9'\n",
       " '4'\n",
       " '8'\n",
       " '9'\n",
       " '7'\n",
       " '4'\n",
       " '2'\n",
       " '7'\n",
       " '8'\n",
       " ⋮  \n",
       " '5'\n",
       " '4'\n",
       " '2'\n",
       " '0'\n",
       " '7'\n",
       " '3'\n",
       " '9'\n",
       " '6'\n",
       " '2'\n",
       " '7'\n",
       " '8'\n",
       " '5'"
      ]
     },
     "execution_count": 112,
     "metadata": {},
     "output_type": "execute_result"
    }
   ],
   "source": [
    "caracteres = [c for c in string(a)]"
   ]
  },
  {
   "cell_type": "code",
   "execution_count": 113,
   "metadata": {},
   "outputs": [],
   "source": [
    "using StatsBase"
   ]
  },
  {
   "cell_type": "code",
   "execution_count": 115,
   "metadata": {},
   "outputs": [
    {
     "data": {
      "text/plain": [
       "Dict{Char,Int64} with 11 entries:\n",
       "  '8' => 300\n",
       "  '6' => 293\n",
       "  '5' => 305\n",
       "  '.' => 1\n",
       "  '7' => 304\n",
       "  '2' => 303\n",
       "  '4' => 336\n",
       "  '1' => 280\n",
       "  '0' => 299\n",
       "  '3' => 328\n",
       "  '9' => 264"
      ]
     },
     "execution_count": 115,
     "metadata": {},
     "output_type": "execute_result"
    }
   ],
   "source": [
    "d = countmap(caracteres)"
   ]
  },
  {
   "cell_type": "code",
   "execution_count": 121,
   "metadata": {},
   "outputs": [
    {
     "data": {
      "text/plain": [
       "11-element Array{Char,1}:\n",
       " '8'\n",
       " '6'\n",
       " '5'\n",
       " '.'\n",
       " '7'\n",
       " '2'\n",
       " '4'\n",
       " '1'\n",
       " '0'\n",
       " '3'\n",
       " '9'"
      ]
     },
     "execution_count": 121,
     "metadata": {},
     "output_type": "execute_result"
    }
   ],
   "source": []
  },
  {
   "cell_type": "code",
   "execution_count": null,
   "metadata": {},
   "outputs": [],
   "source": [
    "#S 3,4,4,9,4,8,9,7,4,2,7,8,3,1,7,8,0,9,8,1,9,7,2,8,4,0,7,4,7,0,5,8,9,1,\n",
    "\n",
    "# https://oeis.org/A086180/internal\n"
   ]
  },
  {
   "cell_type": "markdown",
   "metadata": {},
   "source": [
    "#### Ejercicio\n",
    "\n",
    "Utiliza `BigFloat` para encontrar los puntos de bifuración con precisión alta.\n",
    "\n",
    "Pista: [*Nunca repitas código*](https://es.wikipedia.org/wiki/No_te_repitas). Escribe las funciones para que funcionen con *cualquier tipo de entrada*, `Float64` o `BigFloat`."
   ]
  },
  {
   "cell_type": "markdown",
   "metadata": {},
   "source": [
    "## Puntos fijos en varias dimensiones"
   ]
  },
  {
   "cell_type": "markdown",
   "metadata": {},
   "source": [
    "Si tenemos un mapeo $\\mathbf{f} : \\mathbb{R}^n \\to \\mathbb{R}^n$, los puntos fijos satisfacen $\\mathbf{f}(\\mathbf{x^s}) = \\mathbf{x^s}$. Por lo tanto, ahora debemos buscar raíces de funciones en $n$ dimensiones."
   ]
  },
  {
   "cell_type": "markdown",
   "metadata": {},
   "source": [
    "## Método de Newton en varias dimensiones\n",
    "\n",
    "De nuevo utilizaremos el método de Newton, pero ahora en varias dimensiones.\n",
    "El desarrollo es parecido al caso uni-dimensional; la implementación es un tanto más complicada.\n",
    "\n",
    "Consideremos una adivinanza $\\mathbf{x}_0$. Queremos calcular $\\pmb{\\delta}$ tal que\n",
    "\n",
    "$$\\mathbf{f}(\\mathbf{x}_0 + \\pmb{\\delta}) = \\mathbf{0}.$$\n",
    "\n",
    "Desarrollando en una serie de Taylor a primer orden, obtenemos\n",
    "\n",
    "$$\\mathbf{f}(\\mathbf{x}_0) + (D \\, \\mathbf{f})(\\mathbf{x}_0) \\cdot \\pmb{\\delta} = \\mathbf{0},$$\n",
    "\n",
    "donde $$(D \\, \\mathbf{f})(\\mathbf{x}_0)$$ es la matriz jacobiana de $\\mathbf{f}$ en el punto $\\mathbf{x}_0$.\n",
    "\n",
    "y por lo tanto $\\pmb{\\delta}$ es la solución al sistema de ecuaciones lineales\n",
    "\n",
    "$$(D \\, \\mathbf{f})(\\mathbf{x}_0) \\cdot \\pmb{\\delta} = -\\mathbf{f}(\\mathbf{x}_0).$$\n",
    "\n",
    "Luego la siguiente aproximación a la raíz es $\\mathbf{x}_1 := \\mathbf{x}_0 + \\pmb{\\delta}$."
   ]
  },
  {
   "cell_type": "markdown",
   "metadata": {},
   "source": [
    "### Implementación "
   ]
  },
  {
   "cell_type": "markdown",
   "metadata": {},
   "source": [
    "Para implementar este método en la computadora, primero debemos calcular la matriz jacobiana, luego resolver el sistema de ecuaciones.\n",
    "\n",
    "La matriz jacobiana se puede calcular utilizando diferenciación automática. Se encuentra implementada en el paquete `ForwardDiff.jl`. La función $\\mathbf{f}$ debe tomar un vector y regresar un vector, e.g."
   ]
  },
  {
   "cell_type": "code",
   "execution_count": 122,
   "metadata": {},
   "outputs": [
    {
     "data": {
      "text/plain": [
       "f (generic function with 1 method)"
      ]
     },
     "execution_count": 122,
     "metadata": {},
     "output_type": "execute_result"
    }
   ],
   "source": [
    "function f(xx)\n",
    "    x, y = xx    # deshacer el vector xx en las componentes x y y\n",
    "    \n",
    "    return [x + y, x^2 - y^2]\n",
    "end"
   ]
  },
  {
   "cell_type": "markdown",
   "metadata": {},
   "source": [
    "También se puede escribir como sigue:"
   ]
  },
  {
   "cell_type": "code",
   "execution_count": 123,
   "metadata": {},
   "outputs": [
    {
     "data": {
      "text/plain": [
       "f1 (generic function with 1 method)"
      ]
     },
     "execution_count": 123,
     "metadata": {},
     "output_type": "execute_result"
    }
   ],
   "source": [
    "f1(xx) = ( (x, y) = xx; [x + y, x^2 - y] )"
   ]
  },
  {
   "cell_type": "code",
   "execution_count": 124,
   "metadata": {},
   "outputs": [],
   "source": [
    "using ForwardDiff"
   ]
  },
  {
   "cell_type": "code",
   "execution_count": 125,
   "metadata": {},
   "outputs": [
    {
     "data": {
      "text/plain": [
       "2×2 Array{Int64,2}:\n",
       " 1   1\n",
       " 2  -4"
      ]
     },
     "execution_count": 125,
     "metadata": {},
     "output_type": "execute_result"
    }
   ],
   "source": [
    "J = ForwardDiff.jacobian(f, [1, 2])"
   ]
  },
  {
   "cell_type": "markdown",
   "metadata": {},
   "source": [
    "Ahora si se tiene un vector `b`, para resolver el sistema de ecuaciones $\\mathsf{J} \\cdot \\mathbf{x} = \\mathbf{b}$ para $\\mathbf{x}$, Julia utiliza el operador `\\`:"
   ]
  },
  {
   "cell_type": "code",
   "execution_count": 9,
   "metadata": {},
   "outputs": [
    {
     "data": {
      "text/plain": [
       "2-element Array{Float64,1}:\n",
       " 2.66667 \n",
       " 0.333333"
      ]
     },
     "execution_count": 9,
     "metadata": {},
     "output_type": "execute_result"
    }
   ],
   "source": [
    "b = [3, 4]\n",
    "\n",
    "x = J \\ b"
   ]
  },
  {
   "cell_type": "code",
   "execution_count": 10,
   "metadata": {},
   "outputs": [
    {
     "data": {
      "text/plain": [
       "2-element Array{Float64,1}:\n",
       " 3.0\n",
       " 4.0"
      ]
     },
     "execution_count": 10,
     "metadata": {},
     "output_type": "execute_result"
    }
   ],
   "source": [
    "J * x"
   ]
  },
  {
   "cell_type": "markdown",
   "metadata": {},
   "source": [
    "#### Ejercicio"
   ]
  },
  {
   "cell_type": "markdown",
   "metadata": {},
   "source": [
    "[1] Implementa el método de Newton en varias dimensiones con vectores. \n",
    "\n",
    "[2] Aplícalo para encontrar los puntos fijos del siguiente sistema de EDOs:\n",
    "\n",
    "$$\n",
    "\\begin{align}\n",
    "\\dot{x} &= x \\, (3 - x - 2y)\\\\\n",
    "\\dot{y} &= y \\, (2 - x - y).\n",
    "\\end{align}\n",
    "$$\n",
    "\n",
    "Para hacerlo, inicia desde distintas condiciones iniciales en el plano (e.g. aleatorios con `rand(2)`) y acumula una lista de puntos fijos encontrados con Newton.\n",
    "\n",
    "Al final, limpia los puntos fijos al redondearlos con `round.(x, 5)` y luego utiliza la función `unique`."
   ]
  },
  {
   "cell_type": "code",
   "execution_count": null,
   "metadata": {},
   "outputs": [],
   "source": []
  }
 ],
 "metadata": {
  "kernelspec": {
   "display_name": "Julia 0.6.2",
   "language": "julia",
   "name": "julia-0.6"
  },
  "language_info": {
   "file_extension": ".jl",
   "mimetype": "application/julia",
   "name": "julia",
   "version": "0.6.2"
  }
 },
 "nbformat": 4,
 "nbformat_minor": 2
}
