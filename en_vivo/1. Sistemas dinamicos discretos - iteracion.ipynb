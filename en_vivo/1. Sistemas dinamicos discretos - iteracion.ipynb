{
 "cells": [
  {
   "cell_type": "markdown",
   "metadata": {},
   "source": [
    "# Sistemas dinámicos discretos: iteración"
   ]
  },
  {
   "cell_type": "markdown",
   "metadata": {},
   "source": [
    "Empezaremos con lo más básico: mapeos iterados como sistemas dinámicos discretos. \n",
    "\n",
    "Dadas una función $\\mathbf{f}_\\mathbf{\\mu}: \\mathbb{R}^n \\to \\mathbb{R}^n$, con parámetro(s) $\\mathbf{\\mu}$, y una condición inicial $\\mathbf{x}_0$, calculamos los iterados\n",
    "\n",
    "$$\\mathbf{x}_1 = \\mathbf{f}_\\mathbf{\\mu}(\\mathbf{x}_0); \\quad \\mathbf{x}_2 = \\mathbf{f}_\\mathbf{\\mu}(\\mathbf{x}_1); \\quad \\ldots \\quad \\mathbf{x}_{n+1} = \\mathbf{f}_\\mathbf{\\mu}(\\mathbf{x}_n), \\ldots.$$\n",
    "\n",
    "Podemos pensar en $n$ como el tiempo discreto (número de pasos).\n"
   ]
  },
  {
   "cell_type": "markdown",
   "metadata": {},
   "source": [
    "## Mapeo logístico"
   ]
  },
  {
   "cell_type": "markdown",
   "metadata": {},
   "source": [
    "Veamos cómo implementar esto en Julia, con uno de los mapeos más conocidos, el **mapeo logístico** en 1 dimensión:\n",
    "\n",
    "$$f(\\mu, x) := \\mu x (1 - x).$$"
   ]
  },
  {
   "cell_type": "markdown",
   "metadata": {},
   "source": [
    "### Definir una función\n",
    "Primero, necesitamos definir la función. Para funciones sencillas matemáticas, Julia provee una sintaxis sencilla:"
   ]
  },
  {
   "cell_type": "code",
   "execution_count": null,
   "metadata": {},
   "outputs": [],
   "source": [
    "                                        logistico(μ, x) = μ * x * (1 - x)"
   ]
  },
  {
   "cell_type": "markdown",
   "metadata": {},
   "source": [
    "Nota que Julia permite utilizar símbolos de Unicode como variables y operadores. E.g. para poner μ, tecleamos `\\mu<TAB>`, donde `<TAB>` indica que apretemos la tecla \"tabulador\"."
   ]
  },
  {
   "cell_type": "markdown",
   "metadata": {},
   "source": [
    "La función se ejecuta de la siguiente manera:"
   ]
  },
  {
   "cell_type": "code",
   "execution_count": null,
   "metadata": {},
   "outputs": [],
   "source": [
    "logistico(0.5, 0.3)"
   ]
  },
  {
   "cell_type": "markdown",
   "metadata": {},
   "source": [
    "## Iteración: bucle `for`"
   ]
  },
  {
   "cell_type": "markdown",
   "metadata": {},
   "source": [
    "Ahora queremos implementar la iteración de una función con un número de pasos dado, para lo cual utilizamos un bucle `for`. Vamos guardando los datos en un vector 1-dimensional con la función `push!`:"
   ]
  },
  {
   "cell_type": "code",
   "execution_count": null,
   "metadata": {},
   "outputs": [],
   "source": [
    "\"\"\"Iterar la función `f` desde la condición inicial `x0`, un número `n` de veces\"\"\"\n",
    "function iterar(f, x0, n)\n",
    "    iterados = [x0]\n",
    "    x = x0\n",
    "    \n",
    "    for i in 1:n\n",
    "        x = f(x)\n",
    "        push!(iterados, x)\n",
    "    end\n",
    "    \n",
    "    return iterados\n",
    "end"
   ]
  },
  {
   "cell_type": "markdown",
   "metadata": {},
   "source": [
    "Nota que `f` es un argumento que utilizamos como función adentro de la función `iterar`. La función `f` debe aceptar unicamente un argumento (ya que así lo utilizamos).\n",
    "\n",
    "Probémoslo con una función sencilla:"
   ]
  },
  {
   "cell_type": "code",
   "execution_count": null,
   "metadata": {},
   "outputs": [],
   "source": [
    "g(x) = 0.5*x"
   ]
  },
  {
   "cell_type": "code",
   "execution_count": null,
   "metadata": {},
   "outputs": [],
   "source": [
    "iterar(g, 0.1, 10)"
   ]
  },
  {
   "cell_type": "markdown",
   "metadata": {},
   "source": [
    "Sin embargo, no lo podemos utilizar con la función `logistico`, la cual acepta *dos* argumentos; nos arroja un error, que nos indica dónde se encuentra el problema - en este caso en la función `iterar`, en la línea 7. \n",
    "\n",
    "[Pista: Utiliza `Esc-L` dentro de una celda de código para agregar los números de línea.\n",
    "Todas estas combinaciones de teclas se enlistan en `Help->Keyboard Shortcuts` en el menú del notebook.]"
   ]
  },
  {
   "cell_type": "code",
   "execution_count": null,
   "metadata": {},
   "outputs": [],
   "source": [
    "iterar(logistico, 0.1, 10)"
   ]
  },
  {
   "cell_type": "markdown",
   "metadata": {},
   "source": [
    "Nota que debemos tener cuidado con los números en la computadora: los números reales se representan con números de \"punto flotante\", los cuales se guardan en un espacio de un cierto tamaño finito en la memoria (64 bits, usualmente). Por lo tanto, *solo ciertos números reales se pueden representar con los números flotantes*.\n",
    "\n",
    "Además, debido a la estructura interna de los números flotantes, pueden ocurrir cosas extrañas:"
   ]
  },
  {
   "cell_type": "markdown",
   "metadata": {},
   "source": [
    "#### Ejercicio\n",
    "\n",
    "Itera el **mapeo de doblamiento**, $f(x) := 2x \\, \\mathrm{mod}\\,  1$, utilizando un `if` o `%` para el módulo. Empieza desde distintas condiciones iniciales, por ejemplo aleatorias (con `rand()`). ¿Qué observas?"
   ]
  },
  {
   "cell_type": "markdown",
   "metadata": {},
   "source": [
    "## Funciones anónimas"
   ]
  },
  {
   "cell_type": "markdown",
   "metadata": {},
   "source": [
    "Lo que queremos hacer es fijar el *parámetro* $\\mu$, y tratar a la función \n",
    "$$x \\mapsto f_\\mu(x)$$ \n",
    "como una función de una sola variable.\n",
    "\n",
    "Julia nos permite hacerlo con una sintaxis muy similar, utilizando una **función anónima**. Además, debemos almacenar los datos, al crear una nueva variable que "
   ]
  },
  {
   "cell_type": "code",
   "execution_count": null,
   "metadata": {},
   "outputs": [],
   "source": [
    "iterar(x->logistico(0.5, x), 0.7, 10)"
   ]
  },
  {
   "cell_type": "markdown",
   "metadata": {},
   "source": [
    "Nota que la variable `iterados` que existe adentro de la función `iterar` *no existe afuera de la función*:"
   ]
  },
  {
   "cell_type": "code",
   "execution_count": null,
   "metadata": {},
   "outputs": [],
   "source": [
    "iterados"
   ]
  },
  {
   "cell_type": "markdown",
   "metadata": {},
   "source": [
    "Es una **variable local**. Para tener acceso a los datos desde fuera de la función, debemos asignar un nombre al objeto que se regresa:"
   ]
  },
  {
   "cell_type": "code",
   "execution_count": null,
   "metadata": {},
   "outputs": [],
   "source": [
    "iterados = iterar(x->logistico(0.5, x), 0.7, 10)"
   ]
  },
  {
   "cell_type": "markdown",
   "metadata": {},
   "source": [
    "## Graficar"
   ]
  },
  {
   "cell_type": "markdown",
   "metadata": {},
   "source": [
    "Ahora que hayamos generado unos datos, los quisiéramos visualizar. Utilizaremos el **paquete** (librería / biblioteca) de Julia `Plots.jl`, ya que permite utilizar distintas librerías gráficas con una sola sintaxis."
   ]
  },
  {
   "cell_type": "markdown",
   "metadata": {},
   "source": [
    "Si no utilizas JuliaBox, se baja e instala el paquete con"
   ]
  },
  {
   "cell_type": "code",
   "execution_count": null,
   "metadata": {},
   "outputs": [],
   "source": [
    "Pkg.add(\"Plots\")"
   ]
  },
  {
   "cell_type": "markdown",
   "metadata": {},
   "source": [
    "Esta instalación se hace una única vez en cada instalación de Julia."
   ]
  },
  {
   "cell_type": "markdown",
   "metadata": {},
   "source": [
    "Ahora para cargar la biblioteca, ponemos "
   ]
  },
  {
   "cell_type": "code",
   "execution_count": null,
   "metadata": {},
   "outputs": [],
   "source": [
    "using Plots"
   ]
  },
  {
   "cell_type": "markdown",
   "metadata": {},
   "source": [
    "Esto se hace en cada trabajo que requiere el paquete. La primera vez que se utiliza, se tendrá que precompilar muchas funciones, por lo cual puede ser tardado."
   ]
  },
  {
   "cell_type": "code",
   "execution_count": null,
   "metadata": {},
   "outputs": [],
   "source": [
    "plot(iterados)"
   ]
  },
  {
   "cell_type": "markdown",
   "metadata": {},
   "source": [
    "Dado que son datos discretos, deberíamos graficarlos más bien con puntos:"
   ]
  },
  {
   "cell_type": "code",
   "execution_count": null,
   "metadata": {},
   "outputs": [],
   "source": [
    "scatter(iterados)\n",
    "xlabel!(\"n\", fontsize=50)\n",
    "ylabel!(\"x_n\")"
   ]
  },
  {
   "cell_type": "markdown",
   "metadata": {},
   "source": [
    "## Interactividad"
   ]
  },
  {
   "cell_type": "markdown",
   "metadata": {},
   "source": [
    "Julia provee herramientas que permiten lograr un grado de interactividad de forma fácil, a través del paquete `Interact.jl`:"
   ]
  },
  {
   "cell_type": "code",
   "execution_count": null,
   "metadata": {},
   "outputs": [],
   "source": [
    "using Interact"
   ]
  },
  {
   "cell_type": "markdown",
   "metadata": {},
   "source": [
    "Provee un \"macro\" (algo así como una \"super-función\") `@manipulate`, que toma un bucle `for` y lo convierte en una visualización interactiva:"
   ]
  },
  {
   "cell_type": "code",
   "execution_count": null,
   "metadata": {},
   "outputs": [],
   "source": [
    "@manipulate for μ in 0.0:0.01:4.0\n",
    "    iterados = iterar(x->logistico(μ, x), 0.7, 100)\n",
    "    \n",
    "    scatter(iterados)\n",
    "    ylims!(0, 1)\n",
    "\n",
    "end"
   ]
  },
  {
   "cell_type": "markdown",
   "metadata": {},
   "source": [
    "Podemos agregar otro slider:"
   ]
  },
  {
   "cell_type": "code",
   "execution_count": null,
   "metadata": {},
   "outputs": [],
   "source": [
    "@manipulate for μ in 0.0:0.01:4.0, N in 1:1000\n",
    "    iterados = iterar(x->f(μ, x), 0.7, N)\n",
    "    \n",
    "    scatter(iterados)\n",
    "    ylims!(0, 1)\n",
    "\n",
    "end"
   ]
  },
  {
   "cell_type": "markdown",
   "metadata": {},
   "source": [
    "#### Ejercicio\n",
    "\n",
    "Utiliza la visualización para entender cuáles son los comportamientos asintóticos posibles del sistema, es decir cuando $n \\to \\infty$."
   ]
  },
  {
   "cell_type": "markdown",
   "metadata": {},
   "source": [
    "## Diagrama de bifurcación"
   ]
  },
  {
   "cell_type": "markdown",
   "metadata": {},
   "source": [
    "#### Ejercicio"
   ]
  },
  {
   "cell_type": "markdown",
   "metadata": {},
   "source": [
    "Dibuja el famoso **diagrama de bifurcación**, que muestra $\\mu$ en el eje $x$, y para cada valor de $\\mu$ algunos cuantos iterados.\n",
    "\n",
    "Pistas: \n",
    "- Haz un bucle sobre los valores de $\\mu$.\n",
    "- Para agregar un plot encima de otro, utiliza `scatter!` con `!` al final.\n",
    "- La función `scatter` en general acepta dos vectores, uno de coordenadas $x$ y otro de coordenadas $y$. Para generar las coordenadas $x$, puedes utilizar la función `ones(v)`, la cual crea un vector de unos de la misma longitud de `v`."
   ]
  },
  {
   "cell_type": "markdown",
   "metadata": {},
   "source": [
    "## Medida invariante"
   ]
  },
  {
   "cell_type": "markdown",
   "metadata": {},
   "source": [
    "#### Ejercicio"
   ]
  },
  {
   "cell_type": "markdown",
   "metadata": {},
   "source": [
    "Encuentra una aproximación numérica de la **medida invariante natural**, la cual muestra la frecuencia con la cual la dinámica visita cada parte del espacio.\n",
    "\n",
    "Para hacerlo, utiliza la función `histograma` de `Plots.jl`. Utiliza `bins=100` para cambiar el número de cajas.\n",
    "\n",
    "¡Hazlo interactivo!"
   ]
  }
 ],
 "metadata": {
  "kernelspec": {
   "display_name": "Julia 0.6.2",
   "language": "julia",
   "name": "julia-0.6"
  },
  "language_info": {
   "file_extension": ".jl",
   "mimetype": "application/julia",
   "name": "julia",
   "version": "0.6.2"
  }
 },
 "nbformat": 4,
 "nbformat_minor": 2
}
