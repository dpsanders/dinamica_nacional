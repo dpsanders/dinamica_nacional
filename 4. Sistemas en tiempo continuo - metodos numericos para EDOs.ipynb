{
 "cells": [
  {
   "cell_type": "markdown",
   "metadata": {},
   "source": [
    "# Sistemas en tiempo continuo: Métodos numéricos para EDOs"
   ]
  },
  {
   "cell_type": "markdown",
   "metadata": {},
   "source": [
    "Los sistemas dinámicos en tiempo continuo, en la forma de ecuaciones diferenciales ordinarias (EDOs) son comunes, en particular, como modelos que surgen desde las ciencias (química, física, biología, etc.).\n",
    "\n",
    "Trabajaremos con EDOs homogéneas de la forma\n",
    "\n",
    "$$\\dot{\\mathbf{x}} = \\mathbf{f}_\\mu(\\mathbf{x})$$\n",
    "\n",
    "con condición inicial $\\mathbf{x}_\\mu(t_0) = \\mathbf{x}_{\\mu,0}$.\n",
    "\n",
    "Más explícitamente, tenemos\n",
    "$$\\dot{\\mathbf{x}}(t) = \\mathbf{f}_\\mu(\\mathbf{x}(t)) \\quad \\forall t.$$\n",
    "\n",
    "\n",
    "La solución con una condición inicial dada es una función $t \\mapsto \\mathbf{x_\\mu}(t)$, con $\\mathbf{x}_\\mu(t) \\in \\mathbb{R}^n$. La solución al tiempo $t$ empezando desde la condición inicial $x_0$ se llama el **flujo**, $\\phi_\\mu(t, \\mathbf{x}_0)$."
   ]
  },
  {
   "cell_type": "markdown",
   "metadata": {},
   "source": [
    "## Soluciones numéricas de EDOs"
   ]
  },
  {
   "cell_type": "markdown",
   "metadata": {},
   "source": [
    "Recordemos que hay teoremas que demuestran la existencia y unicidad de soluciones a una EDO bajo ciertas condiciones, por ejemplo si la función $\\mathbf{f}$ es $C^1$.\n",
    "\n",
    "Pero, ¿cómo podemos realmente calcular una solución a una EDO nolineal? Sabemos que la gran mayoría de las EDOs no tienen solución analítica. Aunque la teoría de los sistemas dinámicos provee métodos para analizar cualitativamente EDOs, quisiéramos poder calcular trayectorias, bifurcaciones, etc.\n",
    "\n",
    "Para ello, debemos, entonces, encontrar una forma de integrar las ecuaciones de movimiento de un sistema *de forma numérica*. Cualquier solución numérica dará una *aproximación* a la función $\\phi(t, \\mathbf{x}_0)$. \n",
    "\n",
    "Hay muchos algoritmos para encontrar soluciones numéricas aproximadas a una EDO. Julia cuenta con una biblioteca [DifferentialEquations.jl](http://docs.juliadiffeq.org/stable/), que contiene un número muy grande de métodos para ecuaciones diferenciales de diferentes tipos (incluyendo ecuaciones estocásticas, EDPs, etc.). Además, el paquete [DynamicalSystems.jl](https://juliadynamics.github.io/DynamicalSystems.jl/latest/) provee un interfaz aún más bonito para sistemas dinámicos.\n",
    "\n",
    "Sin embargo, aquí introduciremos una técnica muy poderosa que permite integrar EDOs con una precisión arbitrariamente alta, el llamado **método de Taylor**, implementado en [TaylorIntegration.jl](https://github.com/PerezHz/TaylorIntegration.jl)."
   ]
  },
  {
   "cell_type": "markdown",
   "metadata": {},
   "source": [
    "## El método de Euler"
   ]
  },
  {
   "cell_type": "markdown",
   "metadata": {},
   "source": [
    "Empezaremos con el método más sencillo de todos -- el cual nunca se debería utilizar -- para acercarnos al tema: el **método de Euler**.\n",
    "\n",
    "Consideremos una EDO en una variable: $\\dot{x} = f(x)$, con $x(0) = x_0$.\n",
    "\n",
    "Una manera común de aproximar la solución continua $x(t)$ es **discretizar**la, es decir, buscar la solución a tiempos $t_n := n \\, h$, con pasos de tiempo de tamaño pequeño $h$. Llamaremos $x_n$ la solución aproximada al tiempo $t_n$."
   ]
  },
  {
   "cell_type": "markdown",
   "metadata": {},
   "source": [
    "Cómo podemos tomar el primer paso, para aproximar $x(t=h)$ con $x_1$? Una idea es desarrollar en una serie de Taylor:\n",
    "\n",
    "$$x(h) = x(0 + h) = x(0) + h \\, \\dot{x}(0) \n",
    "    + \\frac{1}{2} h^2 \\, \\ddot{x}(0) + \\cdots.$$\n",
    "    \n",
    "Dado que $\\dot{x}(0) = f(x(0)) = f(x_0)$, obtenemos\n",
    "\n",
    "$$x_1 = x_0 + h \\, f(x_0) + \\mathcal{O}(h^2).$$\n",
    "\n",
    "Teniendo $x_1$, seguimos con el mismo método para obtener $x_2$, y así sucesivamente. En general, tenemos\n",
    "\n",
    "$$x_{n+1} = x_n + h \\, f(x_n),$$\n",
    "\n",
    "lo cual es el método de Euler.\n",
    "\n",
    "\n",
    "Para sistemas dinámicos de dimensión superior, esto se generaliza a\n",
    "\n",
    "$$\\mathbf{x}_{n+1} = \\mathbf{x}_n + h \\, \\mathbf{f}(\\mathbf{x}_n).$$\n"
   ]
  },
  {
   "cell_type": "markdown",
   "metadata": {},
   "source": [
    "#### Ejercicio\n",
    "\n",
    "[1] Implementa el método de Euler y aplícalo a la EDO $\\dot{x} = -x$. Compara la solución gráficamente con la solución analítica para distintos valores de $h$.\n",
    "\n",
    "[2] Utiliza el métodod de Euler para resolver el oscilador armónico, $\\ddot{x} + x = 0$. Dibuja las soluciones. ¿Qué observas? ¿Por qué está equivocado?\n",
    "\n",
    "Pista: Reescribe la EDO como dos ecuaciones de primer orden.\n",
    "\n",
    "Por lo tanto, *nunca se debe utilizar el método de Euler en un cálculo real; sólo se muestra para fines pedagógicos*."
   ]
  },
  {
   "cell_type": "markdown",
   "metadata": {},
   "source": [
    "## Métodos de Runge-Kutta"
   ]
  },
  {
   "cell_type": "markdown",
   "metadata": {},
   "source": [
    "Debemos mencionar a los métodos de Runge-Kutta, los cuales son, tal vez, los más utilizados. La idea es aproximar la solución con varios pasos de Euler para que la solución aproximada reproduzca la expansión de Taylor de la solución exacta hasta cierto orden, al evaluar la función $f$ en distintos lugares. \n",
    "\n",
    "Sin embargo, está muy difícil encontrar métodos de Runge-Kutta de orden alto."
   ]
  },
  {
   "cell_type": "markdown",
   "metadata": {},
   "source": [
    "## Método de Taylor"
   ]
  },
  {
   "cell_type": "markdown",
   "metadata": {},
   "source": [
    "El método de Taylor extiende el método de Euler, al desarrollar en una serie de Taylor de orden superior. Pero nos topamos con un problema, e.g. a orden 2:"
   ]
  },
  {
   "cell_type": "markdown",
   "metadata": {},
   "source": [
    "$$x(h) = x(0 + h) = x(0) + h \\, \\dot{x}(0) \n",
    "        + \\frac{1}{2} h^2 \\, \\ddot{x}(0) + \\mathcal{O}(h^3).$$\n",
    "    \n",
    "Para calcular $\\ddot{x}(t)$, debemos derivar la EDO original, lo cual da\n",
    "\n",
    "$$\\ddot{x}(t) = \\frac{d}{dt}[f(x(t))] = f'(x(t)) \\cdot \\dot{x}(t).$$\n",
    "\n",
    "Por lo tanto, para poder utilizar este método, necesitamos poder calcular derivadas de la función $f$. Además, los términos de orden superior se ponen muy complicados. Por lo tanto, este método a menudo se descarta en los libros."
   ]
  },
  {
   "cell_type": "markdown",
   "metadata": {},
   "source": [
    "### Manipulando series de Taylor"
   ]
  },
  {
   "cell_type": "markdown",
   "metadata": {},
   "source": [
    "Sin embargo, hay una solución bonita y eficaz, utilizando una extensión de la diferenciación automática a derivadas superiores.\n",
    "\n",
    "La idea es desarrollar $x(t)$ en una serie de Taylor con coeficientes desconocidos, hasta cierto orden $n$:\n",
    "\n",
    "$$x(t) = x_0 + x_1 \\, t + x_2 \\, t^2 + \\cdots + x_n t^n.$$\n",
    "\n",
    "[Estrictamente, esto es un **polinomio de Taylor**, no una serie de Taylor.]\n",
    "\n",
    "Por lo tanto, el lado izquierdo de la EDO se vuelve\n",
    "\n",
    "$$\\dot{x}(t) = x_1 + 2 x_2 t + 3 x_3 t^2 + \\cdots + n x_{n} t^{n-1}.$$\n"
   ]
  },
  {
   "cell_type": "markdown",
   "metadata": {},
   "source": [
    "Del lado derecho de la EDO, tenemos $f(x(t))$. Lo que necesitamos es poder calcular la expansión de $f(x(t))$ como serie de Taylor. Para hacerlo, necesitamos reglas para cada función elemental $f$ que queramos utilizar, e.g. $x \\mapsto x^2$, $x \\mapsto \\exp(x)$, etc."
   ]
  },
  {
   "cell_type": "markdown",
   "metadata": {},
   "source": [
    "Como ejemplo, consideremos la EDO\n",
    "\n",
    "$$\\dot{x} = x^2.$$\n",
    "\n",
    "Para esto, necesitamos saber cómo multiplicar dos series de Taylor.\n",
    "\n",
    "El producto de dos series de Taylor, $x(t)$ y $y(t) = \\sum_{i=0} y_i t^i$. Si el resultado se llama $z = \\sum_{n=0} z_n t^n$, podemos ver que el coeficiente $z_n$ está dada por\n",
    "\n",
    "$$z_n = \\sum_{i=0}^n x_i \\, y_{n-i}.$$"
   ]
  },
  {
   "cell_type": "markdown",
   "metadata": {},
   "source": [
    "#### Ejercicio"
   ]
  },
  {
   "cell_type": "markdown",
   "metadata": {},
   "source": [
    "Escribe una función que calcule el coeficiente $z_n$, dado dos arreglos de coeficientes $x_i$ y $y_i$."
   ]
  },
  {
   "cell_type": "markdown",
   "metadata": {},
   "source": [
    "###  Resolviendo la EDO"
   ]
  },
  {
   "cell_type": "markdown",
   "metadata": {},
   "source": [
    "Para la EDO $\\dot{x} = f(x)$ con $f(x) = x^2$, ahora sabríamos cómo calcular los coeficientes del polinomio $f(x(t))$, si conociéramos los coeficientes de $x(t)$.\n",
    "\n",
    "Pero, ¡justo son los coeficientes de $x(t)$ lo que queremos calcular! Parece que no hay solución a este problema... pero de hecho sí la hay, como sigue.\n",
    "\n",
    "Desarrollemos $f(x(t)) = \\sum_{i=0} f_i t^i$. Ya podemos calcular el término de orden $0$, es decir $f_0 = x_0^2$, ya que conocemos $x_0$.\n",
    "\n",
    "Igualando coeficientes de $t^0$ por los dos lados de la EDO nos da $x_1 = f_0$, así que conocemos $x_1$.\n",
    "\n",
    "Pero entonces ya podemos calcular $f_1 = 2 \\, x_0 \\, x_1$.\n"
   ]
  },
  {
   "cell_type": "markdown",
   "metadata": {},
   "source": [
    "Vemos que, en general, $x_{n+1} = \\frac{f_{n}}{n+1}$, y $f_n$ se puede calcular a partir de los coeficientes de $x(t)$ hasta orden $n$.\n",
    "\n",
    "Por lo tanto, ¡podemos calcular todos los coeficientes de la solución $x(t)$ de forma recursiva! Esto es el \"truco\" que permite que el método de Taylor se pueda implementar en una computadora."
   ]
  },
  {
   "cell_type": "markdown",
   "metadata": {},
   "source": [
    "#### Ejercicio"
   ]
  },
  {
   "cell_type": "markdown",
   "metadata": {},
   "source": [
    "Utiliza el método de Taylor para resolver $\\dot{x} = x^2$. Compara con la solución analítica."
   ]
  },
  {
   "cell_type": "markdown",
   "metadata": {},
   "source": [
    "Nota que hemos hecho un cálculo \"analítico\" de forma numérica. Finalmente, los métodos analíticos a menudo se reducen a manipular polinomios, lo cual se puede implementar "
   ]
  },
  {
   "cell_type": "markdown",
   "metadata": {},
   "source": [
    "## TaylorIntegration.jl"
   ]
  },
  {
   "cell_type": "markdown",
   "metadata": {},
   "source": [
    "El paquete TaylorIntegration.jl implementa este método. "
   ]
  },
  {
   "cell_type": "markdown",
   "metadata": {},
   "source": [
    "## Jet transport"
   ]
  },
  {
   "cell_type": "markdown",
   "metadata": {},
   "source": [
    "A menudo queremos resolver la dinámica no solo de una condición inicial, sino también de condiciones iniciales cercanas.\n",
    "\n",
    "Esto se puede hacer al sumarle a la condición inicial un polinomio en variables $\\xi_1$, $\\xi_2$, etc., e integrar también este polinomio. Esto se llama **jet transport**. (Ver notebook.)"
   ]
  },
  {
   "cell_type": "markdown",
   "metadata": {},
   "source": [
    "## Integración rigurosa"
   ]
  },
  {
   "cell_type": "markdown",
   "metadata": {},
   "source": [
    "Es posible combinar series de Taylor e intervalos para integrar EDOs de forma *rigurosa*. Ver e.g. Tucker, *Validated Numerics*."
   ]
  }
 ],
 "metadata": {
  "kernelspec": {
   "display_name": "Julia 0.6.2",
   "language": "julia",
   "name": "julia-0.6"
  },
  "language_info": {
   "file_extension": ".jl",
   "mimetype": "application/julia",
   "name": "julia",
   "version": "0.6.2"
  }
 },
 "nbformat": 4,
 "nbformat_minor": 2
}
