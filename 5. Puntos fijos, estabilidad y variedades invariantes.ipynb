{
 "cells": [
  {
   "cell_type": "markdown",
   "metadata": {},
   "source": [
    "# Puntos fijos"
   ]
  },
  {
   "cell_type": "markdown",
   "metadata": {},
   "source": [
    "Recordemos que un **punto fijo** de la EDO $\\dot{\\mathbf{x}} = \\mathbf{f}(\\mathbf{x})$ es un punto $\\mathbf{x}^*$ tal que $\\mathbf{f}(\\mathbf{x}^*) = \\mathbf{0}$.\n",
    "\n",
    "Para encontrar los puntos fijos de forma numérica, podemos resolver esta ecuación nolineal con Newton otra vez."
   ]
  },
  {
   "cell_type": "markdown",
   "metadata": {},
   "source": [
    "#### Ejercicio"
   ]
  },
  {
   "cell_type": "markdown",
   "metadata": {},
   "source": [
    "[1] Implementa el método de Newton en varias dimensiones con vectores. \n",
    "\n",
    "[2] Aplícalo para encontrar los puntos fijos del siguiente sistema de EDOs:\n",
    "\n",
    "$$\n",
    "\\begin{align}\n",
    "\\dot{x} &= x \\, (3 - x - 2y)\\\\\n",
    "\\dot{y} &= y \\, (2 - x - y).\n",
    "\\end{align}\n",
    "$$\n",
    "\n",
    "Para hacerlo, inicia desde distintas condiciones iniciales en el plano (e.g. aleatorios con `rand(2)`) y acumula una lista de puntos fijos encontrados con Newton.\n",
    "\n",
    "Al final, limpia los puntos fijos al redondearlos con `round.(x, 5)` y luego utiliza la función `unique`."
   ]
  },
  {
   "cell_type": "markdown",
   "metadata": {},
   "source": [
    "## Estabilidad lineal"
   ]
  },
  {
   "cell_type": "markdown",
   "metadata": {},
   "source": [
    "Sabemos que la estabilidad de un punto fijo (hiperbólico) en 2D (o, en general, en $n$ dimensiones), está regida (por el teorema de Hartman-Grobman) por la estabilidad del sistema linealizado alrededor del punto fijo, es decir\n",
    "\n",
    "$$\\dot{\\delta} = \\mathsf{M} \\cdot \\delta,$$\n",
    "\n",
    "donde $\\mathsf{M} := (D\\mathbf{f})(\\mathbf{x}^*)$.\n",
    "\n",
    "Por lo tanto, necesitamos calcular los eigenvalores del punto fijo.\n",
    "También necesitaremos los eigenvectores correspondientes.\n",
    "\n",
    "Esta información se puede calcular con Julia utilizando la función `eig`:"
   ]
  },
  {
   "cell_type": "code",
   "execution_count": 11,
   "metadata": {},
   "outputs": [
    {
     "data": {
      "text/plain": [
       "2×2 Array{Int64,2}:\n",
       " 2  1\n",
       " 1  1"
      ]
     },
     "execution_count": 11,
     "metadata": {},
     "output_type": "execute_result"
    }
   ],
   "source": [
    "M = [2 1; 1 1]"
   ]
  },
  {
   "cell_type": "code",
   "execution_count": 12,
   "metadata": {},
   "outputs": [
    {
     "data": {
      "text/plain": [
       "([0.381966, 2.61803], [0.525731 -0.850651; -0.850651 -0.525731])"
      ]
     },
     "execution_count": 12,
     "metadata": {},
     "output_type": "execute_result"
    }
   ],
   "source": [
    "λs, vs = eig(M)"
   ]
  },
  {
   "cell_type": "markdown",
   "metadata": {},
   "source": [
    "Los eigenvectores se encuentran en las columnas de `vs`, e.g."
   ]
  },
  {
   "cell_type": "code",
   "execution_count": 16,
   "metadata": {},
   "outputs": [
    {
     "data": {
      "text/plain": [
       "2-element Array{Float64,1}:\n",
       " 0.381966\n",
       " 0.381966"
      ]
     },
     "execution_count": 16,
     "metadata": {},
     "output_type": "execute_result"
    }
   ],
   "source": [
    "v1 = vs[:,1]\n",
    "\n",
    "(M * v1) ./ v1   # división elemento por elemento"
   ]
  },
  {
   "cell_type": "code",
   "execution_count": null,
   "metadata": {},
   "outputs": [],
   "source": []
  },
  {
   "cell_type": "markdown",
   "metadata": {},
   "source": [
    "## Variedades invariantes"
   ]
  },
  {
   "cell_type": "markdown",
   "metadata": {},
   "source": [
    "La linealización alrededor de un punto silla tiene un eigenvalor negativo y uno positivo, y por lo tanto un espacio estable uni-dimensional y un espacio inestable uni-dimensional.\n",
    "\n",
    "Sabemos que el sistema no-lineal tiene **variedades invariantes** correspondientes que son curvas tangentes a los espacios correspondientes. ¿Cómo podemos calcular estas variedades?\n",
    "\n"
   ]
  },
  {
   "cell_type": "markdown",
   "metadata": {},
   "source": [
    "Consideremos la variedad inestable de un punto silla. Empecemos sobre el espacio inestable, en la dirección del eigenvector inestable, muy cerca del punto fijo. Ahí simplemente empezamos una integración numérica de la EDO. Esto nos da una buena aproximación de la variedad inestable.\n",
    "\n",
    "Para la variedad estable, empezamos muy cerca del punto fijo, sobre el espacio estable. Si integráramos para adelante en el tiempo, nos acercaríamos más al punto fijo, o bien nos alejaríamos en la dirección inestable. Más bien debemos integrar *para atrás en el tiempo*."
   ]
  },
  {
   "cell_type": "markdown",
   "metadata": {},
   "source": [
    "## Método de parametrización"
   ]
  },
  {
   "cell_type": "markdown",
   "metadata": {},
   "source": [
    "Un método más complicado consiste en parametrizar las variedades con polinomios."
   ]
  }
 ],
 "metadata": {
  "kernelspec": {
   "display_name": "Julia 0.6.2",
   "language": "julia",
   "name": "julia-0.6"
  },
  "language_info": {
   "file_extension": ".jl",
   "mimetype": "application/julia",
   "name": "julia",
   "version": "0.6.2"
  }
 },
 "nbformat": 4,
 "nbformat_minor": 2
}
