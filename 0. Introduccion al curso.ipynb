{
 "cells": [
  {
   "cell_type": "markdown",
   "metadata": {
    "slideshow": {
     "slide_type": "slide"
    }
   },
   "source": [
    "# Métodos numéricos para sistemas dinámicos "
   ]
  },
  {
   "cell_type": "markdown",
   "metadata": {
    "slideshow": {
     "slide_type": "fragment"
    }
   },
   "source": [
    "## David P. Sanders"
   ]
  },
  {
   "cell_type": "markdown",
   "metadata": {
    "slideshow": {
     "slide_type": "-"
    }
   },
   "source": [
    "\n",
    "### Department of Physics, Faculty of Sciences \n",
    "### Universidad Nacional Autónoma de México (UNAM)\n",
    "\n",
    "\n",
    "#### Dinámica Nacional, Guanajuato, 6-8 junio 2018"
   ]
  },
  {
   "cell_type": "markdown",
   "metadata": {
    "slideshow": {
     "slide_type": "slide"
    }
   },
   "source": [
    "# Meta del cursillo:"
   ]
  },
  {
   "cell_type": "markdown",
   "metadata": {
    "slideshow": {
     "slide_type": "fragment"
    }
   },
   "source": [
    "- Aprender cómo podemos utilizar la computadora como **herramienta** para los sistemas dinámicos"
   ]
  },
  {
   "cell_type": "markdown",
   "metadata": {
    "slideshow": {
     "slide_type": "fragment"
    }
   },
   "source": [
    "- Ver algunos métodos numéricos claves **y su implementación en el lenguaje de programación Julia**"
   ]
  },
  {
   "cell_type": "markdown",
   "metadata": {
    "slideshow": {
     "slide_type": "fragment"
    }
   },
   "source": [
    "- ¡No temerle a la computadora, ni a la programación!"
   ]
  },
  {
   "cell_type": "markdown",
   "metadata": {
    "slideshow": {
     "slide_type": "slide"
    }
   },
   "source": [
    "# ¿Qué es Julia?"
   ]
  },
  {
   "cell_type": "markdown",
   "metadata": {
    "slideshow": {
     "slide_type": "fragment"
    }
   },
   "source": [
    "- Lenguaje de programación general\n",
    "\n",
    "\n",
    "- Pero diseñado para que sea ideal para el cómputo científico / ciencia computacional\n",
    "\n",
    "\n",
    "- http://www.julialang.org\n"
   ]
  },
  {
   "cell_type": "markdown",
   "metadata": {
    "slideshow": {
     "slide_type": "subslide"
    }
   },
   "source": [
    "## ¿Por qué Julia?"
   ]
  },
  {
   "cell_type": "markdown",
   "metadata": {
    "slideshow": {
     "slide_type": "fragment"
    }
   },
   "source": [
    "- Fácil de entender, alto nivel, interactivo -- como Python, MATLAB, R,..."
   ]
  },
  {
   "cell_type": "markdown",
   "metadata": {
    "slideshow": {
     "slide_type": "fragment"
    }
   },
   "source": [
    "- **Pero** rendimiento (velocidad) comparable con C y Fortran\n"
   ]
  },
  {
   "cell_type": "markdown",
   "metadata": {
    "slideshow": {
     "slide_type": "fragment"
    }
   },
   "source": [
    "- Los desarrolladores querían *todo* en un solo lenguaje -- ¡y lo lograron!"
   ]
  },
  {
   "cell_type": "markdown",
   "metadata": {
    "slideshow": {
     "slide_type": "subslide"
    }
   },
   "source": [
    "### Desarrollo de Julia"
   ]
  },
  {
   "cell_type": "markdown",
   "metadata": {
    "slideshow": {
     "slide_type": "fragment"
    }
   },
   "source": [
    "- Software libre; licencia MIT\n",
    "\n",
    "\n",
    "- Disponible en todas las plataformas"
   ]
  },
  {
   "cell_type": "markdown",
   "metadata": {
    "slideshow": {
     "slide_type": "subslide"
    }
   },
   "source": [
    "- Comunidad de desarrolladores repartido en todo el mundo\n",
    "\n",
    "\n",
    "- Se desarrolla en línea de forma abierta en https://github.com/JuliaLang/julia\n",
    "\n",
    "\n",
    "- Casi 700 contribuidores al lenguaje base\n",
    "\n",
    "\n",
    "- 1850 paquetes / bibliotecas registrados"
   ]
  },
  {
   "cell_type": "markdown",
   "metadata": {
    "slideshow": {
     "slide_type": "slide"
    }
   },
   "source": [
    "## Ciencia abierta"
   ]
  },
  {
   "cell_type": "markdown",
   "metadata": {
    "slideshow": {
     "slide_type": "fragment"
    }
   },
   "source": [
    "- Por su naturaleza, la ciencia exige que cualquier código científico debe ser disponible de forma libre y reproducible\n",
    "\n",
    "\n",
    "- Por lo tanto, es necesario utilizar **software libre**\n",
    "\n",
    "\n",
    "- Con una licencia poco restrictiva\n"
   ]
  },
  {
   "cell_type": "markdown",
   "metadata": {
    "slideshow": {
     "slide_type": "subslide"
    }
   },
   "source": [
    "## Julia es casi estable\n",
    "\n",
    "- Hoy: **v0.6(.3)**\n",
    "\n",
    "\n",
    "- Mañana: **v0.7 = v1.0** - primera versión estable a largo plazo"
   ]
  },
  {
   "cell_type": "markdown",
   "metadata": {
    "slideshow": {
     "slide_type": "slide"
    }
   },
   "source": [
    "# Cómo utilizar Julia"
   ]
  },
  {
   "cell_type": "markdown",
   "metadata": {
    "slideshow": {
     "slide_type": "fragment"
    }
   },
   "source": [
    "- Jupyter notebook: cuaderno interactivo\n",
    "\n",
    "    - online at [JuliaBox.com](http://juliabox.com)\n",
    "  \n",
    "    - locally\n",
    "    \n",
    "    - en IPad con [Juno app](https://juno.sh/)\n",
    "  "
   ]
  },
  {
   "cell_type": "markdown",
   "metadata": {
    "slideshow": {
     "slide_type": "fragment"
    }
   },
   "source": [
    "- REPL (línea de comandos): Flujo de trabajo interactivo"
   ]
  },
  {
   "cell_type": "markdown",
   "metadata": {
    "slideshow": {
     "slide_type": "fragment"
    }
   },
   "source": [
    "- [Juno](http://junolab.org/): Julia IDE en editor Atom (evaluación inline)"
   ]
  },
  {
   "cell_type": "markdown",
   "metadata": {
    "slideshow": {
     "slide_type": "subslide"
    }
   },
   "source": [
    "## Instalación del Jupyter notebook:\n",
    "\n",
    "- Desde el REPL:\n",
    "\n",
    "```\n",
    "julia> Pkg.add(\"IJulia\")\n",
    "\n",
    "julia> using IJulia\n",
    "julia> notebook()\n",
    "``` \n",
    "\n",
    "\n",
    "- NB: `pwd()` da el directorio actual\n",
    "\n",
    "\n",
    "- Instala su propia versión de Anaconda\n"
   ]
  },
  {
   "cell_type": "markdown",
   "metadata": {
    "slideshow": {
     "slide_type": "subslide"
    }
   },
   "source": [
    "## Cómo obtenir ayuda\n"
   ]
  },
  {
   "cell_type": "markdown",
   "metadata": {
    "slideshow": {
     "slide_type": "fragment"
    }
   },
   "source": [
    "- Interactivamente (REPL / Juno / IJulia): `?sin`"
   ]
  },
  {
   "cell_type": "markdown",
   "metadata": {
    "slideshow": {
     "slide_type": "fragment"
    }
   },
   "source": [
    "- Manual de referencia: https://docs.julialang.org/en/stable\n",
    "\n",
    "\n",
    "- Foro de discusión: https://discourse.julialang.org/\n",
    "\n",
    "\n",
    "- Slack (mensajes instantáneos): http://slackinvite.julialang.org\n",
    "\n",
    "\n",
    "- Recursos para aprender:  http://julialang.org/learning\n",
    "\n",
    "\n",
    "- Paquetes etc.: https://juliaobserver.com/"
   ]
  }
 ],
 "metadata": {
  "celltoolbar": "Slideshow",
  "kernelspec": {
   "display_name": "Julia 0.6.2",
   "language": "julia",
   "name": "julia-0.6"
  },
  "language_info": {
   "file_extension": ".jl",
   "mimetype": "application/julia",
   "name": "julia",
   "version": "0.6.2"
  },
  "toc": {
   "colors": {
    "hover_highlight": "#DAA520",
    "running_highlight": "#FF0000",
    "selected_highlight": "#FFD700"
   },
   "moveMenuLeft": true,
   "nav_menu": {
    "height": "139px",
    "width": "252px"
   },
   "navigate_menu": true,
   "number_sections": true,
   "sideBar": true,
   "threshold": "2",
   "toc_cell": false,
   "toc_section_display": "block",
   "toc_window_display": false
  }
 },
 "nbformat": 4,
 "nbformat_minor": 2
}
