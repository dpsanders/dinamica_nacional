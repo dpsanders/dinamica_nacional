{
 "cells": [
  {
   "cell_type": "markdown",
   "metadata": {
    "slideshow": {
     "slide_type": "slide"
    }
   },
   "source": [
    "# Calcular con conjuntos"
   ]
  },
  {
   "cell_type": "markdown",
   "metadata": {
    "slideshow": {
     "slide_type": "fragment"
    }
   },
   "source": [
    "¿Cómo podemos calcular el **rango** de una función sobre un **conjunto** $X$? Es decir,\n",
    "\n",
    "\n",
    "$$\\qquad \\mathrm{rango}(f; X) := \\{f(x): x \\in X\\}.$$"
   ]
  },
  {
   "cell_type": "markdown",
   "metadata": {
    "slideshow": {
     "slide_type": "subslide"
    }
   },
   "source": [
    "La **idea fundamental** es que definiremos operaciones sobre conjuntos, tal que el resultado contenga *todos los valores posibles*, operando con cualesquiera miembros del conjunto o de los conjuntos."
   ]
  },
  {
   "cell_type": "markdown",
   "metadata": {
    "slideshow": {
     "slide_type": "fragment"
    }
   },
   "source": [
    "### Intervalos\n",
    "\n",
    "Los subconjuntos más sencillos de $\\mathbb{R}$ son los **intervalos** (siempre los tomaremos cerrados):\n",
    "\n",
    "$$X = [a, b] := \\{x : a \\le x \\le b \\} \\subseteq \\mathbb{R}. $$"
   ]
  },
  {
   "cell_type": "markdown",
   "metadata": {
    "slideshow": {
     "slide_type": "subslide"
    }
   },
   "source": [
    "Vamos a definir funciones sobre intervalos de tal forma que *extiendan* la definición usual para los números reales.\n",
    "\n",
    "Por ejemplo, ¿cómo podemos definir $X^2$? Lo definiremos como $X^2 := \\{x^2: x \\in X \\}$.\n",
    "\n",
    "Para $X = [1, 2]$, es evidente que $X^2 = [1, 4]$.\n",
    "\n",
    "Pero para $X = [-1, 2]$ es menos evidente.\n",
    "La solución completa es"
   ]
  },
  {
   "cell_type": "markdown",
   "metadata": {
    "slideshow": {
     "slide_type": "fragment"
    }
   },
   "source": [
    "\\begin{align}\n",
    "[a, b]^2 &:= [a^2, b^2] & \\text{if } a \\ge 0 \\\\ \n",
    "&:= [0, \\max(a^2, b^2)]  &  \\text{if } a < 0 \\text{ and } b > 0\\\\\n",
    "&:= [b^2, a^2] & \\text{if } a < b < 0\n",
    "\\end{align}"
   ]
  },
  {
   "cell_type": "markdown",
   "metadata": {},
   "source": [
    "En general, tratamos por separado cada pedazo monótono."
   ]
  },
  {
   "cell_type": "markdown",
   "metadata": {
    "slideshow": {
     "slide_type": "subslide"
    }
   },
   "source": [
    "## Operaciones binarias\n",
    "\n",
    "Para dos intervalos $X$ y $Y$, definimos\n",
    "\n",
    "$X + Y := \\{x + y: x \\in X, y \\in Y \\}$,\n",
    "\n",
    "etc.\n",
    "\n",
    "Es evidente que  $$[a, b] + [c, d] = [a + c, b + d].$$\n",
    "\n",
    "De la misma forma,\n",
    "\n",
    "$$[a, b] - [c, d] = [a - d, b - c].$$\n",
    "(Nota que el orden de los términos es diferente aquí.)"
   ]
  },
  {
   "cell_type": "markdown",
   "metadata": {
    "slideshow": {
     "slide_type": "fragment"
    }
   },
   "source": [
    "Esto lo repetimos para cada función. Entonces tenemos el siguiente"
   ]
  },
  {
   "cell_type": "markdown",
   "metadata": {
    "slideshow": {
     "slide_type": "slide"
    }
   },
   "source": [
    "**Teorema**\n",
    "\n",
    "- Si $f$ se define por una composición de operaciones unarias y binarias [es decir, $f$ es \"factorable\"] y $X$ es un interval, entonces \n",
    "\n",
    "    >  $f(X)$ contiene el rango verdadero de $f$\n",
    "    \n",
    "Aquí, $f(X)$ quiere decir \"aplicar las extensiones intervalares de las funciones en $f$\"."
   ]
  },
  {
   "cell_type": "markdown",
   "metadata": {
    "slideshow": {
     "slide_type": "fragment"
    }
   },
   "source": [
    "- Nota que la aritmética de intervalos da a menudo un resultado que es una **sobre-estimación** del rango verdadero, e.g.\n",
    "\n",
    "$$[0, 1] - [0, 1] = [-1, 1].$$\n",
    "\n",
    "Esto es el **efecto de dependencia**."
   ]
  },
  {
   "cell_type": "markdown",
   "metadata": {},
   "source": [
    "#### Ejercicio\n",
    "\n",
    "Calcula $f(X)$ para $f(x) = x^2 - 2x$ y $X = [-2, 1]$."
   ]
  },
  {
   "cell_type": "markdown",
   "metadata": {
    "slideshow": {
     "slide_type": "subslide"
    }
   },
   "source": [
    "## Implementacion de intervalos in Julia"
   ]
  },
  {
   "cell_type": "markdown",
   "metadata": {},
   "source": [
    "Julia permite definir tipos compósitos que contienen datos de diferentes tipos, y definir operaciones sobre ellos."
   ]
  },
  {
   "cell_type": "code",
   "execution_count": null,
   "metadata": {
    "slideshow": {
     "slide_type": "fragment"
    }
   },
   "outputs": [],
   "source": [
    "struct SimpleInterval\n",
    "    lo::Float64\n",
    "    hi::Float64\n",
    "end\n",
    "\n",
    "SimpleInterval(a) = SimpleInterval(a, a)"
   ]
  },
  {
   "cell_type": "code",
   "execution_count": null,
   "metadata": {
    "slideshow": {
     "slide_type": "fragment"
    }
   },
   "outputs": [],
   "source": [
    "a = SimpleInterval(0.1)\n",
    "b = SimpleInterval(0.2)  "
   ]
  },
  {
   "cell_type": "code",
   "execution_count": null,
   "metadata": {
    "slideshow": {
     "slide_type": "subslide"
    }
   },
   "outputs": [],
   "source": [
    "import Base: +, show\n",
    "\n",
    "show(io::IO, x::SimpleInterval) = \n",
    "    print(io, \"[$(x.lo), $(x.hi)]\")\n",
    "\n",
    "+(x::SimpleInterval, y::SimpleInterval) = \n",
    "    SimpleInterval(x.lo + y.lo, x.hi + y.hi) "
   ]
  },
  {
   "cell_type": "code",
   "execution_count": null,
   "metadata": {
    "slideshow": {
     "slide_type": "fragment"
    }
   },
   "outputs": [],
   "source": [
    "a = SimpleInterval(0.1, 0.1) \n",
    "b = SimpleInterval(0.2, 0.2)\n",
    "a + b"
   ]
  },
  {
   "cell_type": "code",
   "execution_count": null,
   "metadata": {
    "scrolled": true,
    "slideshow": {
     "slide_type": "subslide"
    }
   },
   "outputs": [],
   "source": [
    "@code_native a + b"
   ]
  },
  {
   "cell_type": "markdown",
   "metadata": {},
   "source": [
    "### Redondeo dirigido"
   ]
  },
  {
   "cell_type": "markdown",
   "metadata": {
    "slideshow": {
     "slide_type": "subslide"
    }
   },
   "source": [
    "Para garantizar que los resultados sean correctos con aritmética de punto flotante, se emple **redondeo dirigido** para garantizar que el resultado esté correctamente contenido. "
   ]
  },
  {
   "cell_type": "markdown",
   "metadata": {
    "slideshow": {
     "slide_type": "subslide"
    }
   },
   "source": [
    "### Funciones \n",
    "\n",
    "Las funciones monótonas son fáciles *en principio*:\n",
    "\n",
    "\n",
    "$$\\exp([a, b]) := [\\downarrow (\\exp a), \\uparrow(\\exp b)]$$\n",
    "\n",
    "\n",
    "Pero lograr un redondeo correcto está difícil: biblioteca (`CRlibm.jl`)\n"
   ]
  },
  {
   "cell_type": "markdown",
   "metadata": {
    "slideshow": {
     "slide_type": "subslide"
    }
   },
   "source": [
    "# IntervalArithmetic.jl"
   ]
  },
  {
   "cell_type": "markdown",
   "metadata": {},
   "source": [
    "Junto con Luis Benet (Instituto de Ciencias Físicas, UNAM), hemos desarrollado un paquete para aritmética de intervalos en Julia:"
   ]
  },
  {
   "cell_type": "code",
   "execution_count": null,
   "metadata": {
    "slideshow": {
     "slide_type": "fragment"
    }
   },
   "outputs": [],
   "source": [
    "# Pkg.add(\"IntervalArithmetic\")\n",
    "\n",
    "using IntervalArithmetic"
   ]
  },
  {
   "cell_type": "code",
   "execution_count": null,
   "metadata": {
    "slideshow": {
     "slide_type": "fragment"
    }
   },
   "outputs": [],
   "source": [
    "@format full\n",
    "\n",
    "X = interval(0.1)  # crea un intervalo \"thin\" (delgado -- de diámetro 0)"
   ]
  },
  {
   "cell_type": "code",
   "execution_count": null,
   "metadata": {},
   "outputs": [],
   "source": [
    "diam(X)  # diámetro del intervalo"
   ]
  },
  {
   "cell_type": "code",
   "execution_count": null,
   "metadata": {
    "slideshow": {
     "slide_type": "fragment"
    }
   },
   "outputs": [],
   "source": [
    "big(X)"
   ]
  },
  {
   "cell_type": "code",
   "execution_count": null,
   "metadata": {
    "slideshow": {
     "slide_type": "fragment"
    }
   },
   "outputs": [],
   "source": [
    "0.1..0.1  # otra manera de crear intervalos: garantiza que se incluyan los dos puntos finales,\n",
    "# tratados como números reales"
   ]
  },
  {
   "cell_type": "code",
   "execution_count": null,
   "metadata": {
    "slideshow": {
     "slide_type": "fragment"
    }
   },
   "outputs": [],
   "source": [
    "(0.1..0.2) + (0.3..0.4)"
   ]
  },
  {
   "cell_type": "code",
   "execution_count": null,
   "metadata": {
    "slideshow": {
     "slide_type": "subslide"
    }
   },
   "outputs": [],
   "source": [
    "@interval sin(0.1) + cos(0.2)^2   # evaluar expresión de forma garantizada"
   ]
  },
  {
   "cell_type": "code",
   "execution_count": null,
   "metadata": {
    "slideshow": {
     "slide_type": "fragment"
    }
   },
   "outputs": [],
   "source": [
    "@format standard \n",
    "IntervalBox(1..2, 3..4)   # caja en 2 dimensiones, producto Cartesiano de dos intervalos\n",
    "\n",
    "(1..2) × (3..4)"
   ]
  },
  {
   "cell_type": "markdown",
   "metadata": {
    "slideshow": {
     "slide_type": "slide"
    }
   },
   "source": [
    "## Aplicación: encerrar funciones de forma rigurosa"
   ]
  },
  {
   "cell_type": "markdown",
   "metadata": {},
   "source": [
    "El evaluar la extensión intervalar de una función sobre un intervalo da un encierro, pero que puede ser una sobre-estimación.\n",
    "\n",
    "Podemos mejorar esto al partir el intervalo en pedazos, lo cual se llama \"desmenuzar\" el interval (\"mince\"):"
   ]
  },
  {
   "cell_type": "code",
   "execution_count": null,
   "metadata": {
    "slideshow": {
     "slide_type": "subslide"
    }
   },
   "outputs": [],
   "source": [
    "function mince(x::Interval, n) \n",
    "    nodes = linspace(x.lo, x.hi, n+1)\n",
    "    \n",
    "    return [Interval(nodes[i], nodes[i+1]) for i in 1:length(nodes) - 1]\n",
    "end"
   ]
  },
  {
   "cell_type": "code",
   "execution_count": null,
   "metadata": {
    "slideshow": {
     "slide_type": "fragment"
    }
   },
   "outputs": [],
   "source": [
    "f(x) = cos(x) + 0.5*sin(2*x)\n",
    "\n",
    "function image(f, X)\n",
    "    II = f(X)\n",
    "   \n",
    "    if II.lo == -Inf\n",
    "        II = -100..(II.hi)\n",
    "    end\n",
    "    \n",
    "    return II\n",
    "end"
   ]
  },
  {
   "cell_type": "code",
   "execution_count": null,
   "metadata": {
    "slideshow": {
     "slide_type": "fragment"
    }
   },
   "outputs": [],
   "source": [
    "intervals = mince(-5..5, 10)\n",
    "    \n",
    "images = image.(f, intervals)"
   ]
  },
  {
   "cell_type": "code",
   "execution_count": null,
   "metadata": {},
   "outputs": [],
   "source": [
    "using Interact, Plots, IntervalArithmetic; gr()"
   ]
  },
  {
   "cell_type": "code",
   "execution_count": null,
   "metadata": {
    "slideshow": {
     "slide_type": "subslide"
    }
   },
   "outputs": [],
   "source": [
    "function bound_function(f, X, N ,ylims=(-2,2))  \n",
    "    @manipulate for N in slider(1:200, value=1)\n",
    "        intervals = mince(X, N)    \n",
    "        images = image.(f, intervals)\n",
    "\n",
    "        boxes = [IntervalBox(intervals[i], images[i]) for i in 1:length(intervals)]\n",
    "        contains_zero = [0 ∈ images[i] for i in 1:length(images)]\n",
    "\n",
    "        if length(boxes[contains_zero]) > 0\n",
    "            plot(boxes[contains_zero], ylim=ylims)   # uses \"plot recipe\" for IntervalBoxes\n",
    "        end\n",
    "\n",
    "        if length(boxes[.!(contains_zero)]) > 0\n",
    "            plot!(boxes[.!(contains_zero)], ylim=ylims)  \n",
    "        end\n",
    "        plot!(f)\n",
    "    end\n",
    "end"
   ]
  },
  {
   "cell_type": "code",
   "execution_count": null,
   "metadata": {
    "slideshow": {
     "slide_type": "subslide"
    }
   },
   "outputs": [],
   "source": [
    "f(x) = cos(x) + 0.5*sin(2*x)\n",
    "\n",
    "bound_function(f, -5..5,  50, (-2,2))"
   ]
  },
  {
   "cell_type": "code",
   "execution_count": null,
   "metadata": {
    "slideshow": {
     "slide_type": "subslide"
    }
   },
   "outputs": [],
   "source": [
    "\n",
    "f(x) = (1/50)*log(abs(3*(1-x) + 1)) + x^2 + 1\n",
    "\n",
    "bound_function(f, 0.8..2.0, 100, (1,4))\n"
   ]
  },
  {
   "cell_type": "code",
   "execution_count": null,
   "metadata": {
    "slideshow": {
     "slide_type": "subslide"
    }
   },
   "outputs": [],
   "source": [
    "bound_function(x->sin(1/x), 0.01..0.2, (-1,1))"
   ]
  },
  {
   "cell_type": "markdown",
   "metadata": {
    "slideshow": {
     "slide_type": "slide"
    }
   },
   "source": [
    "## Aplicación: Encontrar raíces al excluir regiones"
   ]
  },
  {
   "cell_type": "markdown",
   "metadata": {
    "slideshow": {
     "slide_type": "fragment"
    }
   },
   "source": [
    "Podemos utilizar intervalos para encontrar raíces. La idea es que si podemos encontrar un intervalo $X$ tal que $0 \\notin f(X)$, entonces forzosamente no puede haber ningún $x \\in X$ con $f(x) = 0$, y por lo tanto no hay ninguna raíz de $f$ en $X$."
   ]
  },
  {
   "cell_type": "code",
   "execution_count": null,
   "metadata": {
    "slideshow": {
     "slide_type": "slide"
    }
   },
   "outputs": [],
   "source": [
    "using IntervalArithmetic"
   ]
  },
  {
   "cell_type": "code",
   "execution_count": null,
   "metadata": {
    "slideshow": {
     "slide_type": "subslide"
    }
   },
   "outputs": [],
   "source": [
    "f(x) = x^2 - 2 "
   ]
  },
  {
   "cell_type": "code",
   "execution_count": null,
   "metadata": {
    "slideshow": {
     "slide_type": "fragment"
    }
   },
   "outputs": [],
   "source": [
    "@format standard\n",
    "X = 3..4 "
   ]
  },
  {
   "cell_type": "code",
   "execution_count": null,
   "metadata": {
    "slideshow": {
     "slide_type": "fragment"
    }
   },
   "outputs": [],
   "source": [
    "typeof(X)   "
   ]
  },
  {
   "cell_type": "code",
   "execution_count": null,
   "metadata": {
    "slideshow": {
     "slide_type": "subslide"
    }
   },
   "outputs": [],
   "source": [
    "X = 3..4\n",
    "\n",
    "X^2"
   ]
  },
  {
   "cell_type": "code",
   "execution_count": null,
   "metadata": {
    "slideshow": {
     "slide_type": "fragment"
    }
   },
   "outputs": [],
   "source": [
    "f(y) = y^2 - 2   # standard Julia function\n",
    "\n",
    "f(X)   # automatically gives natural interval extension"
   ]
  },
  {
   "cell_type": "code",
   "execution_count": null,
   "metadata": {
    "slideshow": {
     "slide_type": "fragment"
    }
   },
   "outputs": [],
   "source": [
    "f(3..∞)  "
   ]
  },
  {
   "cell_type": "markdown",
   "metadata": {
    "slideshow": {
     "slide_type": "fragment"
    }
   },
   "source": [
    "Esto ¡nos da una **demostración rigurosa** que $f$ no tiene ninguna raíz en $[3, \\infty]$! Esto es simplemente imposible con las técnicas usuales."
   ]
  },
  {
   "cell_type": "markdown",
   "metadata": {
    "slideshow": {
     "slide_type": "subslide"
    }
   },
   "source": [
    "## Varias raíces: bisección"
   ]
  },
  {
   "cell_type": "markdown",
   "metadata": {},
   "source": [
    "Si una función tiene múltiples raíces, quisiéramos poder encontrar *todas ellas*.  Esto está imposible con los métodos usuales."
   ]
  },
  {
   "cell_type": "markdown",
   "metadata": {},
   "source": [
    "Una manera de proceder es el desmenuzar el intervalo y eliminar subintervalos en los cuales *no* hay raíz. Para hacerlo, desarrollamos un árbol de intervalos con el siguiente algoritmo:"
   ]
  },
  {
   "cell_type": "markdown",
   "metadata": {
    "slideshow": {
     "slide_type": "fragment"
    }
   },
   "source": [
    "[0] Empezar con una lista de trabajo $L := [X]$; y una lista de raíces $R := [ ]$.\n",
    "\n",
    "\n",
    "[1] Agarrar el último elemento de $L$ como $X$.\n",
    "\n",
    "\n",
    "[2] Si $\\mathrm{diam}(X) < \\epsilon$, empujar $X$ a $R$.\n",
    "\n",
    "\n",
    "[3] Si $0 \\notin f(X)$, borrar $X$.\n",
    "\n",
    "\n",
    "[4] Bisectar $X$ y empujar los resultantes $X_1$ and $X_2$ a $L$."
   ]
  },
  {
   "cell_type": "markdown",
   "metadata": {},
   "source": [
    "En Julia queda casi igual:"
   ]
  },
  {
   "cell_type": "code",
   "execution_count": null,
   "metadata": {
    "slideshow": {
     "slide_type": "subslide"
    }
   },
   "outputs": [],
   "source": [
    "function bisection(f, X, ϵ=1e-3)\n",
    "    L = [X]; R = [ ]\n",
    "\n",
    "    while !isempty(L)\n",
    "        X = pop!(L)\n",
    "\n",
    "        if diam(X) < ϵ \n",
    "            push!(R, X)\n",
    "            continue \n",
    "        endk\n",
    "\n",
    "        if 0 ∈ f(X) \n",
    "            X1, X2 = bisect(X)\n",
    "            push!(L, X1, X2)\n",
    "        end\n",
    "    end \n",
    "\n",
    "    return R\n",
    "end"
   ]
  },
  {
   "cell_type": "code",
   "execution_count": null,
   "metadata": {
    "slideshow": {
     "slide_type": "subslide"
    }
   },
   "outputs": [],
   "source": [
    "bisection(x->x^2 - 2, -∞..∞)"
   ]
  },
  {
   "cell_type": "markdown",
   "metadata": {},
   "source": [
    "¡Nota que esta función sirve también para funciones en dimensión superior! Nunca se mencionó que $X$ fuera un intervalo. Casi todo funciona si es una caja, siempre y cuando existan las funciones `diam` y `bisect` para las cajas, y cambiemos `0 ∈ f(X)` por una función `contiene_cero`."
   ]
  },
  {
   "cell_type": "markdown",
   "metadata": {
    "slideshow": {
     "slide_type": "subslide"
    }
   },
   "source": [
    "## Método de Newton intervalar"
   ]
  },
  {
   "cell_type": "markdown",
   "metadata": {},
   "source": [
    "Hasta ahora, hemos *excluido* raíces. Hay una versión del método de Newton para intervalos, el cual permite garantizar que *sí* existe una raíz, y que es única."
   ]
  },
  {
   "cell_type": "markdown",
   "metadata": {},
   "source": [
    "La idea es tomar no sólo la recta tangente, si no **todos las pendientes $f'(X)$**. \n",
    "Esto echa mano del **teorema del valor medio** para funciones continuamente diferenciables, que dice que si hay una raíz $x^*$ en $X$ y $x$ es algún punto en X$, entonces\n",
    "\n",
    "$$f(x) - f(x^*) = f(x) = (x - x^*) \\cdot f'(\\xi)$$\n",
    "\n",
    "para algún $\\xi \\in X$.\n",
    "\n",
    "Por lo tanto, tomando $x = m(X)$, vemos que el intervalo $m(X) - f(m(X)) \\, / \\, f'(X)$ debe contener la raíz.\n"
   ]
  },
  {
   "cell_type": "markdown",
   "metadata": {},
   "source": [
    "Aquí, $f'(X)$ denota la extensión intervalar de la derivada de $f$, evaluada en $X$.\n",
    "\n",
    "Afortunadamente, esto se puede calcular al utilizar diferenciación automática con intervalos."
   ]
  },
  {
   "cell_type": "markdown",
   "metadata": {},
   "source": [
    "Definimos\n",
    "\n",
    "$\\displaystyle \\mathcal{N}_f(X) := m(X) - \\frac{f([m(X)])}{f'(X)}$,\n",
    "\n",
    "donde $m(X) := $ el punto medio de $X$\n",
    "\n",
    "Hay un teorema que dice:\n",
    "\n",
    "- $\\mathcal{N}_f(X) \\subset X \\Longrightarrow \\text{existe una única raíz en } X$\n",
    "\n",
    "- $\\mathcal{N}_f(X) \\cap X = \\emptyset \\Longrightarrow \\text{no hay raíz en } X$"
   ]
  },
  {
   "cell_type": "markdown",
   "metadata": {},
   "source": [
    "Hay una extensión en la cual se permite que $f'(X)$ contenga $0$."
   ]
  }
 ],
 "metadata": {
  "kernelspec": {
   "display_name": "Julia 0.6.2",
   "language": "julia",
   "name": "julia-0.6"
  },
  "language_info": {
   "file_extension": ".jl",
   "mimetype": "application/julia",
   "name": "julia",
   "version": "0.6.2"
  }
 },
 "nbformat": 4,
 "nbformat_minor": 2
}
